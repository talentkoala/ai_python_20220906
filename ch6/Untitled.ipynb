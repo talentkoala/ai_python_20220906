{
 "cells": [
  {
   "cell_type": "markdown",
   "id": "b80a7ae0",
   "metadata": {},
   "source": [
    "## 輸入四個月的支出金額後列出最多與最少的支出金額。"
   ]
  },
  {
   "cell_type": "code",
   "execution_count": 3,
   "id": "371f6ba4",
   "metadata": {},
   "outputs": [
    {
     "name": "stdout",
     "output_type": "stream",
     "text": [
      "請輸入1個月的支出金額5000\n",
      "請輸入2個月的支出金額4000\n",
      "請輸入3個月的支出金額3500\n",
      "請輸入4個月的支出金額7000\n",
      "max:7000\n",
      "min:3500\n",
      "Sum:19500\n",
      "[3500, 4000, 5000, 7000]\n"
     ]
    }
   ],
   "source": [
    "priceList = []\n",
    "priceSum = 0\n",
    "for i in range(1,5):\n",
    "    p = int(input(f\"請輸入{i}個月的支出金額\"))\n",
    "    priceSum += p\n",
    "    priceList.append(p)\n",
    "priceList.sort()\n",
    "# print(min(priceList))\n",
    "# print(max(priceList))\n",
    "print(f\"max:{priceList[-1]}\")\n",
    "print(f\"min:{priceList[0]}\")\n",
    "print(f\"Sum:{priceSum}\")\n",
    "print(f\"{priceList}\")"
   ]
  },
  {
   "cell_type": "markdown",
   "id": "49aea849",
   "metadata": {},
   "source": [
    "## list 傳送與接收\n",
    "+ 傳送與接收資料可以使用 list。\n",
    "+ 傳送與接收都是相同的位址上的資料。\n",
    "+ list 內可以更新單一資料或著調整\n",
    "   (append、extend、insert、remove、pop、del) 資料。\n",
    "+ list 若以指派方式設定為新的list：\n",
    "  + 資料將會儲存在新的位址。\n",
    "  + 原來 list 沒有變更。"
   ]
  },
  {
   "cell_type": "code",
   "execution_count": 4,
   "id": "6a309711",
   "metadata": {},
   "outputs": [
    {
     "name": "stdout",
     "output_type": "stream",
     "text": [
      "2066592259776\n",
      "2066592259776\n",
      "2066592259776\n",
      "函數內:  [10, 20, [1, 2]]\n",
      "完成函數: [10, 20, [1, 2]]\n"
     ]
    }
   ],
   "source": [
    "def chnageme(mylist):\n",
    "    print(id(mylist))\n",
    "    mylist.append([1,2])\n",
    "    print(id(mylist))\n",
    "    print(\"函數內: \",mylist)\n",
    "    return\n",
    "mylist = [10,20]\n",
    "print(id(mylist))\n",
    "chnageme(mylist)\n",
    "print(\"完成函數:\",mylist)    "
   ]
  },
  {
   "cell_type": "markdown",
   "id": "108d39a6",
   "metadata": {},
   "source": [
    "# list 計算式與固定間隔取值"
   ]
  },
  {
   "cell_type": "markdown",
   "id": "715001b9",
   "metadata": {},
   "source": [
    "+ 於 list 使用上，+= 與 = 代表意義不同。\n",
    "+ += 於使用上具有`修改資料結構本身`，而 = 是重新分配資料內容。\n",
    "+ 所以 x+=1 `會在原本的位置上進行修改`，但 x=x+1 則是`分配到新的位置`。\n",
    "+ List 的取值動作除了起始與結束，也可以加入第三個參數：固定間隔。"
   ]
  },
  {
   "cell_type": "markdown",
   "id": "9561d26f",
   "metadata": {},
   "source": [
    "## list 計算式"
   ]
  },
  {
   "cell_type": "code",
   "execution_count": 13,
   "id": "bf9f6ab1",
   "metadata": {},
   "outputs": [
    {
     "name": "stdout",
     "output_type": "stream",
     "text": [
      "[0, 1, 2] [0, 1, 2]\n",
      "True\n",
      "======================\n",
      "2066609797248\n",
      "2066609797248\n",
      "z: 2066609808832\n",
      "======================\n",
      "x: 2066609797248\n",
      "======================\n",
      "[0, 1, 2, 89, 99] [0, 1, 2]\n",
      "======================\n",
      "2066609795392\n",
      "======================\n",
      "2066609797248\n",
      "======================\n",
      "False\n"
     ]
    }
   ],
   "source": [
    "x=y=[0,1,2]\n",
    "print(x,y)\n",
    "print(x is y)\n",
    "print(\"======================\")\n",
    "print(id(x))\n",
    "print(id(y))\n",
    "z = x + [15,16]\n",
    "print(\"z:\",id(z))\n",
    "print(\"======================\")\n",
    "print(\"x:\",id(x))\n",
    "print(\"======================\")\n",
    "x = x + [89,99]\n",
    "print(x,y)\n",
    "print(\"======================\")\n",
    "print(id(x))\n",
    "print(\"======================\")\n",
    "print(id(y))\n",
    "print(\"======================\")\n",
    "print(x is y)"
   ]
  },
  {
   "cell_type": "code",
   "execution_count": 17,
   "id": "58680437",
   "metadata": {},
   "outputs": [
    {
     "name": "stdout",
     "output_type": "stream",
     "text": [
      "[0, 1, 2] [0, 1, 2]\n",
      "2066613392000\n",
      "2066613392000\n",
      "[0, 1, 2, 89, 99] [0, 1, 2, 89, 99]\n",
      "2066613392000\n",
      "2066613392000\n",
      "True\n"
     ]
    }
   ],
   "source": [
    "a=b=[0,1,2]\n",
    "print(a,b)\n",
    "print(id(a))\n",
    "print(id(b))\n",
    "a += [89,99]\n",
    "print(a,b)\n",
    "print(id(a))\n",
    "print(id(b))\n",
    "print(a is b)"
   ]
  },
  {
   "cell_type": "markdown",
   "id": "5685a8ef",
   "metadata": {},
   "source": [
    "## 固定間隔取值"
   ]
  },
  {
   "cell_type": "code",
   "execution_count": 21,
   "id": "085cb83a",
   "metadata": {},
   "outputs": [
    {
     "name": "stdout",
     "output_type": "stream",
     "text": [
      "9 8 7 6 5 4 3 2 1 0 \n",
      "0 2 4 6 8 \n",
      "0 3 6 9 \n",
      "10 16 22 28 34 "
     ]
    }
   ],
   "source": [
    "x = range(10)\n",
    "for i in x[::-1]:\n",
    "    print(i,end=' ')\n",
    "print()  \n",
    "for i in x[::2]:\n",
    "    print(i,end = ' ')\n",
    "print() \n",
    "for i in x[::3]:\n",
    "    print(i,end = ' ')\n",
    "print()\n",
    "x = range(50)\n",
    "for i in x[10:40:6]:\n",
    "    print(i,end=' ')\n",
    "    "
   ]
  },
  {
   "cell_type": "markdown",
   "id": "9ed88c97",
   "metadata": {},
   "source": [
    "# 函數其他用法\n",
    "## 預設參數"
   ]
  },
  {
   "cell_type": "code",
   "execution_count": 27,
   "id": "8ae4b44b",
   "metadata": {},
   "outputs": [
    {
     "name": "stdout",
     "output_type": "stream",
     "text": [
      "Name: may\n",
      "Age: 20\n",
      "=====================\n",
      "Name: Joy\n",
      "Age: 20\n",
      "=====================\n",
      "Name: 300\n",
      "Age: 20\n",
      "=====================\n",
      "Name: max\n",
      "Age: 45\n",
      "=====================\n",
      "Name: may\n",
      "Age: 300\n",
      "=====================\n"
     ]
    }
   ],
   "source": [
    "def printinfo(name=\"may\",age=20):\n",
    "    print(\"Name:\",name)\n",
    "    print(\"Age:\",age)\n",
    "    print(\"=====================\")    \n",
    "printinfo()    \n",
    "printinfo(\"Joy\")       \n",
    "printinfo(300)    \n",
    "printinfo('max',45) \n",
    "printinfo(age=300) "
   ]
  },
  {
   "cell_type": "markdown",
   "id": "0eb1324b",
   "metadata": {},
   "source": [
    "### 不固定接收數量\n",
    "\n",
    "( ) 內接收資料若是以 * 表示代表可以引入不定數量的參數：\n",
    "\n",
    "一個*代表以 tuple 的方式引入\n",
    "\n",
    "兩個*代表以 dict 的方式引入\n",
    "\n",
    "接收資料若需加入多個設定，這些設定請依照順序排列：\n",
    "\n",
    "第一個參數設定為接收值 \n",
    "\n",
    "第二個參數設定為初始值\n",
    "\n",
    "第三個參數設定為不固定值，可以是 tuple 或 dict 方式"
   ]
  },
  {
   "cell_type": "code",
   "execution_count": 35,
   "id": "f942b0e1",
   "metadata": {},
   "outputs": [
    {
     "name": "stdout",
     "output_type": "stream",
     "text": [
      "age1: 1\n",
      "age2: defaul\n",
      "age1: 1\n",
      "age2: 2\n",
      "age1: 1\n",
      "age2: 2\n",
      "each_arg: 3\n"
     ]
    }
   ],
   "source": [
    "def fun1(ag1,ag2='defaul',*ag3):\n",
    "    print(\"age1:\",ag1)\n",
    "    print(\"age2:\",ag2)\n",
    "    for each_arg in ag3:\n",
    "        print(\"each_arg:\",each_arg)\n",
    "fun1(1)    \n",
    "fun1(1,2)    \n",
    "fun1(1,2,3)    "
   ]
  },
  {
   "cell_type": "code",
   "execution_count": 39,
   "id": "78b5f168",
   "metadata": {},
   "outputs": [
    {
     "name": "stdout",
     "output_type": "stream",
     "text": [
      "arg3: <class 'tuple'>\n",
      "each_arg: 1\n",
      "arg3: <class 'tuple'>\n",
      "each_arg: 1\n",
      "each_arg: 2\n",
      "arg3: <class 'tuple'>\n",
      "each_arg: 1\n",
      "each_arg: 2\n",
      "each_arg: 3\n",
      "arg3: <class 'tuple'>\n"
     ]
    }
   ],
   "source": [
    "def fun3(*arg3):\n",
    "    for each_arg in arg3:\n",
    "        print(\"each_arg:\",each_arg)        \n",
    "    print(\"arg3:\",type(arg3))\n",
    "fun3()\n",
    "fun3(1)\n",
    "fun3(1,2)\n",
    "fun3(1,2,3)"
   ]
  },
  {
   "cell_type": "code",
   "execution_count": 42,
   "id": "15a99290",
   "metadata": {
    "scrolled": true
   },
   "outputs": [
    {
     "name": "stdout",
     "output_type": "stream",
     "text": [
      "1\n",
      "default\n",
      "=======================================\n",
      "1\n",
      "2\n",
      "=======================================\n",
      "1\n",
      "2\n",
      "a:b\n",
      "name:Ken\n",
      "=======================================\n"
     ]
    }
   ],
   "source": [
    "def func4(arg1,arg2='default',**arg4):\n",
    "    print(arg1)\n",
    "    print(arg2)\n",
    "    for each_arg2 in arg4:\n",
    "        print(f\"{each_arg2}:{arg4[each_arg2]}\")\n",
    "    print(\"=======================================\")    \n",
    "func4(1)  \n",
    "func4(1,2) \n",
    "func4(1,2,a=\"b\",name=\"Ken\")"
   ]
  },
  {
   "cell_type": "code",
   "execution_count": 45,
   "id": "39a036e9",
   "metadata": {},
   "outputs": [
    {
     "name": "stdout",
     "output_type": "stream",
     "text": [
      "15\n",
      "3\n",
      "301\n"
     ]
    }
   ],
   "source": [
    "def fun4(arg1,arg2=300,*arg3):\n",
    "    sum = 0\n",
    "    sum += arg1\n",
    "    sum += arg2\n",
    "    for each_arg in arg3:\n",
    "        sum += each_arg\n",
    "    print(sum)    \n",
    "fun4(1,2,3,4,5) \n",
    "fun4(1,2)\n",
    "fun4(1)    "
   ]
  },
  {
   "cell_type": "markdown",
   "id": "7844aefa",
   "metadata": {},
   "source": [
    "## 預設值為物件時注意"
   ]
  },
  {
   "cell_type": "code",
   "execution_count": 51,
   "id": "e188608a",
   "metadata": {},
   "outputs": [
    {
     "name": "stdout",
     "output_type": "stream",
     "text": [
      "10\t\n",
      "======================================\n",
      "30\t\n",
      "======================================\n",
      "10\t20\t\n",
      "======================================\n"
     ]
    }
   ],
   "source": [
    "def fun5(v,myList=[]):\n",
    "    myList.append(v)\n",
    "    for v in myList:\n",
    "        print(v,end = '\\t')\n",
    "    print(\"\\n======================================\")    \n",
    "fun5(10)\n",
    "fun5(30,[])\n",
    "fun5(20)    \n"
   ]
  },
  {
   "cell_type": "code",
   "execution_count": 60,
   "id": "ec607696",
   "metadata": {},
   "outputs": [
    {
     "name": "stdout",
     "output_type": "stream",
     "text": [
      "Ken : 20\t\n",
      "==============================\n",
      "Ken : 20\tLucy : 10\t\n",
      "==============================\n",
      "type : C\tscore : 75\tLucy : 10\t\n",
      "==============================\n"
     ]
    }
   ],
   "source": [
    "def fun6(key,value,myMap={}):\n",
    "    myMap[key] = value\n",
    "    for k in myMap:\n",
    "        print(k,\":\",myMap[k],end='\\t')\n",
    "    print(\"\\n==============================\")        \n",
    "fun6(\"Ken\",20)    \n",
    "fun6(\"Lucy\",10)\n",
    "fun6(\"Lucy\",10,{\"type\":\"C\",\"score\":75})\n"
   ]
  },
  {
   "cell_type": "code",
   "execution_count": 69,
   "id": "b769977f",
   "metadata": {},
   "outputs": [
    {
     "name": "stdout",
     "output_type": "stream",
     "text": [
      "1 2 3 \n",
      "==========================\n",
      "1 2 3 4 5 \n",
      "==========================\n",
      "6 7 8 9 \n",
      "==========================\n"
     ]
    }
   ],
   "source": [
    "def fun7(*arg):\n",
    "    for v in arg:\n",
    "        print(v,end=\" \")\n",
    "    print()    \n",
    "    print(\"==========================\")    \n",
    "fun7(1,2,3)       \n",
    "fun7(1,2,3,4,5)\n",
    "myList = [6,7,8,9]\n",
    "# *myList 展開myList\n",
    "fun7(*myList)"
   ]
  },
  {
   "cell_type": "markdown",
   "id": "57e8c1da",
   "metadata": {},
   "source": [
    "# 匿名函數\n",
    "+ 不需要定義函數名稱的，只需要用運算式或表達分析語法。\n",
    "+ Python 使用 lambda 語法定義匿名函數。\n",
    "+ 匿名函數是一個表達式/計算式，並不是一個執行流程區塊。\n",
    "+ 匿名函數可以出現在一般函數不允許的地方，例如像 list 內部或函數呼叫參數的位置。"
   ]
  },
  {
   "cell_type": "markdown",
   "id": "36d0acde",
   "metadata": {},
   "source": [
    "## 傳統函數 VS 匿名函數"
   ]
  },
  {
   "cell_type": "code",
   "execution_count": 71,
   "id": "2a8ef5cf",
   "metadata": {},
   "outputs": [
    {
     "name": "stdout",
     "output_type": "stream",
     "text": [
      "傳統函數處理\n",
      "432\n",
      "匿名函數:\n",
      "432\n"
     ]
    }
   ],
   "source": [
    "def f(x,y,z):\n",
    "    return x + y + z\n",
    "print(\"傳統函數處理\")\n",
    "print(f(2,30,400))\n",
    "f = lambda x,y,z : x + y + z\n",
    "print(\"匿名函數:\")\n",
    "print(f(2,30,400))"
   ]
  },
  {
   "cell_type": "code",
   "execution_count": 72,
   "id": "5df8ce64",
   "metadata": {},
   "outputs": [
    {
     "name": "stdout",
     "output_type": "stream",
     "text": [
      "v1Test2V2\n"
     ]
    }
   ],
   "source": [
    "mz = lambda a = 'Test1',b = 'Test2',c='Test3' : a + b + c\n",
    "print(mz('v1',c=\"V2\"))"
   ]
  },
  {
   "cell_type": "code",
   "execution_count": 77,
   "id": "7aca69b2",
   "metadata": {},
   "outputs": [
    {
     "name": "stdout",
     "output_type": "stream",
     "text": [
      "<class 'list'>\n",
      "<class 'function'>\n",
      "9\n",
      "<class 'function'>\n",
      "27\n",
      "<class 'function'>\n",
      "81\n"
     ]
    }
   ],
   "source": [
    "try1 = [lambda x:x**2,lambda x:x**3,lambda x:x ** 4]\n",
    "print(try1.__class__)\n",
    "for f in try1:\n",
    "    print(f.__class__)\n",
    "    print(f(3))"
   ]
  },
  {
   "cell_type": "code",
   "execution_count": 80,
   "id": "8f4c1b17",
   "metadata": {},
   "outputs": [
    {
     "name": "stdout",
     "output_type": "stream",
     "text": [
      "<class 'function'>\n",
      "9\n",
      "<class 'function'>\n",
      "27\n",
      "<class 'function'>\n",
      "81\n",
      "9\n",
      "f4\n"
     ]
    }
   ],
   "source": [
    "def f1(x):\n",
    "    return x ** 2\n",
    "def f2(x):\n",
    "    return x ** 3\n",
    "def f3(x):\n",
    "    return x ** 4\n",
    "try2 = [f1,f2,f3]\n",
    "for ff in try2:\n",
    "    print(ff.__class__)\n",
    "    print(ff(3))\n",
    "print(try2[0](3))  \n",
    "\n",
    "def f4():\n",
    "    print(\"f4\")\n",
    "myfunc = f4    \n",
    "myfunc()"
   ]
  },
  {
   "cell_type": "markdown",
   "id": "0694b49e",
   "metadata": {},
   "source": [
    "## 匿名函數可用於條件分析表達上"
   ]
  },
  {
   "cell_type": "code",
   "execution_count": 84,
   "id": "e2139188",
   "metadata": {},
   "outputs": [
    {
     "name": "stdout",
     "output_type": "stream",
     "text": [
      "不及格\n",
      "101\n",
      "101\n"
     ]
    }
   ],
   "source": [
    "score = 51\n",
    "msg = \"及格\" if score >= 60 else \"不及格\"\n",
    "print(msg)\n",
    "findmin = lambda x,y : x if x < y else y\n",
    "print(findmin(101,102))\n",
    "print(findmin(102,101))"
   ]
  },
  {
   "cell_type": "markdown",
   "id": "84147eba",
   "metadata": {},
   "source": [
    "## 模擬Switch\n",
    "因為Python沒有siwtch 可使用 lambda + map 模擬\n",
    "```java\n",
    "switch(score){\n",
    "case 10:\n",
    "print('Perfect')\n",
    "case 9:\n",
    "print('A')\n",
    "case 8:\n",
    "print('B')\n",
    "case 7:\n",
    "print('C')\n",
    "case 6:\n",
    "print('D')\n",
    "default:\n",
    "print('E')\n",
    "}\n",
    "```"
   ]
  },
  {
   "cell_type": "code",
   "execution_count": 86,
   "id": "734caabe",
   "metadata": {},
   "outputs": [
    {
     "name": "stdout",
     "output_type": "stream",
     "text": [
      "please input:100\n",
      "Perfect\n"
     ]
    }
   ],
   "source": [
    "#搭配字典，設計出分組挑選的流程\n",
    "score = int(input(\"please input:\")) \n",
    "level = score // 10\n",
    "{\n",
    "    10:lambda:print(\"Perfect\"),\n",
    "    9 : lambda: print(\"A\"),\n",
    "    8 : lambda: print(\"B\"),\n",
    "    7 : lambda: print(\"C\"),\n",
    "    6 : lambda: print(\"D\")    \n",
    "}.get(level,lambda:print(\"E\"))()"
   ]
  },
  {
   "cell_type": "markdown",
   "id": "c1276e0c",
   "metadata": {},
   "source": [
    "# Map與Filter\n",
    "+ 用法：map(function, sequence)\n",
    "+ 將複合性資料逐一取出項目再傳入到 function 操作，最後以 list 作為回傳值。\n",
    "+ filter( ) 函數用於過濾 list，過濾掉不符合條件的元素，返回由符合條件元素組成的新 list。\n",
    "+ filter 接收兩個參數，第一個為函數，第二個為 list，list 的每個元素作為參數傳遞給函數進行分析，然後返回 True 或 False，最後將返回 True 的元素放到新list中。\n"
   ]
  },
  {
   "cell_type": "markdown",
   "id": "68238ad9",
   "metadata": {},
   "source": [
    "## Map"
   ]
  },
  {
   "cell_type": "code",
   "execution_count": 90,
   "id": "167be3a3",
   "metadata": {},
   "outputs": [
    {
     "name": "stdout",
     "output_type": "stream",
     "text": [
      "[2, 4, 6, 8]\n",
      "[2, 4, 6, 8]\n",
      "[1, 2, 3, 4, 1, 2, 3, 4]\n"
     ]
    }
   ],
   "source": [
    "def multiply2(x):\n",
    "    return x * 2\n",
    "a = map(multiply2,[1,2,3,4])\n",
    "list1 = list(a)\n",
    "print(list1)\n",
    "a = map(lambda x :x*2,[1,2,3,4])\n",
    "list2 = list(a)\n",
    "print(list2)\n",
    "b = [1,2,3,4]\n",
    "c = b * 2\n",
    "print(c)"
   ]
  },
  {
   "cell_type": "code",
   "execution_count": 93,
   "id": "94fda595",
   "metadata": {},
   "outputs": [
    {
     "name": "stdout",
     "output_type": "stream",
     "text": [
      "[{'name': 'python', 'point': 10}, {'name': 'java', 'point': 8}]\n",
      "['python', 'java']\n"
     ]
    }
   ],
   "source": [
    "dictList = [{'name':'python','point':10},{'name':'java','point':8}]\n",
    "print(dictList)\n",
    "list3 = map(lambda x : x[\"name\"],dictList)\n",
    "print(list(list3))"
   ]
  },
  {
   "cell_type": "code",
   "execution_count": null,
   "id": "ed1d6bb8",
   "metadata": {},
   "outputs": [],
   "source": []
  }
 ],
 "metadata": {
  "kernelspec": {
   "display_name": "Python 3 (ipykernel)",
   "language": "python",
   "name": "python3"
  },
  "language_info": {
   "codemirror_mode": {
    "name": "ipython",
    "version": 3
   },
   "file_extension": ".py",
   "mimetype": "text/x-python",
   "name": "python",
   "nbconvert_exporter": "python",
   "pygments_lexer": "ipython3",
   "version": "3.8.11"
  }
 },
 "nbformat": 4,
 "nbformat_minor": 5
}
