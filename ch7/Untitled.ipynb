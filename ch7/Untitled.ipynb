{
 "cells": [
  {
   "cell_type": "code",
   "execution_count": 5,
   "id": "4e53eb3c",
   "metadata": {},
   "outputs": [
    {
     "name": "stdout",
     "output_type": "stream",
     "text": [
      "[{'name': 'python', 'point': 10}, {'name': 'java', 'point': 8}]\n",
      "['python', 'java']\n",
      "[10, 8]\n",
      "[100, 80]\n",
      "[True, False]\n",
      "[21, 30, 39]\n"
     ]
    }
   ],
   "source": [
    "dictList = [{'name':'python','point':10},{'name':'java','point':8}]\n",
    "print(dictList)\n",
    "list3 = map(lambda x : x[\"name\"],dictList)\n",
    "print(list(list3))\n",
    "list4 = map(lambda x:x['point'],dictList)\n",
    "print(list(list4))\n",
    "list5 = map(lambda x:x['point'] * 10,dictList)\n",
    "print(list(list5))\n",
    "list6 = map(lambda x:x['name'] == \"python\",dictList)\n",
    "print(list(list6))\n",
    "list7a = [1,2,3]\n",
    "list7b=[10,20,30]\n",
    "list7c=[5,4,3]\n",
    "list7d = [5,4,3]\n",
    "list7 = map(lambda x,y,z,a:x+y+z+a,list7a,list7b,list7c,list7d)\n",
    "print(list(list7))"
   ]
  },
  {
   "cell_type": "markdown",
   "id": "667256a4",
   "metadata": {},
   "source": [
    "## Filter"
   ]
  },
  {
   "cell_type": "code",
   "execution_count": 7,
   "id": "bef4e082",
   "metadata": {},
   "outputs": [
    {
     "name": "stdout",
     "output_type": "stream",
     "text": [
      "[2, 4, 6]\n",
      "[{'name': 'python', 'point': 10}]\n"
     ]
    }
   ],
   "source": [
    "a = [1,2,3,4,5,6]\n",
    "list8 = filter(lambda x : x%2 == 0,a)\n",
    "print(list(list8))\n",
    "dictList = [{'name':'python','point':10},{'name':'java','point':8}]\n",
    "list9 = filter(lambda x:x[\"name\"] == \"python\",dictList)\n",
    "print(list(list9))"
   ]
  },
  {
   "cell_type": "markdown",
   "id": "02c84811",
   "metadata": {},
   "source": [
    "# 模組與套件\n",
    "引用 python 檔案就以檔案的主檔案名稱作為模組名稱，\n",
    "\n",
    "+ 共有以下三種方式：\n",
    "+ import 模組\n",
    "+ import 模組 as 新模組名稱\n",
    "+ from 模組 import 模組內方法\n",
    "  + 不建議 from 模組 import *，易造成名稱衝突!"
   ]
  },
  {
   "cell_type": "code",
   "execution_count": 1,
   "id": "bb2d4c1a",
   "metadata": {},
   "outputs": [
    {
     "name": "stdout",
     "output_type": "stream",
     "text": [
      "__name__: modu\n",
      "Create\n",
      "func1\n"
     ]
    }
   ],
   "source": [
    "import modu\n",
    "ob1 = modu.test1()\n",
    "modu.fun1()"
   ]
  },
  {
   "cell_type": "markdown",
   "id": "e8a4c49b",
   "metadata": {},
   "source": [
    "## 套件\n",
    "+ 套件內可以有多個模組。\n",
    "+ 套件名稱是資料夾名稱。\n",
    "+ 建立一個叫做 happy 的資料夾，裡面放了一個 \"__init__.py\" 的空檔案。\n",
    "+ 每個套件裡都必須存在 __init__.py 這個檔案，它的目的就是告訴Python 說這個資料夾請把它當做套件來對待。\n",
    "+ __init__.py 可以是空的，也可以放一些變數或程式在裡面。"
   ]
  },
  {
   "cell_type": "code",
   "execution_count": 4,
   "id": "c385a8c5",
   "metadata": {},
   "outputs": [
    {
     "name": "stdout",
     "output_type": "stream",
     "text": [
      "Happy Python!\n",
      "Happy Python IO\n",
      "Happy Python IO\n",
      "Happy Python!\n"
     ]
    }
   ],
   "source": [
    "import happy.my_mod\n",
    "import happy.io.my_mod_io as myio\n",
    "from happy.my_mod import happy_python\n",
    "happy.my_mod.happy_python()\n",
    "happy.io.my_mod_io.happy_python()\n",
    "myio.happy_python()\n",
    "happy_python()"
   ]
  },
  {
   "cell_type": "markdown",
   "id": "700d44b3",
   "metadata": {},
   "source": [
    "# 呼叫內建模組函數"
   ]
  },
  {
   "cell_type": "markdown",
   "id": "db153392",
   "metadata": {},
   "source": [
    "## 亂數\n",
    "+ 必須加入 import  random 語法。\n",
    "+ 隨機整數：0 到 100 之間(包含100)，請加入 random.randint(0,100) 語法。\n",
    "+ 隨機數值：請加入random.random ( ) 語法。\n",
    "+ 隨機選取 0 到100 間的偶數(固定間隔)，請加入 random.randrange(0, 101, 2) 語法。"
   ]
  },
  {
   "cell_type": "code",
   "execution_count": 17,
   "id": "d7b77143",
   "metadata": {},
   "outputs": [
    {
     "name": "stdout",
     "output_type": "stream",
     "text": [
      "55\n",
      "28\n",
      "0.4658235015883244\n"
     ]
    }
   ],
   "source": [
    "import random\n",
    "a = random.randint(0,100)#包含100 產生0~100之間任一數\n",
    "print(a)\n",
    "# 偶數的亂數\n",
    "b = random.randrange(0,100,2)#0~99注意不包含100\n",
    "print(b)\n",
    "c = random.random()\n",
    "print(c)"
   ]
  },
  {
   "cell_type": "code",
   "execution_count": 26,
   "id": "0222eeb3",
   "metadata": {},
   "outputs": [
    {
     "name": "stdout",
     "output_type": "stream",
     "text": [
      "[10, 5, 20, 16]\n",
      "['i', 'b', 'd']\n",
      "Apple\n"
     ]
    }
   ],
   "source": [
    "import random\n",
    "ranList = [20,16,10,5]\n",
    "random.shuffle(ranList)\n",
    "print(ranList)\n",
    "a = random.sample(\"abcdefghij\",3)\n",
    "print(a)\n",
    "b = random.choice([\"Apple\",\"Java\",\"Python\",\"PHP\"])\n",
    "print(b)"
   ]
  },
  {
   "cell_type": "markdown",
   "id": "5ff92a37",
   "metadata": {},
   "source": [
    "## 數學函數\n",
    "+ 以下幾個函數必須引用 math 模組：\n",
    "  + sqrt(x)\t              x的平方根（x>0）\n",
    "  + pow(x, y)\t              x的y次方 的值\n",
    "  + ceil(x)\t取出不小於 x 的最小整數\n",
    "  + floor(x)\t取出不大於 x 的最大整數"
   ]
  },
  {
   "cell_type": "code",
   "execution_count": 28,
   "id": "f65bffff",
   "metadata": {},
   "outputs": [
    {
     "name": "stdout",
     "output_type": "stream",
     "text": [
      "<class 'float'>\n"
     ]
    }
   ],
   "source": [
    "import math\n",
    "# 返回浮点数x的四舍五入值。\n",
    "a = round(80.456,2)\n",
    "print(a)"
   ]
  },
  {
   "cell_type": "code",
   "execution_count": 30,
   "id": "deac849d",
   "metadata": {},
   "outputs": [
    {
     "name": "stdout",
     "output_type": "stream",
     "text": [
      "80\n",
      "-57\n"
     ]
    }
   ],
   "source": [
    "import math\n",
    "# 取得小於最接近的數 取出不大於 x 的最大整數\n",
    "a = math.floor(80.456)\n",
    "print(a)\n",
    "a = math.floor(-56.1)\n",
    "print(a)"
   ]
  },
  {
   "cell_type": "code",
   "execution_count": 31,
   "id": "b027e675",
   "metadata": {},
   "outputs": [
    {
     "name": "stdout",
     "output_type": "stream",
     "text": [
      "81\n",
      "-52\n"
     ]
    }
   ],
   "source": [
    "import math\n",
    "a = math.ceil(80.456)\n",
    "print(a)\n",
    "a = math.ceil(-52.31)\n",
    "print(a)"
   ]
  },
  {
   "attachments": {
    "image.png": {
     "image/png": "[encoded data removed]"
    }
   },
   "cell_type": "markdown",
   "id": "c6526411",
   "metadata": {},
   "source": [
    "![image.png](attachment:image.png)"
   ]
  },
  {
   "cell_type": "markdown",
   "id": "9da4d497",
   "metadata": {},
   "source": [
    "# Python 程式偵錯\n",
    "+ Syntax Errors 語法錯誤\n",
    " + 該行語法錯誤，Python 無法編譯執行。\n",
    " + 修正語法錯誤\n",
    "+ Exception 例外\n",
    " + 語法撰寫上沒有錯誤，執行時因資料邏輯或外部系統狀態發生錯誤， Python 會引發例外(Exception) \n",
    " + 如果例外沒有被處理而傳遞到Python直譯器，程式中斷執行"
   ]
  },
  {
   "cell_type": "code",
   "execution_count": 40,
   "id": "a35b92cd",
   "metadata": {},
   "outputs": [
    {
     "name": "stdout",
     "output_type": "stream",
     "text": [
      "[1, 3, 5, 7, 9, 1, 3, 5, 7, 9, 1, 3, 5, 7, 9, 1, 3, 5, 7, 9, 1, 3, 5, 7, 9, 1, 3, 5, 7, 9, 1, 3, 5, 7, 9, 1, 3, 5, 7, 9, 1, 3, 5, 7, 9, 1, 3, 5, 7, 9]\n",
      "10.0\n"
     ]
    },
    {
     "ename": "ZeroDivisionError",
     "evalue": "division by zero",
     "output_type": "error",
     "traceback": [
      "\u001b[1;31m---------------------------------------------------------------------------\u001b[0m",
      "\u001b[1;31mZeroDivisionError\u001b[0m                         Traceback (most recent call last)",
      "Input \u001b[1;32mIn [40]\u001b[0m, in \u001b[0;36m<cell line: 7>\u001b[1;34m()\u001b[0m\n\u001b[0;32m      5\u001b[0m \u001b[38;5;66;03m#print(num1 * num3)\u001b[39;00m\n\u001b[0;32m      6\u001b[0m \u001b[38;5;28mprint\u001b[39m(num1\u001b[38;5;241m/\u001b[39mnum2)\n\u001b[1;32m----> 7\u001b[0m \u001b[38;5;28mprint\u001b[39m(\u001b[43mnum1\u001b[49m\u001b[38;5;241;43m/\u001b[39;49m\u001b[43m(\u001b[49m\u001b[43mnum2\u001b[49m\u001b[43m \u001b[49m\u001b[38;5;241;43m-\u001b[39;49m\u001b[43m \u001b[49m\u001b[38;5;241;43m1\u001b[39;49m\u001b[43m)\u001b[49m)\n\u001b[0;32m      8\u001b[0m \u001b[38;5;28mprint\u001b[39m(\u001b[38;5;124m\"\u001b[39m\u001b[38;5;124mTest1\u001b[39m\u001b[38;5;124m\"\u001b[39m)\n",
      "\u001b[1;31mZeroDivisionError\u001b[0m: division by zero"
     ]
    }
   ],
   "source": [
    "num1 = 10\n",
    "num2 = 1\n",
    "nums = [1,3,5,7,9]\n",
    "print(num1 * nums)\n",
    "#print(num1 * num3)\n",
    "print(num1/num2)\n",
    "print(num1/(num2 - 1))\n",
    "print(\"Test1\")"
   ]
  },
  {
   "cell_type": "markdown",
   "id": "8184a165",
   "metadata": {},
   "source": [
    "## 例外語法\n",
    "try:\n",
    "    保護的程式區段\n",
    "    \n",
    "except 例外1 :\n",
    "    例外1發生時執行的程式\n",
    "    \n",
    "except :\n",
    "    其他例外發生時執行的程式\n",
    "    #未指定例外型態，捕捉所有例外物件\n",
    "    \n",
    "else:\n",
    "    若try程式區段沒產生例外執行的程式\n",
    "    \n",
    "finally:\n",
    "    不管有沒有發生例外都會執行的程式"
   ]
  },
  {
   "cell_type": "code",
   "execution_count": 49,
   "id": "d4d04d41",
   "metadata": {},
   "outputs": [
    {
     "name": "stdout",
     "output_type": "stream",
     "text": [
      "Error發生 NameError\n",
      "Test Try\n"
     ]
    }
   ],
   "source": [
    "num1 = 10\n",
    "num2 = 0\n",
    "nums = [1,3,5,7,9]\n",
    "\n",
    "try:\n",
    "    #num1 / num2\n",
    "    print(num1 * num3)\n",
    "    print(\"Test 2\")\n",
    "except ZeroDivisionError:\n",
    "    print(\"Error發生 分母為0\")\n",
    "except NameError:    \n",
    "    print(\"Error發生 NameError\")\n",
    "except:    \n",
    "    print(\"例外產生\")     #一定放最後   \n",
    "\n",
    "    \n",
    "print(\"Test Try\")    "
   ]
  },
  {
   "cell_type": "code",
   "execution_count": 55,
   "id": "08cca3b6",
   "metadata": {},
   "outputs": [
    {
     "name": "stdout",
     "output_type": "stream",
     "text": [
      "NameError 或 IndexError 發生\n"
     ]
    }
   ],
   "source": [
    "num1 = 10\n",
    "num2 = 0\n",
    "nums = [1,3,5,7,9]\n",
    "try:\n",
    "    #num1/num2\n",
    "    #print(num1*num3)\n",
    "    nums[100]\n",
    "except ZeroDivisionError:\n",
    "    print(\"ZeroDivisionError\")\n",
    "except (NameError,IndexError):\n",
    "    print(\"NameError 或 IndexError 發生\")"
   ]
  },
  {
   "cell_type": "code",
   "execution_count": null,
   "id": "0a9275bd",
   "metadata": {},
   "outputs": [],
   "source": []
  }
 ],
 "metadata": {
  "kernelspec": {
   "display_name": "Python 3 (ipykernel)",
   "language": "python",
   "name": "python3"
  },
  "language_info": {
   "codemirror_mode": {
    "name": "ipython",
    "version": 3
   },
   "file_extension": ".py",
   "mimetype": "text/x-python",
   "name": "python",
   "nbconvert_exporter": "python",
   "pygments_lexer": "ipython3",
   "version": "3.8.11"
  }
 },
 "nbformat": 4,
 "nbformat_minor": 5
}
