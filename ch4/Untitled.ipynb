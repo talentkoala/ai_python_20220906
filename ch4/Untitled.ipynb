{
 "cells": [
  {
   "cell_type": "markdown",
   "id": "17ec33fd",
   "metadata": {},
   "source": [
    "## 接龍作業"
   ]
  },
  {
   "cell_type": "code",
   "execution_count": 1,
   "id": "21379336",
   "metadata": {},
   "outputs": [
    {
     "name": "stdout",
     "output_type": "stream",
     "text": [
      "請輸入一個字串abc\n",
      "請輸入-c-開始的字串:cab\n",
      "上一個自串:abc-cab\n",
      "請輸入-b-開始的字串:bbd\n",
      "上一個自串:abc-cab-bbd\n",
      "請輸入-d-開始的字串:ggg\n",
      "上一個自串:abc-cab-bbd\n",
      "請輸入-d-開始的字串:ggg\n",
      "上一個自串:abc-cab-bbd\n",
      "請輸入-d-開始的字串:ggg\n",
      "上一個自串:abc-cab-bbd\n",
      "請輸入-d-開始的字串:ggg\n",
      "上一個自串:abc-cab-bbd\n",
      "請輸入-d-開始的字串:gggg\n",
      "上一個自串:abc-cab-bbd\n",
      "請輸入-d-開始的字串:gggg\n",
      "上一個自串:abc-cab-bbd\n"
     ]
    }
   ],
   "source": [
    "count = 0\n",
    "txt = input(\"請輸入一個字串\")\n",
    "strList = []\n",
    "msg = txt\n",
    "strList.append(txt)\n",
    "while count <= 5:\n",
    "    tmpTxt = input(f\"請輸入-{txt[-1]}-開始的字串:\")\n",
    "    if tmpTxt[0] == txt[-1]:\n",
    "        txt = tmpTxt\n",
    "        strList.append(tmpTxt)\n",
    "        msg = \"-\".join(strList)\n",
    "    else:\n",
    "        count+=1\n",
    "    print(f\"上一個自串:{msg}\")"
   ]
  },
  {
   "cell_type": "markdown",
   "id": "f4921855",
   "metadata": {},
   "source": [
    "## 部分取值補充"
   ]
  },
  {
   "cell_type": "code",
   "execution_count": 7,
   "id": "2093ac52",
   "metadata": {},
   "outputs": [
    {
     "name": "stdout",
     "output_type": "stream",
     "text": [
      "['A', 'C', 'E']\n",
      "['C', 'D']\n",
      "['C', 'D', 'E']\n",
      "[]\n",
      "['E', 'D', 'C']\n",
      "['E', 'D', 'C', 'B', 'A']\n"
     ]
    }
   ],
   "source": [
    "list1 = ['A','B','C','D','E']\n",
    "print(list1[::2])\n",
    "print(list1[-3:-1])\n",
    "print(list1[-3:])\n",
    "print(list1[-1:-3])\n",
    "print(list1[-1:-4:-1])\n",
    "print(list1[::-1])"
   ]
  },
  {
   "cell_type": "markdown",
   "id": "1e2a986a",
   "metadata": {},
   "source": [
    "## 切片記憶體的影響"
   ]
  },
  {
   "cell_type": "code",
   "execution_count": 8,
   "id": "13dce51a",
   "metadata": {},
   "outputs": [
    {
     "name": "stdout",
     "output_type": "stream",
     "text": [
      "[0, 1, 2, 3, 4, 5]\n",
      "list2: [0, 1, 2, 3, 4, 5, 6, 7, 8, 9]\n",
      "newList: [10, 1, 2, 3, 4, 5]\n"
     ]
    }
   ],
   "source": [
    "list2 = [0,1,2,3,4,5,6,7,8,9]\n",
    "newList = list2[0:6] #會回傳新的list\n",
    "print(newList)\n",
    "newList[0] = 10\n",
    "print(\"list2:\",list2)\n",
    "print(\"newList:\",newList)"
   ]
  },
  {
   "cell_type": "markdown",
   "id": "b612af42",
   "metadata": {},
   "source": [
    "## list 項目擴展資料\n",
    "+ extend 擴展資料：\n",
    "  + 如果引號括起來的字串有 [ ] 將會拆解成好幾個資料。\n",
    "  + 可以把其他 list 加入到這個 list 內，擴展多個欄位。"
   ]
  },
  {
   "cell_type": "code",
   "execution_count": 9,
   "id": "751b7341",
   "metadata": {},
   "outputs": [
    {
     "name": "stdout",
     "output_type": "stream",
     "text": [
      "擴展之前: ['a', 'b', 'c']\n",
      "擴展之前長度: 3\n",
      "擴展之後: ['a', 'b', 'c', 'def', 'ghij']\n",
      "擴展之後長度: 5\n"
     ]
    }
   ],
   "source": [
    "list1 = ['a','b','c']\n",
    "print(\"擴展之前:\",list1)\n",
    "print(\"擴展之前長度:\",len(list1))\n",
    "list1.extend([\"def\",\"ghij\"])\n",
    "print(\"擴展之後:\",list1)\n",
    "print(\"擴展之後長度:\",len(list1))\n"
   ]
  },
  {
   "cell_type": "markdown",
   "id": "5fe7b670",
   "metadata": {},
   "source": [
    "## list 項目插入新資料\n",
    "+ list 可使用 insert 方式插入新的資料：\n",
    "   + list.insert(索引值，插入的資料)。\n",
    "   + 若索引值超出範圍則會改為 append 方式附加。"
   ]
  },
  {
   "cell_type": "code",
   "execution_count": 13,
   "id": "325c2131",
   "metadata": {},
   "outputs": [
    {
     "name": "stdout",
     "output_type": "stream",
     "text": [
      "['this', 'is', 'list']\n",
      "['this', 'item', 'is', 'list']\n",
      "['this', 'item', 'is', 'list', '88']\n"
     ]
    }
   ],
   "source": [
    "list1 = ['this','is','list']\n",
    "print(list1)\n",
    "list1.insert(1,'item')\n",
    "print(list1)\n",
    "list1.insert(88,'88')\n",
    "print(list1)"
   ]
  },
  {
   "cell_type": "markdown",
   "id": "714f3d43",
   "metadata": {},
   "source": [
    "### 請問以下的結果會是什麼？"
   ]
  },
  {
   "cell_type": "code",
   "execution_count": 14,
   "id": "3d01753f",
   "metadata": {},
   "outputs": [
    {
     "name": "stdout",
     "output_type": "stream",
     "text": [
      "['a', 'x', 'b', 'c']\n"
     ]
    }
   ],
   "source": [
    "list1 = ['a', 'b', 'c']\n",
    "list1.insert(1, 'x')\n",
    "print(list1)"
   ]
  },
  {
   "cell_type": "markdown",
   "id": "2f15b491",
   "metadata": {},
   "source": [
    "## 移除 \n",
    "+ list 可透過以下三種方式移除項目：\n",
    "  + list.remove( )\n",
    "  + list.pop( )\n",
    "  + del list[ ]"
   ]
  },
  {
   "cell_type": "markdown",
   "id": "41f05b60",
   "metadata": {},
   "source": [
    "### pop"
   ]
  },
  {
   "cell_type": "code",
   "execution_count": 19,
   "id": "fd02c1c1",
   "metadata": {},
   "outputs": [
    {
     "name": "stdout",
     "output_type": "stream",
     "text": [
      "['Ken', 'Vivin', 'Lindy', 'Lucy']\n",
      "Lucy\n",
      "['Ken', 'Vivin', 'Lindy']\n",
      "['Ken', 'Lindy']\n",
      "v2: Vivin\n"
     ]
    }
   ],
   "source": [
    "list2 = ['Ken','Vivin','Lindy','Lucy']\n",
    "print(list2)\n",
    "v1 = list2.pop() #取出最後一筆元素\n",
    "print(v1)\n",
    "print(list2)\n",
    "v2 = list2.pop(1) #取出指定index的元素\n",
    "print(list2)\n",
    "print(\"v2:\",v2)"
   ]
  },
  {
   "cell_type": "markdown",
   "id": "d66b9238",
   "metadata": {},
   "source": [
    "#### 請問以下的結果會是什麼？"
   ]
  },
  {
   "cell_type": "code",
   "execution_count": 20,
   "id": "ac66dde8",
   "metadata": {},
   "outputs": [
    {
     "name": "stdout",
     "output_type": "stream",
     "text": [
      "['1', 'x', '2', 'x']\n"
     ]
    }
   ],
   "source": [
    "list1 = ['1','x','2','x','3']\n",
    "list1.pop()\n",
    "print(list1)"
   ]
  },
  {
   "cell_type": "code",
   "execution_count": 22,
   "id": "8be1a0fd",
   "metadata": {},
   "outputs": [
    {
     "name": "stdout",
     "output_type": "stream",
     "text": [
      "['1', '2', 'x', '3']\n"
     ]
    }
   ],
   "source": [
    "list1 = ['1','x','2','x','3']\n",
    "list1.pop(1)\n",
    "print(list1)"
   ]
  },
  {
   "cell_type": "markdown",
   "id": "66357221",
   "metadata": {},
   "source": [
    "## remove"
   ]
  },
  {
   "cell_type": "markdown",
   "id": "9e084ddb",
   "metadata": {},
   "source": [
    "#### 請問以下的結果會是什麼？"
   ]
  },
  {
   "cell_type": "code",
   "execution_count": 23,
   "id": "eebbb4cd",
   "metadata": {},
   "outputs": [
    {
     "name": "stdout",
     "output_type": "stream",
     "text": [
      "['1', '2', 'x', '3']\n"
     ]
    }
   ],
   "source": [
    "list1 = ['1','x','2','x','3']\n",
    "list1.remove('x')\n",
    "print(list1)"
   ]
  },
  {
   "cell_type": "code",
   "execution_count": 27,
   "id": "147e8edf",
   "metadata": {},
   "outputs": [
    {
     "name": "stdout",
     "output_type": "stream",
     "text": [
      "['A', 'B', 'C', 'D']\n",
      "['A', 'C', 'D']\n"
     ]
    },
    {
     "ename": "ValueError",
     "evalue": "list.remove(x): x not in list",
     "output_type": "error",
     "traceback": [
      "\u001b[1;31m---------------------------------------------------------------------------\u001b[0m",
      "\u001b[1;31mValueError\u001b[0m                                Traceback (most recent call last)",
      "Input \u001b[1;32mIn [27]\u001b[0m, in \u001b[0;36m<cell line: 5>\u001b[1;34m()\u001b[0m\n\u001b[0;32m      3\u001b[0m list3\u001b[38;5;241m.\u001b[39mremove(\u001b[38;5;124m'\u001b[39m\u001b[38;5;124mB\u001b[39m\u001b[38;5;124m'\u001b[39m)\n\u001b[0;32m      4\u001b[0m \u001b[38;5;28mprint\u001b[39m(list3)\n\u001b[1;32m----> 5\u001b[0m \u001b[43mlist3\u001b[49m\u001b[38;5;241;43m.\u001b[39;49m\u001b[43mremove\u001b[49m\u001b[43m(\u001b[49m\u001b[38;5;124;43m\"\u001b[39;49m\u001b[38;5;124;43mX\u001b[39;49m\u001b[38;5;124;43m\"\u001b[39;49m\u001b[43m)\u001b[49m\n\u001b[0;32m      6\u001b[0m \u001b[38;5;28mprint\u001b[39m(list3)\n",
      "\u001b[1;31mValueError\u001b[0m: list.remove(x): x not in list"
     ]
    }
   ],
   "source": [
    "list3 = ['A','B','C','D']\n",
    "print(list3)\n",
    "list3.remove('B')\n",
    "print(list3)\n",
    "list3.remove(\"X\")\n",
    "print(list3)"
   ]
  },
  {
   "cell_type": "markdown",
   "id": "1bb018c3",
   "metadata": {},
   "source": [
    "### Del\n",
    "+ list 可透過 del 方式移除指定位置資料。\n",
    "+ del list[ ] 必須指定範圍：\n",
    "  + del list[n] 代表移除第 n 位索引值資料。\n",
    "  + del list[:m] 代表移除第 m 位索引值之前 ( 不包含 m ) 資料。\n",
    "  + del list[n:m] 代表移除第 n 到 m 位索引值之前 ( 不包含 m ) 資料。"
   ]
  },
  {
   "cell_type": "code",
   "execution_count": 29,
   "id": "a63e3da7",
   "metadata": {},
   "outputs": [
    {
     "name": "stdout",
     "output_type": "stream",
     "text": [
      "['A', 'B', 'C', 'D']\n",
      "['A', 'B', 'D']\n",
      "['A']\n"
     ]
    }
   ],
   "source": [
    "list4 = ['A','B','C','D']\n",
    "print(list4)\n",
    "del list4[2]\n",
    "print(list4)\n",
    "del list4[1:3]\n",
    "print(list4)"
   ]
  },
  {
   "cell_type": "markdown",
   "id": "d5fe63bf",
   "metadata": {},
   "source": [
    "#### 請問以下的結果會是什麼？"
   ]
  },
  {
   "cell_type": "code",
   "execution_count": 30,
   "id": "bed81edf",
   "metadata": {},
   "outputs": [
    {
     "name": "stdout",
     "output_type": "stream",
     "text": [
      "['x', '2', 'x', '3']\n"
     ]
    }
   ],
   "source": [
    "list1 = ['1','x','2','x','3']\n",
    "del list1[:1]\n",
    "print(list1)"
   ]
  },
  {
   "cell_type": "code",
   "execution_count": 31,
   "id": "a718f904",
   "metadata": {},
   "outputs": [
    {
     "name": "stdout",
     "output_type": "stream",
     "text": [
      "['x', '2', 'x', '3']\n"
     ]
    }
   ],
   "source": [
    "list1 = ['1','x','2','x','3']\n",
    "del list1[0]\n",
    "print(list1)"
   ]
  },
  {
   "cell_type": "code",
   "execution_count": 32,
   "id": "ac4f744e",
   "metadata": {},
   "outputs": [
    {
     "name": "stdout",
     "output_type": "stream",
     "text": [
      "['1', 'x', '3']\n"
     ]
    }
   ],
   "source": [
    "list1 =  ['1','x','2','x','3']\n",
    "del list1[2:4]\n",
    "print(list1)"
   ]
  },
  {
   "cell_type": "markdown",
   "id": "c839a030",
   "metadata": {},
   "source": [
    "## Sort\n",
    "+ list 進行排序有 sorted( ) 與 sort( ) 兩個動作。\n",
    "+ 兩者差異：\n",
    "  + sorted()\n",
    "    + 不會影響 list 本身結構，且可以輸出結果。\n",
    "    + sorted(list項目)。\n",
    "    + sorted( ) 可用來排序任何項目。\n",
    "+ sort()\n",
    "    + 會影響 list 本身結構，且不可以於操作這個動作時進行輸出。\n",
    "    + list.sort( )。\n",
    "    + sort( ) 只能用在list上排序。"
   ]
  },
  {
   "cell_type": "markdown",
   "id": "1e5cb2c7",
   "metadata": {},
   "source": [
    "### 排序原則與參數\n",
    "+ 排序原則：\n",
    "  + 數字則依照大小排序。\n",
    "  + 字串則依照 ASCII 編碼順序進行排序。\n",
    "+ 可加入的參數：\n",
    "   + reverse=True  \n",
    "     + 有這個參數由大到小排序\n",
    "     + 若沒有這個參數則由小到大排序\n",
    "+ key=len\n",
    "     + 依照 list 內元素字串長度進行排序\n",
    "+ key=str.upper\n",
    "     + 將 list 內元素轉換為大寫，再依照 ASCII 編碼順序進行排序\n",
    "+ key=str.lower\n",
    "     + 將 list 內元素轉換為小寫，再依照 ASCII 編碼順序進行排序"
   ]
  },
  {
   "cell_type": "code",
   "execution_count": 35,
   "id": "70eb036f",
   "metadata": {},
   "outputs": [
    {
     "name": "stdout",
     "output_type": "stream",
     "text": [
      "['c', 'B', 'a']\n",
      "['B', 'a', 'c']\n",
      "99\n",
      "66\n",
      "97\n",
      "['c', 'a', 'B']\n"
     ]
    }
   ],
   "source": [
    "## 小寫 > 大寫 > 數字\n",
    "list5 = ['c','B','a']\n",
    "print(list5)\n",
    "list5.sort()\n",
    "print(list5)\n",
    "print(ord('c'))# 可轉ASCII\n",
    "print(ord('B'))\n",
    "print(ord('a'))\n",
    "list5.sort(reverse=True)\n",
    "print(list5)"
   ]
  },
  {
   "cell_type": "markdown",
   "id": "632a5222",
   "metadata": {},
   "source": [
    "### sorted"
   ]
  },
  {
   "cell_type": "code",
   "execution_count": 39,
   "id": "570720ef",
   "metadata": {},
   "outputs": [
    {
     "name": "stdout",
     "output_type": "stream",
     "text": [
      "[2, 6, 1]\n",
      "[2, 6, 1]\n",
      "[1, 2, 6]\n"
     ]
    }
   ],
   "source": [
    "list6 = [2,6,1]\n",
    "print(list6)\n",
    "sorted(list6)\n",
    "print(list6)\n",
    "list7 = sorted(list6)\n",
    "print(list7)"
   ]
  },
  {
   "cell_type": "code",
   "execution_count": 42,
   "id": "36f1487e",
   "metadata": {},
   "outputs": [
    {
     "name": "stdout",
     "output_type": "stream",
     "text": [
      "[1, 2, 5, 6, 9]\n",
      "=======================\n",
      "[9, 6, 5, 2, 1]\n",
      "=======================\n",
      "[5, 2, 1, 9, 6]\n",
      "=======================\n",
      "[9, 6, 5, 2, 1]\n",
      "=======================\n"
     ]
    }
   ],
   "source": [
    "a = [5,2,1,9,6]\n",
    "print(sorted(a))\n",
    "print(\"=======================\")\n",
    "print(sorted(a,reverse=True))\n",
    "print(\"=======================\")\n",
    "print(a)\n",
    "print(\"=======================\")\n",
    "a.sort(reverse = True)\n",
    "print(a)\n",
    "print(\"=======================\")"
   ]
  },
  {
   "cell_type": "markdown",
   "id": "70aa25fb",
   "metadata": {},
   "source": [
    "## 資料反向\n",
    "+ 可利用 reverse( ) 函數進行反向排序動作。\n",
    "+ 這函數沒有傳回值，list 執行後就會進行反向排序。"
   ]
  },
  {
   "cell_type": "code",
   "execution_count": 44,
   "id": "b84c3b4a",
   "metadata": {},
   "outputs": [
    {
     "name": "stdout",
     "output_type": "stream",
     "text": [
      "['ab', 'aB', 'Ab', '12']\n"
     ]
    }
   ],
   "source": [
    "list2 = [\"12\",\"ab\",\"Ab\",\"aB\"]\n",
    "list2.sort()\n",
    "list2.reverse()\n",
    "print(list2)"
   ]
  },
  {
   "cell_type": "markdown",
   "id": "db7d594e",
   "metadata": {},
   "source": [
    " ### in"
   ]
  },
  {
   "cell_type": "code",
   "execution_count": 46,
   "id": "cc43cc6c",
   "metadata": {},
   "outputs": [
    {
     "name": "stdout",
     "output_type": "stream",
     "text": [
      "Pass\n",
      "Fail\n"
     ]
    }
   ],
   "source": [
    "list8 = ['Ken','Vivin','Lindy','Gigi']\n",
    "if 'Vivin' in list8:\n",
    "    print('Pass')\n",
    "else:\n",
    "    print(\"Fail\")\n",
    "\n",
    "if 'Lucy' in list8:\n",
    "    print('Pass')\n",
    "else:\n",
    "    print('Fail')"
   ]
  },
  {
   "cell_type": "markdown",
   "id": "887c866a",
   "metadata": {},
   "source": [
    "### For Each"
   ]
  },
  {
   "cell_type": "code",
   "execution_count": 48,
   "id": "4901271c",
   "metadata": {},
   "outputs": [
    {
     "name": "stdout",
     "output_type": "stream",
     "text": [
      "Ken\tVivin\tLindy\tGigi\t"
     ]
    }
   ],
   "source": [
    "list9 =['Ken','Vivin','Lindy','Gigi']\n",
    "for v in list9:\n",
    "    print(v,end='\\t')"
   ]
  },
  {
   "cell_type": "markdown",
   "id": "c4c29807",
   "metadata": {},
   "source": [
    "## List生成器"
   ]
  },
  {
   "cell_type": "code",
   "execution_count": 49,
   "id": "41196678",
   "metadata": {},
   "outputs": [
    {
     "name": "stdout",
     "output_type": "stream",
     "text": [
      "[2, 4, 6, 8]\n"
     ]
    }
   ],
   "source": [
    "list0=[]\n",
    "for value in range(1,10):\n",
    "    if value % 2 == 0:\n",
    "        list0.append(value)\n",
    "print(list0)        "
   ]
  },
  {
   "cell_type": "code",
   "execution_count": 51,
   "id": "e95c2036",
   "metadata": {},
   "outputs": [
    {
     "name": "stdout",
     "output_type": "stream",
     "text": [
      "[2, 4, 6, 8]\n"
     ]
    }
   ],
   "source": [
    "list0 = [value for value in range(1,10) if value % 2 == 0 ]\n",
    "print(list0)"
   ]
  },
  {
   "cell_type": "code",
   "execution_count": 52,
   "id": "7566e83a",
   "metadata": {},
   "outputs": [
    {
     "name": "stdout",
     "output_type": "stream",
     "text": [
      "['AX', 'AY', 'AZ', 'BX', 'BY', 'BZ', 'CX', 'CY', 'CZ']\n"
     ]
    }
   ],
   "source": [
    "list0 = []\n",
    "for m in \"ABC\":\n",
    "    for n in \"XYZ\":\n",
    "        list0.append(m+n)\n",
    "print(list0)        "
   ]
  },
  {
   "cell_type": "code",
   "execution_count": 53,
   "id": "bae06657",
   "metadata": {},
   "outputs": [
    {
     "name": "stdout",
     "output_type": "stream",
     "text": [
      "['AX', 'AY', 'AZ', 'BX', 'BY', 'BZ', 'CX', 'CY', 'CZ']\n"
     ]
    }
   ],
   "source": [
    "list11 = [m + n  for m in \"ABC\" for n in 'XYZ']\n",
    "print(list11)"
   ]
  },
  {
   "cell_type": "code",
   "execution_count": 55,
   "id": "aa4ac4ee",
   "metadata": {},
   "outputs": [
    {
     "name": "stdout",
     "output_type": "stream",
     "text": [
      "未成年\n"
     ]
    }
   ],
   "source": [
    "age = 15\n",
    "## 滿18顯示成年\n",
    "# 未滿18未成年\n",
    "if age>= 18:\n",
    "    print(\"成年\")\n",
    "else:\n",
    "    print(\"未成年\")\n",
    "    \n"
   ]
  },
  {
   "cell_type": "code",
   "execution_count": 57,
   "id": "a2a18918",
   "metadata": {},
   "outputs": [
    {
     "name": "stdout",
     "output_type": "stream",
     "text": [
      "未成年\n"
     ]
    }
   ],
   "source": [
    "age = 15\n",
    "msg = \"成年\" if age >= 18 else \"未成年\"\n",
    "print(msg)"
   ]
  },
  {
   "cell_type": "markdown",
   "id": "422148c1",
   "metadata": {},
   "source": [
    "# 字典與函數"
   ]
  },
  {
   "cell_type": "markdown",
   "id": "b1be8bfe",
   "metadata": {},
   "source": [
    "## Dictionary 介紹\n",
    "+ 資料結構是由 key:value 所組成。\n",
    "+ key 不能夠重複，否則會被後面的結果蓋過去。\n",
    "+ 可輸入 key 找尋您要找出來的值。\n",
    "+ 如果輸入的 key 不存在，那就會出現錯誤訊息。"
   ]
  },
  {
   "cell_type": "code",
   "execution_count": 61,
   "id": "f8bd0021",
   "metadata": {},
   "outputs": [
    {
     "name": "stdout",
     "output_type": "stream",
     "text": [
      "{'a': 100, 'b': 200, 'c': 300}\n",
      "100\n",
      "200\n"
     ]
    },
    {
     "ename": "KeyError",
     "evalue": "'d'",
     "output_type": "error",
     "traceback": [
      "\u001b[1;31m---------------------------------------------------------------------------\u001b[0m",
      "\u001b[1;31mKeyError\u001b[0m                                  Traceback (most recent call last)",
      "Input \u001b[1;32mIn [61]\u001b[0m, in \u001b[0;36m<cell line: 5>\u001b[1;34m()\u001b[0m\n\u001b[0;32m      3\u001b[0m \u001b[38;5;28mprint\u001b[39m(dict1[\u001b[38;5;124m'\u001b[39m\u001b[38;5;124ma\u001b[39m\u001b[38;5;124m'\u001b[39m])\n\u001b[0;32m      4\u001b[0m \u001b[38;5;28mprint\u001b[39m(dict1[\u001b[38;5;124m'\u001b[39m\u001b[38;5;124mb\u001b[39m\u001b[38;5;124m'\u001b[39m])\n\u001b[1;32m----> 5\u001b[0m \u001b[38;5;28mprint\u001b[39m(\u001b[43mdict1\u001b[49m\u001b[43m[\u001b[49m\u001b[38;5;124;43m'\u001b[39;49m\u001b[38;5;124;43md\u001b[39;49m\u001b[38;5;124;43m'\u001b[39;49m\u001b[43m]\u001b[49m)\n",
      "\u001b[1;31mKeyError\u001b[0m: 'd'"
     ]
    }
   ],
   "source": [
    "dict1 = {'a':100,'b':200,'c':300}\n",
    "print(dict1)\n",
    "print(dict1['a'])\n",
    "print(dict1['b'])\n",
    "print(dict1['d'])"
   ]
  },
  {
   "cell_type": "code",
   "execution_count": 65,
   "id": "91fd2276",
   "metadata": {},
   "outputs": [
    {
     "name": "stdout",
     "output_type": "stream",
     "text": [
      "{'a': 100, 'b': 300}\n",
      "100\n",
      "300\n"
     ]
    },
    {
     "ename": "KeyError",
     "evalue": "'d'",
     "output_type": "error",
     "traceback": [
      "\u001b[1;31m---------------------------------------------------------------------------\u001b[0m",
      "\u001b[1;31mKeyError\u001b[0m                                  Traceback (most recent call last)",
      "Input \u001b[1;32mIn [65]\u001b[0m, in \u001b[0;36m<cell line: 5>\u001b[1;34m()\u001b[0m\n\u001b[0;32m      3\u001b[0m \u001b[38;5;28mprint\u001b[39m(diect1[\u001b[38;5;124m\"\u001b[39m\u001b[38;5;124ma\u001b[39m\u001b[38;5;124m\"\u001b[39m])\n\u001b[0;32m      4\u001b[0m \u001b[38;5;28mprint\u001b[39m(diect1[\u001b[38;5;124m\"\u001b[39m\u001b[38;5;124mb\u001b[39m\u001b[38;5;124m\"\u001b[39m])\n\u001b[1;32m----> 5\u001b[0m \u001b[38;5;28mprint\u001b[39m(\u001b[43mdiect1\u001b[49m\u001b[43m[\u001b[49m\u001b[38;5;124;43m\"\u001b[39;49m\u001b[38;5;124;43md\u001b[39;49m\u001b[38;5;124;43m\"\u001b[39;49m\u001b[43m]\u001b[49m)\n",
      "\u001b[1;31mKeyError\u001b[0m: 'd'"
     ]
    }
   ],
   "source": [
    "diect1 = {\"a\":100,'b':400,\"b\":300}\n",
    "print(diect1)\n",
    "print(diect1[\"a\"])\n",
    "print(diect1[\"b\"])\n",
    "print(diect1[\"d\"])"
   ]
  },
  {
   "cell_type": "markdown",
   "id": "cba0091d",
   "metadata": {},
   "source": [
    "## key 與 value\n",
    "+ key 不能於程式內改變：\n",
    "  + 可以用數字、字串或者 tuple。\n",
    "  + 不可以使用 list。\n",
    "+ 如何找出所有的 key 與 value？\n",
    "  + 您可以透過 dict1.keys( ) 這個方法找出所有的 key。\n",
    "  + 您可以透過 dict1.values( ) 這個方法找出所有的 value。"
   ]
  },
  {
   "cell_type": "markdown",
   "id": "7375a726",
   "metadata": {},
   "source": [
    "## 新增與修改\n",
    "+ 新增一筆資料\n",
    "  + 請將 key 與 value 儲存至一個變數內。\n",
    "  + 透過 dict.update(新增的資料) 這個方法的方式就可以新增。\n",
    "+ 元素可否變更：\n",
    "  + 以 = 指派方式指派給 key 就可以變更資料"
   ]
  },
  {
   "cell_type": "markdown",
   "id": "d9eb5b39",
   "metadata": {},
   "source": [
    "## update"
   ]
  },
  {
   "cell_type": "code",
   "execution_count": 69,
   "id": "dd8cf22e",
   "metadata": {},
   "outputs": [
    {
     "name": "stdout",
     "output_type": "stream",
     "text": [
      "{'ken': 100, 'vivin': 95, 'lucy': 72, 'gigi': 82}\n",
      "{'ken': 100, 'vivin': 95, 'lucy': 12, 'gigi': 82}\n",
      "{'ken': 100, 'vivin': 95, 'lucy': 12, 'gigi': 82, 'lindy': 52}\n"
     ]
    },
    {
     "ename": "KeyError",
     "evalue": "'tom'",
     "output_type": "error",
     "traceback": [
      "\u001b[1;31m---------------------------------------------------------------------------\u001b[0m",
      "\u001b[1;31mKeyError\u001b[0m                                  Traceback (most recent call last)",
      "Input \u001b[1;32mIn [69]\u001b[0m, in \u001b[0;36m<cell line: 8>\u001b[1;34m()\u001b[0m\n\u001b[0;32m      6\u001b[0m dict2[\u001b[38;5;124m'\u001b[39m\u001b[38;5;124mlindy\u001b[39m\u001b[38;5;124m'\u001b[39m] \u001b[38;5;241m=\u001b[39m \u001b[38;5;241m52\u001b[39m \u001b[38;5;66;03m#key不在新增\u001b[39;00m\n\u001b[0;32m      7\u001b[0m \u001b[38;5;28mprint\u001b[39m(dict2)\n\u001b[1;32m----> 8\u001b[0m \u001b[38;5;28mprint\u001b[39m(\u001b[43mdict2\u001b[49m\u001b[43m[\u001b[49m\u001b[38;5;124;43m'\u001b[39;49m\u001b[38;5;124;43mtom\u001b[39;49m\u001b[38;5;124;43m'\u001b[39;49m\u001b[43m]\u001b[49m)\n",
      "\u001b[1;31mKeyError\u001b[0m: 'tom'"
     ]
    }
   ],
   "source": [
    "dict2 = {'ken':100,'vivin':95,'lucy':72}\n",
    "dict2.update({'gigi':82})\n",
    "print(dict2)\n",
    "dict2['lucy'] = 12#key在更新\n",
    "print(dict2)\n",
    "dict2['lindy'] = 52 #key不在新增\n",
    "print(dict2)\n",
    "print(dict2['tom']) # key不在取值出錯"
   ]
  },
  {
   "cell_type": "markdown",
   "id": "2400823e",
   "metadata": {},
   "source": [
    "## del "
   ]
  },
  {
   "cell_type": "code",
   "execution_count": 72,
   "id": "a5908b99",
   "metadata": {},
   "outputs": [
    {
     "name": "stdout",
     "output_type": "stream",
     "text": [
      "{'ken': 100, 'vivin': 95, 'lucy': 72}\n",
      "{'ken': 100, 'lucy': 72}\n",
      "{}\n"
     ]
    }
   ],
   "source": [
    "dict2 = {'ken':100,'vivin':95,'lucy':72}\n",
    "print(dict2)\n",
    "del dict2['vivin']\n",
    "print(dict2)\n",
    "dict2.clear()\n",
    "print(dict2)"
   ]
  },
  {
   "cell_type": "markdown",
   "id": "99e543f1",
   "metadata": {},
   "source": [
    "## foeach"
   ]
  },
  {
   "cell_type": "code",
   "execution_count": 91,
   "id": "f91bff30",
   "metadata": {},
   "outputs": [
    {
     "name": "stdout",
     "output_type": "stream",
     "text": [
      "key: ken  value: 100\n",
      "key:ken value:100\n",
      "key: vivin  value: 95\n",
      "key:vivin value:95\n",
      "key: lucy  value: 72\n",
      "key:lucy value:72\n"
     ]
    }
   ],
   "source": [
    "dict2 = {'ken':100,'vivin':95,'lucy':72}\n",
    "for key,value in dict2.items():\n",
    "    print(\"key:\",key,\" value:\",value)\n",
    "    msg = f\"key:{key} value:{value}\"\n",
    "    print(msg)"
   ]
  },
  {
   "cell_type": "code",
   "execution_count": 74,
   "id": "eb5488fe",
   "metadata": {},
   "outputs": [
    {
     "name": "stdout",
     "output_type": "stream",
     "text": [
      "ken\n",
      "vivin\n",
      "lucy\n"
     ]
    }
   ],
   "source": [
    "dict2 = {'ken':100,'vivin':95,'lucy':72}\n",
    "for d in dict2:\n",
    "    print(d)\n",
    "    "
   ]
  },
  {
   "cell_type": "code",
   "execution_count": 83,
   "id": "0013dd54",
   "metadata": {},
   "outputs": [
    {
     "name": "stdout",
     "output_type": "stream",
     "text": [
      "ken\n",
      "vivin\n",
      "lucy\n",
      "1.23\n"
     ]
    }
   ],
   "source": [
    "dict2 = {'ken':100,'vivin':95,'lucy':72}\n",
    "for k in dict2.keys():\n",
    "    print(f'{k}')    \n",
    "a = 1.2345\n",
    "print(f\"{a:.2f}\")    "
   ]
  },
  {
   "cell_type": "code",
   "execution_count": null,
   "id": "8db6d7b4",
   "metadata": {},
   "outputs": [],
   "source": []
  }
 ],
 "metadata": {
  "kernelspec": {
   "display_name": "Python 3 (ipykernel)",
   "language": "python",
   "name": "python3"
  },
  "language_info": {
   "codemirror_mode": {
    "name": "ipython",
    "version": 3
   },
   "file_extension": ".py",
   "mimetype": "text/x-python",
   "name": "python",
   "nbconvert_exporter": "python",
   "pygments_lexer": "ipython3",
   "version": "3.8.11"
  }
 },
 "nbformat": 4,
 "nbformat_minor": 5
}
