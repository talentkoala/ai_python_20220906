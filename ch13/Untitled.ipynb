{
 "cells": [
  {
   "cell_type": "code",
   "execution_count": 2,
   "id": "dfb72dd5",
   "metadata": {},
   "outputs": [
    {
     "name": "stdout",
     "output_type": "stream",
     "text": [
      "[-1.7  1.5 -0.2  0.6 10. ]\n",
      "\n",
      "[-2.  1. -1.  0. 10.]\n",
      "\n",
      "[-1.  2. -0.  1. 10.]\n",
      "\n"
     ]
    }
   ],
   "source": [
    "import numpy as np\n",
    "a = np.array([-1.7,1.5,-0.2,0.6,10])\n",
    "print(a)\n",
    "print()\n",
    "b = np.floor(a)\n",
    "print(b)\n",
    "print()\n",
    "c = np.ceil(a)\n",
    "print(c)\n",
    "print()"
   ]
  },
  {
   "cell_type": "markdown",
   "id": "9b4f93a1",
   "metadata": {},
   "source": [
    "## 總和最大與最小\n",
    "+ np.sum( ) 代表某一個陣列內容的總和，也可以指定這個陣列的哪一軸 (axis) 內容總和。\n",
    "+ np.min( ) 代表某一個陣列內容的最小值，也可以指定這個陣列的哪一軸 (axis) 內容的最小值。\n",
    "+ np.max( ) 代表某一個陣列內容的最大值，也可以指定這個陣列的哪一軸 (axis) 內容的最大值。\n",
    "+ amin 與 min 是相同功能的方法。\n",
    "+ amax 與 max 是相同功能的方法。"
   ]
  },
  {
   "cell_type": "code",
   "execution_count": 5,
   "id": "f152470b",
   "metadata": {},
   "outputs": [
    {
     "name": "stdout",
     "output_type": "stream",
     "text": [
      "[[ 0 30 45]\n",
      " [60 75 90]]\n",
      "=====================\n",
      "300\n",
      "=====================\n",
      "[ 60 105 135]\n",
      "=====================\n",
      "[ 75 225]\n"
     ]
    }
   ],
   "source": [
    "import numpy as np\n",
    "a = np.array([[0, 30,45],\n",
    "              [60,75,90]])\n",
    "print(a)\n",
    "print(\"=====================\")\n",
    "b = np.sum(a)\n",
    "print(b)\n",
    "print(\"=====================\")\n",
    "b = np.sum(a,axis=0)\n",
    "print(b)\n",
    "print(\"=====================\")\n",
    "b = np.sum(a,axis=1)\n",
    "print(b)"
   ]
  },
  {
   "cell_type": "markdown",
   "id": "cde09081",
   "metadata": {},
   "source": [
    "### max() min()"
   ]
  },
  {
   "cell_type": "code",
   "execution_count": 10,
   "id": "3d0f32ad",
   "metadata": {},
   "outputs": [
    {
     "name": "stdout",
     "output_type": "stream",
     "text": [
      "[[ 0 30 45]\n",
      " [60 75 90]]\n",
      "=============================\n",
      "90\n",
      "=============================\n",
      "[60 75 90]\n",
      "[45 90]\n",
      "=============================\n",
      "[ 0 30 45]\n",
      "[ 0 60]\n"
     ]
    }
   ],
   "source": [
    "import numpy as np\n",
    "a = np.array([[0, 30,45],\n",
    "              [60,75,90]])\n",
    "print(a)\n",
    "print(\"=============================\")\n",
    "b = np.max(a)\n",
    "print(b)\n",
    "print(\"=============================\")\n",
    "b = np.max(a,axis=0)\n",
    "print(b)\n",
    "b = np.max(a,axis=1)\n",
    "print(b)\n",
    "print(\"=============================\")\n",
    "b = np.min(a,axis=0)\n",
    "print(b)\n",
    "b = np.min(a,axis=1)\n",
    "print(b)"
   ]
  },
  {
   "cell_type": "markdown",
   "id": "9b5bfc73",
   "metadata": {},
   "source": [
    "## 中位數與平均\n",
    "+ median( ) 方法可取出陣列或陣列中指定的軸之中位數。\n",
    "+ 把所有值高低排序後找出正中間的一個作爲中位數。如果資料數量為偶數，則中位數取最中間的兩個數值的平均數。\n",
    "+ 參數：\n",
    "  + array：陣列\n",
    "  + axis：軸\n",
    "+ mean( ) 方法可取出陣列或陣列中指定的軸之平均數。\n",
    "+ 平均值就是把陣列或指定軸的所有資料除以數量後的數值。\n",
    "+ 參數：\n",
    "    + array：陣列 \n",
    "    + axis：軸\n",
    "+ average( ) 方法與 mean( ) 方法相似，但可以加入權重進行計算。\n",
    "+ 計算公式為 ((資料*權重)相加)/(權重相加)\n",
    "+ 參數：\n",
    "  + array：陣列\n",
    "  + axis：軸\n",
    "  + weights：權重，若沒有則設定為 1\n",
    "  + returned：若設定為 true，代表返回計算結果跟權重相加總合兩筆資料，若沒有設定或設定  false 則只有計算結果 \n",
    "+ 沒有指定權重時與一般平均值相同。\n",
    "+ 加權平均值是由每個資料乘以權重以反映加上重要性因素後產生的平均值。\n",
    "+ average( ) 使用時若沒有指定軸，則陣列將被平坦化。\n",
    "+ 假設有個陣列資料為 [1,2,3,4]，相應的權重 [40,30,20,10]，加權平均數是這樣：\n",
    "    (1x40+2x30+3x20+4x10)/(40+30+20+10)\n",
    "  "
   ]
  },
  {
   "cell_type": "code",
   "execution_count": 13,
   "id": "b8c1deac",
   "metadata": {},
   "outputs": [
    {
     "name": "stdout",
     "output_type": "stream",
     "text": [
      "[[ 0 30 45]\n",
      " [60 75 90]]\n",
      "52.5\n",
      "\n",
      "[30.  52.5 67.5]\n",
      "\n",
      "[30. 75.]\n",
      "\n"
     ]
    }
   ],
   "source": [
    "import numpy as np\n",
    "a = np.array([[0, 30,45],\n",
    "              [60,75,90]])\n",
    "print(a)\n",
    "b = np.median(a)# 6/2 = 3 取出 3與4編號的數字45與60 (45 + 60) /2\n",
    "print(b)\n",
    "print()\n",
    "b = np.median(a,axis=0)\n",
    "print(b)\n",
    "print()\n",
    "b = np.median(a,axis = 1)\n",
    "print(b)\n",
    "print()"
   ]
  },
  {
   "cell_type": "code",
   "execution_count": 15,
   "id": "6f18101d",
   "metadata": {},
   "outputs": [
    {
     "name": "stdout",
     "output_type": "stream",
     "text": [
      "[[ 0 30 45]\n",
      " [60 75 90]]\n",
      "\n",
      "50.0\n",
      "\n",
      "[30.  52.5 67.5]\n",
      "\n",
      "[25. 75.]\n",
      "\n"
     ]
    }
   ],
   "source": [
    "import numpy as np\n",
    "a = np.array([[0, 30,45],\n",
    "              [60,75,90]])\n",
    "print(a)\n",
    "print()\n",
    "b = np.mean(a)\n",
    "print(b)\n",
    "print()\n",
    "b = np.mean(a,axis = 0)\n",
    "print(b)\n",
    "print()\n",
    "b = np.mean(a,axis = 1)\n",
    "print(b)\n",
    "print()\n"
   ]
  },
  {
   "cell_type": "markdown",
   "id": "39f6f92e",
   "metadata": {},
   "source": [
    "## Numpy增減與統計"
   ]
  },
  {
   "cell_type": "markdown",
   "id": "73643ee6",
   "metadata": {},
   "source": [
    "## 陣列附加資料\n",
    "+ 這個方法動作將在陣列末端附加資料。\n",
    "+ 若沒有指定軸 (維度) 則代表於陣列增加資料，陣列變成一維。\n",
    "+ 維度必須相同\n",
    "+ append 需要以下參數：\n",
    "  + arr：想要附加資料的陣列。\n",
    "  + values：想要附加於 arr 這個陣列後面的資料，資料的形狀必須與 arr 陣列相同。\n",
    "  + axis：可以指定附加於哪一個軸 (維度) ."
   ]
  },
  {
   "cell_type": "code",
   "execution_count": 17,
   "id": "cab682d5",
   "metadata": {},
   "outputs": [
    {
     "name": "stdout",
     "output_type": "stream",
     "text": [
      "[[1 2 3]\n",
      " [4 5 6]]\n",
      "[1 2 3 4 5 6 7 8 9]\n"
     ]
    }
   ],
   "source": [
    "import numpy as np\n",
    "a = np.array([[1,2,3],\n",
    "              [4,5,6]])\n",
    "print(a)\n",
    "b = np.append(a,[7,8,9])\n",
    "print(b)"
   ]
  },
  {
   "cell_type": "code",
   "execution_count": 21,
   "id": "ef35b7d0",
   "metadata": {},
   "outputs": [
    {
     "name": "stdout",
     "output_type": "stream",
     "text": [
      "[[1 2 3]\n",
      " [4 5 6]]\n",
      "==================================\n",
      "[[1 2 3]\n",
      " [4 5 6]\n",
      " [7 8 9]]\n",
      "[[ 1  2  3]\n",
      " [ 4  5  6]\n",
      " [ 7  8  9]\n",
      " [10 11 12]]\n"
     ]
    }
   ],
   "source": [
    "import numpy as np\n",
    "a = np.array([[1,2,3],\n",
    "              [4,5,6]])\n",
    "print(a)\n",
    "print(\"==================================\")\n",
    "b = np.append(a,[[7,8,9]],axis = 0)\n",
    "print(b)\n",
    "b = np.append(a,[[7,8,9],[10,11,12]],axis = 0)\n",
    "print(b)"
   ]
  },
  {
   "cell_type": "code",
   "execution_count": 22,
   "id": "142e680c",
   "metadata": {},
   "outputs": [
    {
     "name": "stdout",
     "output_type": "stream",
     "text": [
      "[[1 2 3]\n",
      " [4 5 6]]\n",
      "[[1 2 3 7]\n",
      " [4 5 6 8]]\n"
     ]
    }
   ],
   "source": [
    "import numpy as np\n",
    "a = np.array([[1,2,3],\n",
    "              [4,5,6]])\n",
    "print(a)\n",
    "d = np.append(a,[[7],[8]],axis = 1)\n",
    "print(d)"
   ]
  },
  {
   "cell_type": "markdown",
   "id": "e6f43f43",
   "metadata": {},
   "source": [
    "## 陣列插入資料\n",
    "+ 這個動作方法會依照指定的軸 (維度) 與指定的索引的陣列插入資料。\n",
    "+ 如果沒有提到軸 (維度)，陣列將會變成一維。\n",
    "+ insert( ) 函數需要以下參數：\n",
    "  + arr：欲插入的陣列。\n",
    "  + index：插入位置的索引值編號。\n",
    "  + values：要插入的內容。\n",
    "  + axis：指定的軸 (維度)，如果沒有給這參數，則會變成一維。"
   ]
  },
  {
   "cell_type": "code",
   "execution_count": 23,
   "id": "749bb3d5",
   "metadata": {},
   "outputs": [
    {
     "name": "stdout",
     "output_type": "stream",
     "text": [
      "[[1 2]\n",
      " [3 4]\n",
      " [5 6]]\n",
      "[ 1  2  3 11 12  4  5  6]\n"
     ]
    }
   ],
   "source": [
    "import numpy as np\n",
    "a = np.array([[1,2],[3,4],[5,6]])\n",
    "print(a)\n",
    "b = np.insert(a,3,[11,12])\n",
    "print(b)\n"
   ]
  },
  {
   "cell_type": "code",
   "execution_count": 27,
   "id": "c1bdeefa",
   "metadata": {},
   "outputs": [
    {
     "name": "stdout",
     "output_type": "stream",
     "text": [
      "[[1 2]\n",
      " [3 4]\n",
      " [5 6]]\n",
      "===========================\n",
      "[[ 1  2]\n",
      " [11 11]\n",
      " [ 3  4]\n",
      " [ 5  6]]\n",
      "===========================\n",
      "[[ 1  2]\n",
      " [11 18]\n",
      " [ 3  4]\n",
      " [ 5  6]]\n"
     ]
    }
   ],
   "source": [
    "import numpy as np\n",
    "a = np.array([[1,2],[3,4],[5,6]])\n",
    "print(a)\n",
    "print(\"===========================\")\n",
    "c = np.insert(a,1,[11],axis=0)\n",
    "print(c)\n",
    "print(\"===========================\")\n",
    "c = np.insert(a,1,[11,18],axis = 0)\n",
    "print(c)"
   ]
  },
  {
   "cell_type": "code",
   "execution_count": 32,
   "id": "b08e0f0d",
   "metadata": {},
   "outputs": [
    {
     "name": "stdout",
     "output_type": "stream",
     "text": [
      "[[1 2]\n",
      " [3 4]\n",
      " [5 6]]\n",
      "\n",
      "[[ 1 11  2]\n",
      " [ 3 11  4]\n",
      " [ 5 11  6]]\n",
      "========================\n",
      "[[ 1 11  2]\n",
      " [ 3 18  4]\n",
      " [ 5 17  6]]\n"
     ]
    },
    {
     "ename": "ValueError",
     "evalue": "could not broadcast input array from shape (2,1) into shape (3,1)",
     "output_type": "error",
     "traceback": [
      "\u001b[1;31m---------------------------------------------------------------------------\u001b[0m",
      "\u001b[1;31mValueError\u001b[0m                                Traceback (most recent call last)",
      "Input \u001b[1;32mIn [32]\u001b[0m, in \u001b[0;36m<cell line: 10>\u001b[1;34m()\u001b[0m\n\u001b[0;32m      8\u001b[0m d \u001b[38;5;241m=\u001b[39m np\u001b[38;5;241m.\u001b[39minsert(a,\u001b[38;5;241m1\u001b[39m,[\u001b[38;5;241m11\u001b[39m,\u001b[38;5;241m18\u001b[39m,\u001b[38;5;241m17\u001b[39m],axis \u001b[38;5;241m=\u001b[39m \u001b[38;5;241m1\u001b[39m)\n\u001b[0;32m      9\u001b[0m \u001b[38;5;28mprint\u001b[39m(d)\n\u001b[1;32m---> 10\u001b[0m d \u001b[38;5;241m=\u001b[39m \u001b[43mnp\u001b[49m\u001b[38;5;241;43m.\u001b[39;49m\u001b[43minsert\u001b[49m\u001b[43m(\u001b[49m\u001b[43ma\u001b[49m\u001b[43m,\u001b[49m\u001b[38;5;241;43m1\u001b[39;49m\u001b[43m,\u001b[49m\u001b[43m[\u001b[49m\u001b[38;5;241;43m11\u001b[39;49m\u001b[43m,\u001b[49m\u001b[38;5;241;43m18\u001b[39;49m\u001b[43m]\u001b[49m\u001b[43m,\u001b[49m\u001b[43maxis\u001b[49m\u001b[43m \u001b[49m\u001b[38;5;241;43m=\u001b[39;49m\u001b[43m \u001b[49m\u001b[38;5;241;43m1\u001b[39;49m\u001b[43m)\u001b[49m \n\u001b[0;32m     11\u001b[0m \u001b[38;5;28mprint\u001b[39m(d)\n",
      "File \u001b[1;32m<__array_function__ internals>:5\u001b[0m, in \u001b[0;36minsert\u001b[1;34m(*args, **kwargs)\u001b[0m\n",
      "File \u001b[1;32m~\\anaconda3\\lib\\site-packages\\numpy\\lib\\function_base.py:4724\u001b[0m, in \u001b[0;36minsert\u001b[1;34m(arr, obj, values, axis)\u001b[0m\n\u001b[0;32m   4722\u001b[0m new[\u001b[38;5;28mtuple\u001b[39m(slobj)] \u001b[38;5;241m=\u001b[39m arr[\u001b[38;5;28mtuple\u001b[39m(slobj)]\n\u001b[0;32m   4723\u001b[0m slobj[axis] \u001b[38;5;241m=\u001b[39m \u001b[38;5;28mslice\u001b[39m(index, index\u001b[38;5;241m+\u001b[39mnumnew)\n\u001b[1;32m-> 4724\u001b[0m new[\u001b[38;5;28mtuple\u001b[39m(slobj)] \u001b[38;5;241m=\u001b[39m values\n\u001b[0;32m   4725\u001b[0m slobj[axis] \u001b[38;5;241m=\u001b[39m \u001b[38;5;28mslice\u001b[39m(index\u001b[38;5;241m+\u001b[39mnumnew, \u001b[38;5;28;01mNone\u001b[39;00m)\n\u001b[0;32m   4726\u001b[0m slobj2 \u001b[38;5;241m=\u001b[39m [\u001b[38;5;28mslice\u001b[39m(\u001b[38;5;28;01mNone\u001b[39;00m)] \u001b[38;5;241m*\u001b[39m ndim\n",
      "\u001b[1;31mValueError\u001b[0m: could not broadcast input array from shape (2,1) into shape (3,1)"
     ]
    }
   ],
   "source": [
    "import numpy as np\n",
    "a = np.array([[1,2],[3,4],[5,6]])\n",
    "print(a)\n",
    "print()\n",
    "d = np.insert(a,1,11,axis = 1)\n",
    "print(d)\n",
    "print(\"========================\")\n",
    "d = np.insert(a,1,[11,18,17],axis = 1)\n",
    "print(d)\n",
    "d = np.insert(a,1,[11,18],axis = 1) \n",
    "print(d)"
   ]
  },
  {
   "cell_type": "markdown",
   "id": "3434b021",
   "metadata": {},
   "source": [
    "## 陣列刪除資料\n",
    "+ 這個動作方法會依照指定的軸 (維度) 與指定的索引的陣列刪除資料。\n",
    "+ 如果沒有提到軸 (維度)，陣列會以一維方式刪除指定位置資料。\n",
    "+ Delete( ) 函數需要以下參數：\n",
    "   + arr：欲刪除資料的陣列。\n",
    "   + index：刪除資料位置的索引值編號。\n",
    "   + axis：指定的軸(維度)，如果沒有給這參數，則會變成一維。"
   ]
  },
  {
   "cell_type": "code",
   "execution_count": 34,
   "id": "344c7d1f",
   "metadata": {},
   "outputs": [
    {
     "name": "stdout",
     "output_type": "stream",
     "text": [
      "[[1 2]\n",
      " [3 4]\n",
      " [5 6]]\n",
      "\n",
      "[1 2 3 5 6]\n",
      "[1 2 4 5 6]\n"
     ]
    }
   ],
   "source": [
    "import numpy as np\n",
    "a = np.array([[1,2],\n",
    "              [3,4],\n",
    "              [5,6]])\n",
    "print(a)\n",
    "print()\n",
    "b = np.delete(a,3)\n",
    "print(b)\n",
    "b = np.delete(a,2)\n",
    "print(b)"
   ]
  },
  {
   "cell_type": "code",
   "execution_count": 35,
   "id": "b5052676",
   "metadata": {},
   "outputs": [
    {
     "name": "stdout",
     "output_type": "stream",
     "text": [
      "[[1 2 3]\n",
      " [4 5 6]\n",
      " [7 8 9]]\n",
      "\n",
      "[[1 2 3]\n",
      " [7 8 9]]\n",
      "\n"
     ]
    }
   ],
   "source": [
    "import numpy as np\n",
    "a = np.array([[1,2,3],[4,5,6],[7,8,9]])\n",
    "print(a)\n",
    "print( )\n",
    "c = np.delete(a,1,axis = 0)\n",
    "print(c)\n",
    "print()"
   ]
  },
  {
   "cell_type": "code",
   "execution_count": 36,
   "id": "1ee86513",
   "metadata": {},
   "outputs": [
    {
     "name": "stdout",
     "output_type": "stream",
     "text": [
      "[[1 2 3]\n",
      " [4 5 6]\n",
      " [7 8 9]]\n",
      "\n",
      "[[1 3]\n",
      " [4 6]\n",
      " [7 9]]\n",
      "\n"
     ]
    }
   ],
   "source": [
    "import numpy as np\n",
    "a = np.array([[1,2,3],[4,5,6],[7,8,9]])\n",
    "print(a)\n",
    "print( )\n",
    "c = np.delete(a,1,axis = 1)\n",
    "print(c)\n",
    "print()"
   ]
  },
  {
   "cell_type": "markdown",
   "id": "0450c11e",
   "metadata": {},
   "source": [
    "## 讀存檔案\n",
    "+ 可使用 np.loadtxt( ) 方法進行檔案的讀取。\n",
    "+ 若不需要讀入第一列，可使用 skiprows=1 來忽略第一列。\n",
    "+ 若我們的資料是利用 ‘,’ 當作資料與資料之間的分格符號，可使用 delimiter=‘ , ’ 設定，預設為空白。\n",
    "+ 若設定 unpack=True 代表可以將 Column 分別切出來 (預設為False)。\n",
    "+ 但是，當我們欲要讀的檔案，裡面有遺失值的時候，loadtxt 這個動作將會產生錯誤。\u000b",
    "loadtxt( ) 必須是在每一 row 都有相同數量的 value 下，才可以使用。\n",
    "  + 建議改用 genfromtxt( ) 方法 ，它可以針對遺失值進行處理。\n",
    "  + 參數加上 filling_values 可以把原本缺失的資料補上指定的資料。\n",
    "+ 可利用 savetxt( ) 將資料存進檔案裡面保存。\n",
    "+ genfromtxt 可透過 skip_header=1  參數忽略第一列。\n",
    "+ 碰到遺失值的處理：\n",
    "  + loadtxt 碰到遺失值會產生錯誤。\n",
    "  + genfromtxt 碰到遺失值會以 nan 來表示。\n",
    "+ genfromtxt 進行存取時：\n",
    "  + 資料預設為浮點數(科學記數法)，所以建議儲存的時候以 fmt 進行格式設定。\n",
    "  + 開啟時若資料為整數，請加入 dtype 設定為 int。"
   ]
  },
  {
   "cell_type": "code",
   "execution_count": 39,
   "id": "edfad178",
   "metadata": {},
   "outputs": [
    {
     "name": "stdout",
     "output_type": "stream",
     "text": [
      "[[0.2 0.1]\n",
      " [0.4 0.5]\n",
      " [0.1 0.6]\n",
      " [0.1 0.3]\n",
      " [0.7 0.3]]\n",
      "y: [0.2 0.4 0.1 0.1 0.7]\n",
      "z: [0.1 0.5 0.6 0.3 0.3]\n"
     ]
    }
   ],
   "source": [
    "import numpy as np\n",
    "x = np.loadtxt(\"data1.csv\",skiprows = 1,delimiter=\",\")\n",
    "print(x)\n",
    "y,z = np.loadtxt('data1.csv',skiprows= 1,unpack = True,delimiter=',')\n",
    "print(\"y:\",y)\n",
    "print(\"z:\",z)"
   ]
  },
  {
   "cell_type": "code",
   "execution_count": 41,
   "id": "49eb07a2",
   "metadata": {},
   "outputs": [
    {
     "ename": "ValueError",
     "evalue": "could not convert string to float: ''",
     "output_type": "error",
     "traceback": [
      "\u001b[1;31m---------------------------------------------------------------------------\u001b[0m",
      "\u001b[1;31mValueError\u001b[0m                                Traceback (most recent call last)",
      "Input \u001b[1;32mIn [41]\u001b[0m, in \u001b[0;36m<cell line: 4>\u001b[1;34m()\u001b[0m\n\u001b[0;32m      1\u001b[0m \u001b[38;5;28;01mimport\u001b[39;00m \u001b[38;5;21;01mnumpy\u001b[39;00m \u001b[38;5;28;01mas\u001b[39;00m \u001b[38;5;21;01mnp\u001b[39;00m\n\u001b[0;32m      2\u001b[0m \u001b[38;5;66;03m# x = np.loadtxt('data2.csv',skiprows=1,delimiter=',')\u001b[39;00m\n\u001b[0;32m      3\u001b[0m \u001b[38;5;66;03m# print(x)\u001b[39;00m\n\u001b[1;32m----> 4\u001b[0m x \u001b[38;5;241m=\u001b[39m \u001b[43mnp\u001b[49m\u001b[38;5;241;43m.\u001b[39;49m\u001b[43mloadtxt\u001b[49m\u001b[43m(\u001b[49m\u001b[38;5;124;43m'\u001b[39;49m\u001b[38;5;124;43mdata2.csv\u001b[39;49m\u001b[38;5;124;43m'\u001b[39;49m\u001b[43m,\u001b[49m\u001b[43mskiprows\u001b[49m\u001b[38;5;241;43m=\u001b[39;49m\u001b[38;5;241;43m1\u001b[39;49m\u001b[43m,\u001b[49m\u001b[43munpack\u001b[49m\u001b[38;5;241;43m=\u001b[39;49m\u001b[38;5;28;43;01mTrue\u001b[39;49;00m\u001b[43m,\u001b[49m\u001b[43mdelimiter\u001b[49m\u001b[38;5;241;43m=\u001b[39;49m\u001b[38;5;124;43m'\u001b[39;49m\u001b[38;5;124;43m,\u001b[39;49m\u001b[38;5;124;43m'\u001b[39;49m\u001b[43m)\u001b[49m\n\u001b[0;32m      5\u001b[0m \u001b[38;5;28mprint\u001b[39m(x)\n",
      "File \u001b[1;32m~\\anaconda3\\lib\\site-packages\\numpy\\lib\\npyio.py:1148\u001b[0m, in \u001b[0;36mloadtxt\u001b[1;34m(fname, dtype, comments, delimiter, converters, skiprows, usecols, unpack, ndmin, encoding, max_rows, like)\u001b[0m\n\u001b[0;32m   1143\u001b[0m \u001b[38;5;66;03m# read data in chunks and fill it into an array via resize\u001b[39;00m\n\u001b[0;32m   1144\u001b[0m \u001b[38;5;66;03m# over-allocating and shrinking the array later may be faster but is\u001b[39;00m\n\u001b[0;32m   1145\u001b[0m \u001b[38;5;66;03m# probably not relevant compared to the cost of actually reading and\u001b[39;00m\n\u001b[0;32m   1146\u001b[0m \u001b[38;5;66;03m# converting the data\u001b[39;00m\n\u001b[0;32m   1147\u001b[0m X \u001b[38;5;241m=\u001b[39m \u001b[38;5;28;01mNone\u001b[39;00m\n\u001b[1;32m-> 1148\u001b[0m \u001b[38;5;28;01mfor\u001b[39;00m x \u001b[38;5;129;01min\u001b[39;00m read_data(_loadtxt_chunksize):\n\u001b[0;32m   1149\u001b[0m     \u001b[38;5;28;01mif\u001b[39;00m X \u001b[38;5;129;01mis\u001b[39;00m \u001b[38;5;28;01mNone\u001b[39;00m:\n\u001b[0;32m   1150\u001b[0m         X \u001b[38;5;241m=\u001b[39m np\u001b[38;5;241m.\u001b[39marray(x, dtype)\n",
      "File \u001b[1;32m~\\anaconda3\\lib\\site-packages\\numpy\\lib\\npyio.py:999\u001b[0m, in \u001b[0;36mloadtxt.<locals>.read_data\u001b[1;34m(chunk_size)\u001b[0m\n\u001b[0;32m    995\u001b[0m     \u001b[38;5;28;01mraise\u001b[39;00m \u001b[38;5;167;01mValueError\u001b[39;00m(\u001b[38;5;124m\"\u001b[39m\u001b[38;5;124mWrong number of columns at line \u001b[39m\u001b[38;5;132;01m%d\u001b[39;00m\u001b[38;5;124m\"\u001b[39m\n\u001b[0;32m    996\u001b[0m                      \u001b[38;5;241m%\u001b[39m line_num)\n\u001b[0;32m    998\u001b[0m \u001b[38;5;66;03m# Convert each value according to its column and store\u001b[39;00m\n\u001b[1;32m--> 999\u001b[0m items \u001b[38;5;241m=\u001b[39m [conv(val) \u001b[38;5;28;01mfor\u001b[39;00m (conv, val) \u001b[38;5;129;01min\u001b[39;00m \u001b[38;5;28mzip\u001b[39m(converters, vals)]\n\u001b[0;32m   1001\u001b[0m \u001b[38;5;66;03m# Then pack it according to the dtype's nesting\u001b[39;00m\n\u001b[0;32m   1002\u001b[0m items \u001b[38;5;241m=\u001b[39m pack_items(items, packing)\n",
      "File \u001b[1;32m~\\anaconda3\\lib\\site-packages\\numpy\\lib\\npyio.py:999\u001b[0m, in \u001b[0;36m<listcomp>\u001b[1;34m(.0)\u001b[0m\n\u001b[0;32m    995\u001b[0m     \u001b[38;5;28;01mraise\u001b[39;00m \u001b[38;5;167;01mValueError\u001b[39;00m(\u001b[38;5;124m\"\u001b[39m\u001b[38;5;124mWrong number of columns at line \u001b[39m\u001b[38;5;132;01m%d\u001b[39;00m\u001b[38;5;124m\"\u001b[39m\n\u001b[0;32m    996\u001b[0m                      \u001b[38;5;241m%\u001b[39m line_num)\n\u001b[0;32m    998\u001b[0m \u001b[38;5;66;03m# Convert each value according to its column and store\u001b[39;00m\n\u001b[1;32m--> 999\u001b[0m items \u001b[38;5;241m=\u001b[39m [\u001b[43mconv\u001b[49m\u001b[43m(\u001b[49m\u001b[43mval\u001b[49m\u001b[43m)\u001b[49m \u001b[38;5;28;01mfor\u001b[39;00m (conv, val) \u001b[38;5;129;01min\u001b[39;00m \u001b[38;5;28mzip\u001b[39m(converters, vals)]\n\u001b[0;32m   1001\u001b[0m \u001b[38;5;66;03m# Then pack it according to the dtype's nesting\u001b[39;00m\n\u001b[0;32m   1002\u001b[0m items \u001b[38;5;241m=\u001b[39m pack_items(items, packing)\n",
      "File \u001b[1;32m~\\anaconda3\\lib\\site-packages\\numpy\\lib\\npyio.py:736\u001b[0m, in \u001b[0;36m_getconv.<locals>.floatconv\u001b[1;34m(x)\u001b[0m\n\u001b[0;32m    734\u001b[0m \u001b[38;5;28;01mif\u001b[39;00m \u001b[38;5;124m'\u001b[39m\u001b[38;5;124m0x\u001b[39m\u001b[38;5;124m'\u001b[39m \u001b[38;5;129;01min\u001b[39;00m x:\n\u001b[0;32m    735\u001b[0m     \u001b[38;5;28;01mreturn\u001b[39;00m \u001b[38;5;28mfloat\u001b[39m\u001b[38;5;241m.\u001b[39mfromhex(x)\n\u001b[1;32m--> 736\u001b[0m \u001b[38;5;28;01mreturn\u001b[39;00m \u001b[38;5;28;43mfloat\u001b[39;49m\u001b[43m(\u001b[49m\u001b[43mx\u001b[49m\u001b[43m)\u001b[49m\n",
      "\u001b[1;31mValueError\u001b[0m: could not convert string to float: ''"
     ]
    }
   ],
   "source": [
    "import numpy as np\n",
    "# x = np.loadtxt('data2.csv',skiprows=1,delimiter=',')\n",
    "# print(x)\n",
    "x = np.loadtxt('data2.csv',skiprows=1,unpack=True,delimiter=',')\n",
    "print(x)"
   ]
  },
  {
   "cell_type": "code",
   "execution_count": 49,
   "id": "8a053926",
   "metadata": {},
   "outputs": [
    {
     "name": "stdout",
     "output_type": "stream",
     "text": [
      "[[0.2 0.1]\n",
      " [0.4 nan]\n",
      " [0.1 0.6]\n",
      " [0.1 0.3]\n",
      " [nan 0.3]]\n",
      "[[0.2   0.1  ]\n",
      " [0.4   0.001]\n",
      " [0.1   0.6  ]\n",
      " [0.1   0.3  ]\n",
      " [0.001 0.3  ]]\n"
     ]
    }
   ],
   "source": [
    "import numpy as np\n",
    "a = np.genfromtxt('data2.csv',delimiter=',',skip_header=1)\n",
    "print(a)\n",
    "np.savetxt('data1a.csv',a,delimiter=',',fmt=\"%1.4f\")\n",
    "\n",
    "b = np.genfromtxt('data2.csv',delimiter=\",\",skip_header=1,filling_values=0.001)\n",
    "print(b)\n",
    "\n"
   ]
  },
  {
   "cell_type": "code",
   "execution_count": 58,
   "id": "bcfd36f6",
   "metadata": {
    "scrolled": true
   },
   "outputs": [
    {
     "name": "stdout",
     "output_type": "stream",
     "text": [
      "[[ 106    1 8397  364  209  291  398  516  524  630  633  608  615  713\n",
      "   648  584  509  308  304  298  171   58   15    1]\n",
      " [ 106    2 8393  359  210  293  394  513  524  624  636  599  630  709\n",
      "   649  584  515  303  302  300  174   59   15    1]\n",
      " [ 106    3 8389  353  219  283  397  509  530  617  635  602  636  707\n",
      "   643  585  517  304  307  297  174   59   14    1]\n",
      " [ 106    4 8376  349  211  277  395  511  532  614  641  603  635  699\n",
      "   647  586  519  304  305  297  175   61   14    1]\n",
      " [ 106    5 8378  352  218  273  395  512  526  610  642  602  638  687\n",
      "   652  594  518  305  307  298  172   61   15    1]\n",
      " [ 106    6 8395  352  225  271  393  516  529  612  642  603  629  693\n",
      "   656  597  516  308  306  297  174   59   16    1]\n",
      " [ 106    7 8411  363  220  276  387  518  529  611  650  602  619  699\n",
      "   652  606  521  305  308  294  174   60   16    1]\n",
      " [ 106    8 8409  362  222  277  380  515  533  605  649  608  615  705\n",
      "   646  607  529  301  309  295  177   57   16    1]\n",
      " [ 106    9 8406  359  223  271  371  527  528  601  645  606  621  705\n",
      "   651  606  531  305  302  302  176   59   16    1]]\n",
      "uint16\n",
      "106\n",
      "106\n",
      "3\n"
     ]
    }
   ],
   "source": [
    "import numpy as np\n",
    "a = np.genfromtxt('data4.csv',dtype='uint16',delimiter=',',skip_header=1,encoding='utf-8')\n",
    "print(a)\n",
    "print(a.dtype)\n",
    "print(a[0,0])\n",
    "print(a[1,0])\n",
    "print(a[2,1])"
   ]
  },
  {
   "cell_type": "markdown",
   "id": "9f0e3985",
   "metadata": {},
   "source": [
    "## 範圍與百分位數\n",
    "+ np.ptp( ) 計算最大與最小值的差（最大 -(減) 最小）。\n",
    "+ np.percentile( ) 方法代表百分位數，用於統計數據的度量指標，需要三個參數：\n",
    "  + array：陣列。\n",
    "  + percent：計算的百分位數，介於 0 到 100 之間。\n",
    "  + axis：進行計算的軸。\n",
    "+ 百分位數是一種位置量數，有助於瞭解資料在最小值與最大值之間的分布情況。\n",
    "+ p- 百分位數表示：\n",
    "  + 至少有 p-百分比 (p%) 的觀察值小於或者等於他。\n",
    "  + 至少有 (100-p)% 的觀察值大於或等於他。\n",
    "+ 計算方式：\n",
    "  + 將資料由小到大排序。\n",
    "  + 計算 i=(p%*樣本數) 之位置。\n",
    "  + 於 i 位置：\n",
    "    + a. 若不是整數，無條件進位取比 i 大的下一個整數位置的值。\n",
    "    + b. 若為整數，則由 i 與 i+1 兩個位置上的值取平均。"
   ]
  },
  {
   "cell_type": "code",
   "execution_count": 60,
   "id": "62bc6f35",
   "metadata": {},
   "outputs": [
    {
     "name": "stdout",
     "output_type": "stream",
     "text": [
      "[[ 0 30 45]\n",
      " [60 75 90]]\n",
      "\n",
      "90\n",
      "[60 45 45]\n",
      "===================\n",
      "[45 30]\n"
     ]
    }
   ],
   "source": [
    "import numpy as np\n",
    "a = np.array([[0, 30,45],[60,75,90]])\n",
    "print(a)\n",
    "print( )\n",
    "print(np.ptp(a))\n",
    "b = np.ptp(a,axis = 0)\n",
    "print(b)\n",
    "print(\"===================\")\n",
    "b = np.ptp(a,axis = 1)\n",
    "print(b)"
   ]
  },
  {
   "cell_type": "code",
   "execution_count": 65,
   "id": "770c0fdd",
   "metadata": {},
   "outputs": [
    {
     "name": "stdout",
     "output_type": "stream",
     "text": [
      "percentile is: 8.0\n",
      "4.25\n",
      "[8. 6. 5.]\n",
      "[9. 4.]\n"
     ]
    }
   ],
   "source": [
    "import numpy as np\n",
    "arry = np.array([4,6,10,12,8])\n",
    "# 1 2 3 4  5\n",
    "# 4 6 8 10 12\n",
    "# n = 長度\n",
    "# 1 + (n + 1) * p\n",
    "# 1 + (5 + 1) * 0.5 \n",
    "b = np.percentile(arry,50)\n",
    "print(\"percentile is:\",b)\n",
    "a = np.array([[11,8,9],\n",
    "              [5,4,1]])\n",
    "#1 2 3 4 5  6\n",
    "#1 4 5 8 9 11\n",
    "# 1 + (6 - 1) *0.25 = 2.25\n",
    "# 4 + (5 - 4) * 0.25 = 4.25\n",
    "b = np.percentile(a,25)\n",
    "print(b)\n",
    "# 1 2  \n",
    "# 5 11\n",
    "# 1 +(2-1) * 0.5 = 1.5\n",
    "#5 + (11 - 5) * 0.5 = 8\n",
    "b = np.percentile(a,50,axis=0)\n",
    "print(b)\n",
    "# 1 2 3\n",
    "# 8 9 11\n",
    "#1 + (3 - 1) * 0.5 = 2\n",
    "b = np.percentile(a,50,axis=1)\n",
    "print(b)"
   ]
  },
  {
   "cell_type": "markdown",
   "id": "9e22ac3d",
   "metadata": {},
   "source": [
    "## 變異數與標準差\n",
    "+ 變異數代表所有資料到平均數的距離之平方。\n",
    "+ 標準差代表變異數開平方根，也就是可依此表示資料的分散程度。\n",
    "+ var( ) 代表由陣列取得變異數的方法。\n",
    "+ std( ) 代表由陣列取得標準差的方法。"
   ]
  },
  {
   "cell_type": "code",
   "execution_count": 69,
   "id": "50431352",
   "metadata": {},
   "outputs": [
    {
     "name": "stdout",
     "output_type": "stream",
     "text": [
      "[1 2 3 4]\n",
      "1.25\n",
      "1.118033988749895\n",
      "1.25\n",
      "1.118033988749895\n"
     ]
    }
   ],
   "source": [
    "import math\n",
    "import numpy as np\n",
    "a = np.array([1,2,3,4])\n",
    "print(a)\n",
    "# 1 + 2+ 3+ 4 = 10\n",
    "# 10 / 4 = 2.5 均值:2.5\n",
    "mean = a .mean()\n",
    "var = ((a - mean) ** 2).mean()\n",
    "print(var)#變異數\n",
    "print(math.sqrt(var))#標準差\n",
    "b = np.var(a)\n",
    "print(b)#變異數\n",
    "b = np.std(a)\n",
    "print(b)#標準差"
   ]
  },
  {
   "cell_type": "code",
   "execution_count": null,
   "id": "de50e150",
   "metadata": {},
   "outputs": [],
   "source": []
  }
 ],
 "metadata": {
  "kernelspec": {
   "display_name": "Python 3 (ipykernel)",
   "language": "python",
   "name": "python3"
  },
  "language_info": {
   "codemirror_mode": {
    "name": "ipython",
    "version": 3
   },
   "file_extension": ".py",
   "mimetype": "text/x-python",
   "name": "python",
   "nbconvert_exporter": "python",
   "pygments_lexer": "ipython3",
   "version": "3.8.11"
  }
 },
 "nbformat": 4,
 "nbformat_minor": 5
}
