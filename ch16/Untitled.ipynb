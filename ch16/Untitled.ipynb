{
 "cells": [
  {
   "cell_type": "markdown",
   "id": "49567765",
   "metadata": {},
   "source": [
    "## 人數統計圖表顯示"
   ]
  },
  {
   "cell_type": "code",
   "execution_count": 1,
   "id": "568cb164",
   "metadata": {},
   "outputs": [
    {
     "data": {
      "image/png": "[encoded data removed]",
      "text/plain": [
       "<Figure size 432x288 with 1 Axes>"
      ]
     },
     "metadata": {
      "needs_background": "light"
     },
     "output_type": "display_data"
    }
   ],
   "source": [
    "import matplotlib.pyplot as plt\n",
    "y = [8397,8393,8389,8376,8378,8395,8411,8409.8406,8413,8408,8408,8414,8421,8411,8392,8404]\n",
    "x = range(0, len(y))\n",
    "plt.plot(x,y)\n",
    "plt.show()"
   ]
  },
  {
   "cell_type": "markdown",
   "id": "45cc123d",
   "metadata": {},
   "source": [
    "### Q1請開啟 q3.py，加入print(df[df['coverage'] > 50])，並說明輸出結果是哪一個?"
   ]
  },
  {
   "cell_type": "code",
   "execution_count": 7,
   "id": "d6b2f80b",
   "metadata": {},
   "outputs": [
    {
     "name": "stdout",
     "output_type": "stream",
     "text": [
      "             name  year  reports  coverage\n",
      "Cochice     Jason  2012        4        25\n",
      "Pima        Molly  2012       24        94\n",
      "Santa Cruz   Tina  2013       31        57\n",
      "Maricopa     Jake  2014        2        62\n",
      "Yuma          Amy  2014        3        70\n",
      "=====================\n",
      "             name  year  reports  coverage\n",
      "Pima        Molly  2012       24        94\n",
      "Santa Cruz   Tina  2013       31        57\n",
      "=====================\n",
      "Cochice       Jason\n",
      "Pima          Molly\n",
      "Santa Cruz     Tina\n",
      "Maricopa       Jake\n",
      "Yuma            Amy\n",
      "Name: name, dtype: object\n",
      "=====================\n",
      "             name  year  reports  coverage\n",
      "Pima        Molly  2012       24        94\n",
      "Santa Cruz   Tina  2013       31        57\n",
      "Maricopa     Jake  2014        2        62\n",
      "Yuma          Amy  2014        3        70\n",
      "=====================\n",
      "             name  year  reports  coverage\n",
      "Pima        Molly  2012       24        94\n",
      "Santa Cruz   Tina  2013       31        57\n",
      "Maricopa     Jake  2014        2        62\n",
      "Yuma          Amy  2014        3        70\n"
     ]
    }
   ],
   "source": [
    "import pandas as pd\n",
    "data = {'name': ['Jason', 'Molly', 'Tina', 'Jake', 'Amy'],\n",
    "        'year': [2012, 2012, 2013, 2014, 2014],\n",
    "        'reports': [4, 24, 31, 2, 3],\n",
    "        'coverage': [25, 94, 57, 62, 70]}\n",
    "df = pd.DataFrame(data, index = ['Cochice', 'Pima', 'Santa Cruz', 'Maricopa', 'Yuma'])\n",
    "print(df)\n",
    "print(\"=====================\")\n",
    "print(df[1:3])#取得1~2的row\n",
    "print(\"=====================\")\n",
    "print(df['name'])#取得 name的cloum\n",
    "print(\"=====================\")\n",
    "print(df[df['coverage'] > 50])\n",
    "print(\"=====================\")\n",
    "print(df.query(\"coverage > 50\"))"
   ]
  },
  {
   "cell_type": "markdown",
   "id": "1f1c2fbc",
   "metadata": {},
   "source": [
    "### 請開啟 q4.py，加入print(df[(df['coverage']  > 50) & (df['reports'] < 4)])，並說明輸出結果是哪一個?\n"
   ]
  },
  {
   "cell_type": "code",
   "execution_count": 8,
   "id": "c0998794",
   "metadata": {},
   "outputs": [
    {
     "name": "stdout",
     "output_type": "stream",
     "text": [
      "          name  year  reports  coverage\n",
      "Maricopa  Jake  2014        2        62\n",
      "Yuma       Amy  2014        3        70\n",
      "===================================\n"
     ]
    }
   ],
   "source": [
    "import pandas as pd\n",
    "data = {'name': ['Jason', 'Molly', 'Tina', 'Jake', 'Amy'],\n",
    "        'year': [2012, 2012, 2013, 2014, 2014],\n",
    "        'reports': [4, 24, 31, 2, 3],\n",
    "        'coverage': [25, 94, 57, 62, 70]}\n",
    "df = pd.DataFrame(data, index = ['Cochice', 'Pima', 'Santa Cruz', 'Maricopa', 'Yuma'])\n",
    "print(df[(df['coverage'] > 50) & (df['reports'] < 4)])\n",
    "print(\"===================================\")\n",
    "v1 = 50\n",
    "v2 = 4\n",
    "# @v1 @v2 表示變數\n",
    "print(df.query(\"coverage > @v1 & reports < @v2\"))"
   ]
  },
  {
   "cell_type": "markdown",
   "id": "74d5af85",
   "metadata": {},
   "source": [
    "### 請開啟 q5.py，加入print(df[american | elderly])，並說明輸出結果是哪一個?"
   ]
  },
  {
   "cell_type": "code",
   "execution_count": 9,
   "id": "34be6992",
   "metadata": {},
   "outputs": [
    {
     "name": "stdout",
     "output_type": "stream",
     "text": [
      "  first_name nationality  age\n",
      "0      Jason         USA   42\n",
      "1      Molly         USA   52\n",
      "4        NaN          UK   70\n"
     ]
    }
   ],
   "source": [
    "# Import modules\n",
    "import pandas as pd\n",
    "import numpy as np\n",
    "# Create a dataframe\n",
    "raw_data = {'first_name': ['Jason', 'Molly', np.nan, np.nan, np.nan],\n",
    "        'nationality': ['USA', 'USA', 'France', 'UK', 'UK'],\n",
    "        'age': [42, 52, 36, 24, 70]}\n",
    "df = pd.DataFrame(raw_data, columns = ['first_name', 'nationality', 'age'])\n",
    "american = df['nationality'] == \"USA\"\n",
    "elderly = df['age'] > 50\n",
    "print(df[american | elderly])"
   ]
  },
  {
   "cell_type": "markdown",
   "id": "96e2b62c",
   "metadata": {},
   "source": [
    "### in 與 not in\n",
    "\n",
    "+ Pandas 有 isin 方法，代表如果資料存在於 isin 方法內的比對對象，那就傳回 True。\n",
    "+ 如果比對對象是一個 dictionary：\n",
    "  + 首先判斷對應的 index 是否存在。\n",
    "  + 如果存在，接著判斷對應的位置是否存在。\n",
    "  + 如果不存在，那麼全部為 False。\n",
    "+ 如果是一個 DataFrame：\n",
    "  + 首先就是 column 名稱要存在。\n",
    "  + 原資料行列位置和對應的行列位置一一匹配，才返回 TRUE。\n",
    "+ 若要設計一個 not in 的分析語法，請在函數方法前面加個 ~ 即可。"
   ]
  },
  {
   "cell_type": "code",
   "execution_count": 10,
   "id": "14794967",
   "metadata": {},
   "outputs": [
    {
     "name": "stdout",
     "output_type": "stream",
     "text": [
      "       A      B\n",
      "0   True   True\n",
      "1  False  False\n",
      "2   True  False\n",
      "------------\n",
      "       A      B\n",
      "0   True  False\n",
      "1  False   True\n",
      "2   True   True\n",
      "------------\n"
     ]
    }
   ],
   "source": [
    "import pandas as pd\n",
    "df = pd.DataFrame({   'A': [1, 2, 3],\n",
    "                      'B': ['a', 'b', 'f']  })\n",
    "x=df.isin([1, 3, 12, 'a'])\n",
    "print(x)\n",
    "print(\"------------\")\n",
    "df2 = pd.DataFrame({  'A': [1, 2, 3], 'B': [1, 4, 7] })\n",
    "x2=df2.isin({    'A': [1, 3],   'B': [4, 7, 12] })\n",
    "print(x2)\n",
    "print(\"------------\")"
   ]
  },
  {
   "cell_type": "code",
   "execution_count": 11,
   "id": "c43317fb",
   "metadata": {},
   "outputs": [
    {
     "name": "stdout",
     "output_type": "stream",
     "text": [
      "       A      B\n",
      "0   True  False\n",
      "1  False  False\n",
      "2   True  False\n",
      "------------\n",
      "       A      B\n",
      "0   True  False\n",
      "1  False  False\n",
      "2   True   True\n",
      "------------\n",
      "       A      B\n",
      "0  False  False\n",
      "1  False  False\n",
      "2  False  False\n",
      "------------\n"
     ]
    }
   ],
   "source": [
    "import pandas as pd\n",
    "df = pd.DataFrame({'A': [1, 2, 3],'B': ['a', 'b', 'f']})\n",
    "x3=df.isin({ 'A': [1, 3],'C': [4, 7, 12]}) #因為B不在比較清單內所以全為False\n",
    "print(x3)\n",
    "print(\"------------\")\n",
    "df = pd.DataFrame({'A': [1, 2, 3],'B': ['a', 'b', 'f']})\n",
    "# 使用DataFramey時 必須一一對映才可為true\n",
    "other = pd.DataFrame({'A': [1, 3, 3, 2], 'B': ['e', 'f', 'f', 'e']})\n",
    "x4=df.isin(other)\n",
    "print(x4)\n",
    "print(\"------------\")\n",
    "other = pd.DataFrame({'C': [1, 3, 3, 2],'D': ['e', 'f', 'f', 'e']})\n",
    "x5=df.isin(other) #因為沒對上Key所以全為False\n",
    "print(x5)\n",
    "print(\"------------\")"
   ]
  },
  {
   "cell_type": "code",
   "execution_count": 12,
   "id": "07d4533a",
   "metadata": {},
   "outputs": [
    {
     "name": "stdout",
     "output_type": "stream",
     "text": [
      "       country  year         pop continent  lifeExp   gdpPercap\n",
      "0  Afghanistan  1952   8425333.0      Asia   28.801  779.445314\n",
      "1  Afghanistan  1957   9240934.0      Asia   30.332  820.853030\n",
      "2  Afghanistan  1962  10267083.0      Asia   31.997  853.100710\n",
      "0        True\n",
      "1       False\n",
      "2       False\n",
      "3       False\n",
      "4       False\n",
      "        ...  \n",
      "1699    False\n",
      "1700    False\n",
      "1701    False\n",
      "1702    False\n",
      "1703     True\n",
      "Name: year, Length: 1704, dtype: bool\n",
      "(284, 6)\n",
      "        country  year         pop continent  lifeExp    gdpPercap\n",
      "0   Afghanistan  1952   8425333.0      Asia   28.801   779.445314\n",
      "11  Afghanistan  2007  31889923.0      Asia   43.828   974.580338\n",
      "12      Albania  1952   1282697.0    Europe   55.230  1601.056136\n",
      "23      Albania  2007   3600523.0    Europe   76.423  5937.029526\n",
      "24      Algeria  1952   9279525.0    Africa   43.077  2449.008185\n"
     ]
    }
   ],
   "source": [
    "import pandas021a\n",
    "years = [1952, 2007]\n",
    "print(pandas021a.gap1.year.isin(years))\n",
    "gapminder_years= pandas021a.gap1[pandas021a.gap1.year.isin(years)]\n",
    "print(gapminder_years.shape)\n",
    "print(gapminder_years.head(5))"
   ]
  },
  {
   "cell_type": "code",
   "execution_count": 14,
   "id": "e977174c",
   "metadata": {},
   "outputs": [
    {
     "name": "stdout",
     "output_type": "stream",
     "text": [
      "       A      B\n",
      "0   True  False\n",
      "1  False  False\n",
      "2   True  False\n",
      "------------\n",
      "       A      B\n",
      "0   True  False\n",
      "1  False  False\n",
      "2   True   True\n",
      "------------\n",
      "       A      B\n",
      "0  False  False\n",
      "1  False  False\n",
      "2  False  False\n",
      "------------\n"
     ]
    }
   ],
   "source": []
  },
  {
   "cell_type": "code",
   "execution_count": 15,
   "id": "f0fdbf38",
   "metadata": {},
   "outputs": [
    {
     "name": "stdout",
     "output_type": "stream",
     "text": [
      "       A      B\n",
      "0  False  False\n",
      "1   True   True\n",
      "2  False   True\n",
      "------------\n",
      "       A      B\n",
      "0  False   True\n",
      "1   True  False\n",
      "2  False  False\n",
      "------------\n",
      "       A     B\n",
      "0  False  True\n",
      "1   True  True\n",
      "2  False  True\n",
      "------------\n"
     ]
    }
   ],
   "source": [
    "import pandas as pd\n",
    "df = pd.DataFrame({'A': [1, 2, 3],'B': ['a', 'b', 'f']})\n",
    "x=~df.isin([1, 3, 12, 'a'])\n",
    "print(x)\n",
    "print(\"------------\")\n",
    "df2 = pd.DataFrame({'A': [1, 2, 3],'B': [1, 4, 7]})\n",
    "x2=~df2.isin({'A': [1, 3],'B': [4, 7, 12]})\n",
    "print(x2)\n",
    "print(\"------------\")\n",
    "x3=~df.isin({'A': [1, 3],'C': [4, 7, 12]})\n",
    "print(x3)\n",
    "print(\"------------\")\n"
   ]
  },
  {
   "cell_type": "code",
   "execution_count": 16,
   "id": "6cc49b60",
   "metadata": {},
   "outputs": [
    {
     "name": "stdout",
     "output_type": "stream",
     "text": [
      "       A      B\n",
      "0  False  False\n",
      "1   True   True\n",
      "2  False   True\n",
      "------------\n",
      "       A      B\n",
      "0  False   True\n",
      "1   True   True\n",
      "2  False  False\n",
      "------------\n"
     ]
    }
   ],
   "source": [
    "import pandas as pd\n",
    "df = pd.DataFrame({'A': [1, 2, 3],'B': ['a', 'b', 'f']})\n",
    "x=~df.isin([1, 3, 12, 'a'])\n",
    "print(x)\n",
    "print(\"------------\")\n",
    "df = pd.DataFrame({'A': [1, 2, 3],'B': ['a', 'b', 'f']})\n",
    "other = pd.DataFrame({'A': [1, 3, 3, 2], 'B': ['e', 'f', 'f', 'e']})\n",
    "x4=~df.isin(other)\n",
    "print(x4)\n",
    "print(\"------------\")"
   ]
  },
  {
   "cell_type": "code",
   "execution_count": 17,
   "id": "de8bbd9c",
   "metadata": {},
   "outputs": [
    {
     "name": "stdout",
     "output_type": "stream",
     "text": [
      "          country  year         pop continent  lifeExp    gdpPercap\n",
      "60      Australia  1952   8691212.0   Oceania   69.120  10039.59564\n",
      "61      Australia  1957   9712569.0   Oceania   70.330  10949.64959\n",
      "62      Australia  1962  10794968.0   Oceania   70.930  12217.22686\n",
      "63      Australia  1967  11872264.0   Oceania   71.100  14526.12465\n",
      "64      Australia  1972  13177000.0   Oceania   71.930  16788.62948\n",
      "65      Australia  1977  14074100.0   Oceania   73.490  18334.19751\n",
      "66      Australia  1982  15184200.0   Oceania   74.740  19477.00928\n",
      "67      Australia  1987  16257249.0   Oceania   76.320  21888.88903\n",
      "68      Australia  1992  17481977.0   Oceania   77.560  23424.76683\n",
      "69      Australia  1997  18565243.0   Oceania   78.830  26997.93657\n",
      "70      Australia  2002  19546792.0   Oceania   80.370  30687.75473\n",
      "71      Australia  2007  20434176.0   Oceania   81.235  34435.36744\n",
      "1092  New Zealand  1952   1994794.0   Oceania   69.390  10556.57566\n",
      "1093  New Zealand  1957   2229407.0   Oceania   70.260  12247.39532\n",
      "1094  New Zealand  1962   2488550.0   Oceania   71.240  13175.67800\n",
      "1095  New Zealand  1967   2728150.0   Oceania   71.520  14463.91893\n",
      "1096  New Zealand  1972   2929100.0   Oceania   71.890  16046.03728\n",
      "1097  New Zealand  1977   3164900.0   Oceania   72.220  16233.71770\n",
      "1098  New Zealand  1982   3210650.0   Oceania   73.840  17632.41040\n",
      "1099  New Zealand  1987   3317166.0   Oceania   74.320  19007.19129\n",
      "1100  New Zealand  1992   3437674.0   Oceania   76.330  18363.32494\n",
      "1101  New Zealand  1997   3676187.0   Oceania   77.550  21050.41377\n",
      "1102  New Zealand  2002   3908037.0   Oceania   79.110  23189.80135\n",
      "1103  New Zealand  2007   4115771.0   Oceania   80.204  25185.00911\n"
     ]
    }
   ],
   "source": [
    "import pandas021a\n",
    "continents = ['Asia','Africa', 'Americas', 'Europe']\n",
    "gapminder_Ocean = pandas021a.gap1[~pandas021a.gap1.continent.isin(continents)]\n",
    "#print(gapminder_Ocean.shape)\n",
    "print(gapminder_Ocean)\n"
   ]
  },
  {
   "cell_type": "markdown",
   "id": "6de8cf37",
   "metadata": {},
   "source": [
    "## 排序\n",
    "+ 可選擇依據 sort_index( ) 依據索引值或者 sort_values( ) 依據內容進行排序。\n",
    "+ 若加入 ascending=False 代表由大而小進行排序。\n",
    "+ sort_index 預設為依據 row 的 index 進行，若加入 axis=1 則會依據 column 的 index 進行排序。\n",
    "+ 可給予一個排序欄位清單，物件將依照欄位清單依序進行排序。"
   ]
  },
  {
   "cell_type": "markdown",
   "id": "be923cec",
   "metadata": {},
   "source": [
    "### sort index"
   ]
  },
  {
   "cell_type": "code",
   "execution_count": 21,
   "id": "d18d33b0",
   "metadata": {},
   "outputs": [
    {
     "name": "stdout",
     "output_type": "stream",
     "text": [
      "       col2      col1\n",
      "1 -1.649727 -1.277023\n",
      "4 -1.393135  0.052096\n",
      "6 -0.953568  1.849329\n",
      "2  0.818150 -0.445549\n",
      "3 -0.051142 -0.460652\n",
      "5  0.938632 -0.610955\n",
      "9 -1.626462  1.453205\n",
      "8 -0.225512  1.464402\n",
      "0 -0.415046  0.514877\n",
      "7  0.709935  1.253336\n",
      "---------------------\n",
      "       col2      col1\n",
      "0 -0.415046  0.514877\n",
      "1 -1.649727 -1.277023\n",
      "2  0.818150 -0.445549\n",
      "3 -0.051142 -0.460652\n",
      "4 -1.393135  0.052096\n",
      "5  0.938632 -0.610955\n",
      "6 -0.953568  1.849329\n",
      "7  0.709935  1.253336\n",
      "8 -0.225512  1.464402\n",
      "9 -1.626462  1.453205\n",
      "---------------------\n",
      "       col2      col1\n",
      "9 -1.626462  1.453205\n",
      "8 -0.225512  1.464402\n",
      "7  0.709935  1.253336\n",
      "6 -0.953568  1.849329\n",
      "5  0.938632 -0.610955\n",
      "4 -1.393135  0.052096\n",
      "3 -0.051142 -0.460652\n",
      "2  0.818150 -0.445549\n",
      "1 -1.649727 -1.277023\n",
      "0 -0.415046  0.514877\n",
      "---------------------\n",
      "       col1      col2\n",
      "1 -1.277023 -1.649727\n",
      "4  0.052096 -1.393135\n",
      "6  1.849329 -0.953568\n",
      "2 -0.445549  0.818150\n",
      "3 -0.460652 -0.051142\n",
      "5 -0.610955  0.938632\n",
      "9  1.453205 -1.626462\n",
      "8  1.464402 -0.225512\n",
      "0  0.514877 -0.415046\n",
      "7  1.253336  0.709935\n"
     ]
    }
   ],
   "source": [
    "import pandas as pd\n",
    "import numpy as np\n",
    "df1 = pd.DataFrame(np.random.randn(10,2),index=[1,4,6,2,3,5,9,8,0,7],columns = ['col2','col1'])\n",
    "print(df1)\n",
    "print(\"---------------------\")\n",
    "df2 = df1.sort_index()\n",
    "print(df2)\n",
    "print(\"---------------------\")\n",
    "df2 = df1.sort_index(ascending=False)\n",
    "print(df2)\n",
    "print(\"---------------------\")\n",
    "df2 = df1.sort_index(axis=1)\n",
    "print(df2)"
   ]
  },
  {
   "cell_type": "markdown",
   "id": "9716a528",
   "metadata": {},
   "source": [
    "### sort value"
   ]
  },
  {
   "cell_type": "code",
   "execution_count": 25,
   "id": "fc3f795b",
   "metadata": {},
   "outputs": [
    {
     "name": "stdout",
     "output_type": "stream",
     "text": [
      "   star_rating                     title content_rating   genre  duration  \\\n",
      "0          9.3  The Shawshank Redemption              R   Crime       142   \n",
      "1          9.2             The Godfather              R   Crime       175   \n",
      "2          9.1    The Godfather: Part II              R   Crime       200   \n",
      "3          9.0           The Dark Knight          PG-13  Action       152   \n",
      "4          8.9              Pulp Fiction              R   Crime       154   \n",
      "\n",
      "                                         actors_list  \n",
      "0  [u'Tim Robbins', u'Morgan Freeman', u'Bob Gunt...  \n",
      "1    [u'Marlon Brando', u'Al Pacino', u'James Caan']  \n",
      "2  [u'Al Pacino', u'Robert De Niro', u'Robert Duv...  \n",
      "3  [u'Christian Bale', u'Heath Ledger', u'Aaron E...  \n",
      "4  [u'John Travolta', u'Uma Thurman', u'Samuel L....  \n",
      "--------------\n",
      "542     (500) Days of Summer\n",
      "5               12 Angry Men\n",
      "201         12 Years a Slave\n",
      "698                127 Hours\n",
      "110    2001: A Space Odyssey\n",
      "Name: title, dtype: object\n",
      "--------------\n",
      "542     (500) Days of Summer\n",
      "5               12 Angry Men\n",
      "201         12 Years a Slave\n",
      "698                127 Hours\n",
      "110    2001: A Space Odyssey\n",
      "Name: title, dtype: object\n",
      "--------------\n",
      "864               [Rec]\n",
      "526                Zulu\n",
      "615          Zombieland\n",
      "677              Zodiac\n",
      "955    Zero Dark Thirty\n",
      "Name: title, dtype: object\n"
     ]
    }
   ],
   "source": [
    "import pandas as pd\n",
    "url = 'http://bit.ly/imdbratings'\n",
    "df1 = pd.read_csv(url)\n",
    "print(df1.head( ))\n",
    "print(\"--------------\")\n",
    "df2 = df1.title.sort_values()\n",
    "print(df2.head())\n",
    "print(\"--------------\")\n",
    "df3 = df1['title'].sort_values()\n",
    "print(df3.head())\n",
    "print(\"--------------\")\n",
    "df4 = df1.title.sort_values(ascending=False)\n",
    "print(df4.head())"
   ]
  },
  {
   "cell_type": "markdown",
   "id": "123cb966",
   "metadata": {},
   "source": [
    "### sort dataframe"
   ]
  },
  {
   "cell_type": "code",
   "execution_count": 33,
   "id": "7b8f33bf",
   "metadata": {},
   "outputs": [
    {
     "name": "stdout",
     "output_type": "stream",
     "text": [
      "   star_rating                     title content_rating   genre  duration  \\\n",
      "0          9.3  The Shawshank Redemption              R   Crime       142   \n",
      "1          9.2             The Godfather              R   Crime       175   \n",
      "2          9.1    The Godfather: Part II              R   Crime       200   \n",
      "3          9.0           The Dark Knight          PG-13  Action       152   \n",
      "4          8.9              Pulp Fiction              R   Crime       154   \n",
      "\n",
      "                                         actors_list  \n",
      "0  [u'Tim Robbins', u'Morgan Freeman', u'Bob Gunt...  \n",
      "1    [u'Marlon Brando', u'Al Pacino', u'James Caan']  \n",
      "2  [u'Al Pacino', u'Robert De Niro', u'Robert Duv...  \n",
      "3  [u'Christian Bale', u'Heath Ledger', u'Aaron E...  \n",
      "4  [u'John Travolta', u'Uma Thurman', u'Samuel L....  \n",
      "--------------\n",
      "     star_rating                  title content_rating      genre  duration  \\\n",
      "542          7.8   (500) Days of Summer          PG-13     Comedy        95   \n",
      "5            8.9           12 Angry Men      NOT RATED      Drama        96   \n",
      "201          8.1       12 Years a Slave              R  Biography       134   \n",
      "698          7.6              127 Hours              R  Adventure        94   \n",
      "110          8.3  2001: A Space Odyssey              G    Mystery       160   \n",
      "\n",
      "                                           actors_list  \n",
      "542  [u'Zooey Deschanel', u'Joseph Gordon-Levitt', ...  \n",
      "5    [u'Henry Fonda', u'Lee J. Cobb', u'Martin Bals...  \n",
      "201  [u'Chiwetel Ejiofor', u'Michael Kenneth Willia...  \n",
      "698  [u'James Franco', u'Amber Tamblyn', u'Kate Mara']  \n",
      "110  [u'Keir Dullea', u'Gary Lockwood', u'William S...  \n",
      "--------------\n",
      "     star_rating                              title content_rating      genre  \\\n",
      "476          7.8                             Hamlet          PG-13      Drama   \n",
      "157          8.2                 Gone with the Wind              G      Drama   \n",
      "78           8.4        Once Upon a Time in America              R      Crime   \n",
      "142          8.3  Lagaan: Once Upon a Time in India             PG  Adventure   \n",
      "445          7.9               The Ten Commandments       APPROVED  Adventure   \n",
      "\n",
      "     duration                                        actors_list  \n",
      "476       242  [u'Kenneth Branagh', u'Julie Christie', u'Dere...  \n",
      "157       238  [u'Clark Gable', u'Vivien Leigh', u'Thomas Mit...  \n",
      "78        229  [u'Robert De Niro', u'James Woods', u'Elizabet...  \n",
      "142       224  [u'Aamir Khan', u'Gracy Singh', u'Rachel Shell...  \n",
      "445       220  [u'Charlton Heston', u'Yul Brynner', u'Anne Ba...  \n",
      "--------------\n",
      "     star_rating                           title content_rating      genre  \\\n",
      "713          7.6                 The Jungle Book       APPROVED  Animation   \n",
      "513          7.8  Invasion of the Body Snatchers       APPROVED     Horror   \n",
      "272          8.1                     The Killing       APPROVED      Crime   \n",
      "703          7.6                         Dracula       APPROVED     Horror   \n",
      "612          7.7              A Hard Day's Night       APPROVED     Comedy   \n",
      "\n",
      "     duration                                        actors_list  \n",
      "713        78  [u'Phil Harris', u'Sebastian Cabot', u'Louis P...  \n",
      "513        80  [u'Kevin McCarthy', u'Dana Wynter', u'Larry Ga...  \n",
      "272        85  [u'Sterling Hayden', u'Coleen Gray', u'Vince E...  \n",
      "703        85  [u'Bela Lugosi', u'Helen Chandler', u'David Ma...  \n",
      "612        87  [u'John Lennon', u'Paul McCartney', u'George H...  \n",
      "--------------\n",
      "     star_rating                            title content_rating      genre  \\\n",
      "445          7.9             The Ten Commandments       APPROVED  Adventure   \n",
      "767          7.6  It's a Mad, Mad, Mad, Mad World       APPROVED     Action   \n",
      "444          7.9                     My Fair Lady       APPROVED      Drama   \n",
      "557          7.8                     Mary Poppins       APPROVED     Comedy   \n",
      "95           8.4                    All About Eve       APPROVED      Drama   \n",
      "\n",
      "     duration                                        actors_list  \n",
      "445       220  [u'Charlton Heston', u'Yul Brynner', u'Anne Ba...  \n",
      "767       205  [u'Spencer Tracy', u'Milton Berle', u'Ethel Me...  \n",
      "444       170  [u'Audrey Hepburn', u'Rex Harrison', u'Stanley...  \n",
      "557       139  [u'Julie Andrews', u'Dick Van Dyke', u'David T...  \n",
      "95        138  [u'Bette Davis', u'Anne Baxter', u'George Sand...  \n"
     ]
    }
   ],
   "source": [
    "import pandas as pd\n",
    "url = 'http://bit.ly/imdbratings'\n",
    "df1 = pd.read_csv(url)\n",
    "print(df1.head( ))\n",
    "print(\"--------------\")\n",
    "df2=df1.sort_values('title') #使用title做dataframe排序條件\n",
    "print(df2.head( ))\n",
    "print(\"--------------\")\n",
    "df3=df1.sort_values('duration', ascending=False) #使用duration排序 遞減\n",
    "print(df3.head( ))\n",
    "print(\"--------------\")\n",
    "columns = ['content_rating', 'duration'] # content_rating 排完 再用duration 排\n",
    "df4=df1.sort_values(columns)\n",
    "print(df4.head())\n",
    "print(\"--------------\")\n",
    "df4=df1.sort_values(columns,ascending=[True,False])\n",
    "print(df4.head())"
   ]
  },
  {
   "attachments": {
    "image.png": {
     "image/png": "[encoded data removed]"
    }
   },
   "cell_type": "markdown",
   "id": "2d9702f9",
   "metadata": {},
   "source": [
    "## 處理日期資訊\n",
    "+ 可使用 pandas 的 date_range( ) 函數，可以建立日期資料。\n",
    "+ 默認情況下，範圍的週期單位為天。\n",
    "+ 若要表達出工作天 (不包含周六周日)，則請選擇 bdate_range( ) 方法。\n",
    "+ date_range 或 bdate_range( ) 內的參數：\n",
    "  + ('起始日期', periods=天數)\n",
    "  + periods 由開始日取幾天\n",
    "  + ('起始日期','結束日期')\n",
    "  + 可加入另外一個參數：freq 代表範圍的週期單位\n",
    "+ freq 參數的內容\n",
    "![image.png](attachment:image.png)"
   ]
  },
  {
   "cell_type": "code",
   "execution_count": 43,
   "id": "47f5289c",
   "metadata": {},
   "outputs": [
    {
     "name": "stdout",
     "output_type": "stream",
     "text": [
      "DatetimeIndex(['2018-10-10', '2018-10-11', '2018-10-12', '2018-10-13',\n",
      "               '2018-10-14', '2018-10-15', '2018-10-16', '2018-10-17',\n",
      "               '2018-10-18', '2018-10-19'],\n",
      "              dtype='datetime64[ns]', freq='D')\n",
      "======================\n",
      "DatetimeIndex(['2018-10-14', '2018-10-21', '2018-10-28', '2018-11-04',\n",
      "               '2018-11-11', '2018-11-18', '2018-11-25', '2018-12-02',\n",
      "               '2018-12-09', '2018-12-16'],\n",
      "              dtype='datetime64[ns]', freq='W-SUN')\n",
      "======================\n",
      "0   2018-10-14\n",
      "1   2018-10-21\n",
      "2   2018-10-28\n",
      "3   2018-11-04\n",
      "4   2018-11-11\n",
      "5   2018-11-18\n",
      "6   2018-11-25\n",
      "7   2018-12-02\n",
      "8   2018-12-09\n",
      "9   2018-12-16\n",
      "dtype: datetime64[ns]\n",
      "======================\n",
      "        Time\n",
      "A 2018-10-14\n",
      "B 2018-10-21\n",
      "C 2018-10-28\n",
      "D 2018-11-04\n",
      "E 2018-11-11\n",
      "======================\n",
      "A    2018\n",
      "B    2018\n",
      "C    2018\n",
      "D    2018\n",
      "E    2018\n",
      "Name: Time, dtype: int64\n"
     ]
    }
   ],
   "source": [
    "import pandas as pd\n",
    "a = pd.date_range('10/10/2018',periods=10)\n",
    "print(a)\n",
    "print(\"======================\")\n",
    "a = pd.date_range('10/10/2018',periods=10,freq=\"W\")\n",
    "print(a)\n",
    "print(\"======================\")\n",
    "s1 = pd.Series(a)\n",
    "print(s1)\n",
    "print(\"======================\")\n",
    "a = pd.date_range(\"10/10/2018\",periods=5,freq=\"W\")\n",
    "df = pd.DataFrame({\"Time\":a},index=[\"A\",\"B\",\"C\",\"D\",\"E\"])\n",
    "print(df)\n",
    "print(\"======================\")\n",
    "print(df[\"Time\"].dt.year)"
   ]
  },
  {
   "cell_type": "code",
   "execution_count": 47,
   "id": "278b0a5a",
   "metadata": {},
   "outputs": [
    {
     "name": "stdout",
     "output_type": "stream",
     "text": [
      "DatetimeIndex(['2018-10-10', '2018-10-11', '2018-10-12', '2018-10-13',\n",
      "               '2018-10-14', '2018-10-15', '2018-10-16', '2018-10-17',\n",
      "               '2018-10-18', '2018-10-19', '2018-10-20', '2018-10-21',\n",
      "               '2018-10-22', '2018-10-23', '2018-10-24', '2018-10-25',\n",
      "               '2018-10-26', '2018-10-27', '2018-10-28', '2018-10-29',\n",
      "               '2018-10-30', '2018-10-31', '2018-11-01', '2018-11-02',\n",
      "               '2018-11-03', '2018-11-04', '2018-11-05', '2018-11-06',\n",
      "               '2018-11-07', '2018-11-08', '2018-11-09', '2018-11-10',\n",
      "               '2018-11-11', '2018-11-12', '2018-11-13', '2018-11-14',\n",
      "               '2018-11-15', '2018-11-16', '2018-11-17', '2018-11-18',\n",
      "               '2018-11-19', '2018-11-20', '2018-11-21', '2018-11-22',\n",
      "               '2018-11-23', '2018-11-24', '2018-11-25', '2018-11-26',\n",
      "               '2018-11-27', '2018-11-28', '2018-11-29', '2018-11-30',\n",
      "               '2018-12-01', '2018-12-02', '2018-12-03', '2018-12-04',\n",
      "               '2018-12-05', '2018-12-06', '2018-12-07', '2018-12-08',\n",
      "               '2018-12-09', '2018-12-10', '2018-12-11', '2018-12-12',\n",
      "               '2018-12-13', '2018-12-14', '2018-12-15', '2018-12-16',\n",
      "               '2018-12-17', '2018-12-18', '2018-12-19', '2018-12-20',\n",
      "               '2018-12-21', '2018-12-22', '2018-12-23', '2018-12-24',\n",
      "               '2018-12-25'],\n",
      "              dtype='datetime64[ns]', freq='D')\n",
      "===================\n",
      "DatetimeIndex(['2018-10-10', '2018-10-11', '2018-10-12', '2018-10-15',\n",
      "               '2018-10-16', '2018-10-17', '2018-10-18', '2018-10-19',\n",
      "               '2018-10-22', '2018-10-23', '2018-10-24', '2018-10-25',\n",
      "               '2018-10-26', '2018-10-29', '2018-10-30', '2018-10-31',\n",
      "               '2018-11-01', '2018-11-02', '2018-11-05', '2018-11-06',\n",
      "               '2018-11-07', '2018-11-08', '2018-11-09', '2018-11-12',\n",
      "               '2018-11-13', '2018-11-14', '2018-11-15', '2018-11-16',\n",
      "               '2018-11-19', '2018-11-20', '2018-11-21', '2018-11-22',\n",
      "               '2018-11-23', '2018-11-26', '2018-11-27', '2018-11-28',\n",
      "               '2018-11-29', '2018-11-30', '2018-12-03', '2018-12-04',\n",
      "               '2018-12-05', '2018-12-06', '2018-12-07', '2018-12-10',\n",
      "               '2018-12-11', '2018-12-12', '2018-12-13', '2018-12-14',\n",
      "               '2018-12-17', '2018-12-18', '2018-12-19', '2018-12-20',\n",
      "               '2018-12-21', '2018-12-24', '2018-12-25'],\n",
      "              dtype='datetime64[ns]', freq='B')\n",
      "===================\n",
      "DatetimeIndex(['2018-10-31', '2018-11-30'], dtype='datetime64[ns]', freq='M')\n"
     ]
    }
   ],
   "source": [
    "import pandas as pd\n",
    "from datetime import datetime\n",
    "start = datetime(2018,10,10)\n",
    "end = datetime(2018,12,25)\n",
    "a = pd.date_range(start,end)#包含假日\n",
    "b = pd.bdate_range(start,end)#不包含假日  工作天\n",
    "c = pd.date_range(start,end,freq=\"M\")\n",
    "print(a)\n",
    "print(\"===================\")\n",
    "print(b)\n",
    "print(\"===================\")\n",
    "print(c)"
   ]
  },
  {
   "cell_type": "markdown",
   "id": "e91d03c2",
   "metadata": {},
   "source": [
    "### to_datatime() \n",
    "字串轉日期"
   ]
  },
  {
   "cell_type": "code",
   "execution_count": 48,
   "id": "d099bdd5",
   "metadata": {},
   "outputs": [
    {
     "name": "stdout",
     "output_type": "stream",
     "text": [
      "                      L06_347  LS06_347  LS06_348\n",
      "Time                                             \n",
      "2009-01-01 00:00:00  0.137417  0.097500  0.016833\n",
      "2009-01-01 03:00:00  0.131250  0.088833  0.016417\n",
      "2009-01-01 06:00:00  0.113500  0.091250  0.016750\n",
      "2009-01-01 09:00:00  0.135750  0.091500  0.016250\n",
      "2009-01-01 12:00:00  0.140917  0.096167  0.017000\n",
      "...                       ...       ...       ...\n",
      "2013-01-01 12:00:00  1.710000  1.710000  0.129583\n",
      "2013-01-01 15:00:00  1.420000  1.420000  0.096333\n",
      "2013-01-01 18:00:00  1.178583  1.178583  0.083083\n",
      "2013-01-01 21:00:00  0.898250  0.898250  0.077167\n",
      "2013-01-02 00:00:00  0.860000  0.860000  0.075000\n",
      "\n",
      "[11697 rows x 3 columns]\n"
     ]
    }
   ],
   "source": [
    "import pandas as pd\n",
    "df = pd.read_csv(\"./flowdata.csv\")\n",
    "df[\"Time\"] = pd.to_datetime(df[\"Time\"])\n",
    "df2 = df.set_index(\"Time\")\n",
    "print(df2)"
   ]
  },
  {
   "cell_type": "code",
   "execution_count": 55,
   "id": "8790cfc8",
   "metadata": {},
   "outputs": [
    {
     "name": "stdout",
     "output_type": "stream",
     "text": [
      "                      L06_347  LS06_347  LS06_348\n",
      "Time                                             \n",
      "2009-01-01 00:00:00  0.137417  0.097500  0.016833\n",
      "2009-01-01 03:00:00  0.131250  0.088833  0.016417\n",
      "2009-01-01 06:00:00  0.113500  0.091250  0.016750\n",
      "2009-01-01 09:00:00  0.135750  0.091500  0.016250\n",
      "2009-01-01 12:00:00  0.140917  0.096167  0.017000\n",
      "...                       ...       ...       ...\n",
      "2013-01-01 12:00:00  1.710000  1.710000  0.129583\n",
      "2013-01-01 15:00:00  1.420000  1.420000  0.096333\n",
      "2013-01-01 18:00:00  1.178583  1.178583  0.083083\n",
      "2013-01-01 21:00:00  0.898250  0.898250  0.077167\n",
      "2013-01-02 00:00:00  0.860000  0.860000  0.075000\n",
      "\n",
      "[11697 rows x 3 columns]\n",
      "===================\n",
      "                      L06_347  LS06_347  LS06_348\n",
      "Time                                             \n",
      "2010-01-01 00:00:00  0.535083  0.644750  0.061917\n",
      "2010-01-01 03:00:00  0.493000  0.607000  0.058833\n",
      "2010-01-01 06:00:00  0.464667  0.565750  0.055333\n",
      "2010-01-01 09:00:00  0.448167  0.524583  0.052000\n",
      "2010-01-01 12:00:00  0.436333  0.499333  0.050750\n",
      "...                       ...       ...       ...\n",
      "2012-01-01 09:00:00  0.330750  0.293583  0.029750\n",
      "2012-01-01 12:00:00  0.295000  0.285167  0.031750\n",
      "2012-01-01 15:00:00  0.301417  0.287750  0.031417\n",
      "2012-01-01 18:00:00  0.322083  0.304167  0.038083\n",
      "2012-01-01 21:00:00  0.355417  0.346500  0.080917\n",
      "\n",
      "[5848 rows x 3 columns]\n",
      "===================\n",
      "                      L06_347  LS06_347  LS06_348\n",
      "Time                                             \n",
      "2013-01-01 00:00:00  1.688333  1.688333  0.207333\n",
      "2013-01-01 03:00:00  2.693333  2.693333  0.201500\n",
      "2013-01-01 06:00:00  2.220833  2.220833  0.166917\n",
      "2013-01-01 09:00:00  2.055000  2.055000  0.175667\n",
      "2013-01-01 12:00:00  1.710000  1.710000  0.129583\n",
      "2013-01-01 15:00:00  1.420000  1.420000  0.096333\n",
      "2013-01-01 18:00:00  1.178583  1.178583  0.083083\n",
      "2013-01-01 21:00:00  0.898250  0.898250  0.077167\n",
      "2013-01-02 00:00:00  0.860000  0.860000  0.075000\n",
      "===================\n",
      "                      L06_347  LS06_347  LS06_348\n",
      "Time                                             \n",
      "2009-01-01 00:00:00  0.137417  0.097500  0.016833\n",
      "2009-01-01 03:00:00  0.131250  0.088833  0.016417\n",
      "2009-01-01 06:00:00  0.113500  0.091250  0.016750\n",
      "2009-01-01 09:00:00  0.135750  0.091500  0.016250\n",
      "2009-01-01 12:00:00  0.140917  0.096167  0.017000\n",
      "...                       ...       ...       ...\n",
      "2013-01-01 12:00:00  1.710000  1.710000  0.129583\n",
      "2013-01-01 15:00:00  1.420000  1.420000  0.096333\n",
      "2013-01-01 18:00:00  1.178583  1.178583  0.083083\n",
      "2013-01-01 21:00:00  0.898250  0.898250  0.077167\n",
      "2013-01-02 00:00:00  0.860000  0.860000  0.075000\n",
      "\n",
      "[1001 rows x 3 columns]\n",
      "===================\n",
      "                      L06_347  LS06_347  LS06_348\n",
      "Time                                             \n",
      "2009-01-01 09:00:00  0.135750  0.091500  0.016250\n",
      "2009-01-01 12:00:00  0.140917  0.096167  0.017000\n",
      "2009-01-02 09:00:00  0.141917  0.097083  0.016417\n",
      "2009-01-02 12:00:00  0.147833  0.101917  0.016417\n",
      "2009-01-03 09:00:00  0.124583  0.084417  0.015833\n",
      "...                       ...       ...       ...\n",
      "2012-12-30 12:00:00  1.465000  1.465000  0.086833\n",
      "2012-12-31 09:00:00  0.682750  0.682750  0.066583\n",
      "2012-12-31 12:00:00  0.651250  0.651250  0.063833\n",
      "2013-01-01 09:00:00  2.055000  2.055000  0.175667\n",
      "2013-01-01 12:00:00  1.710000  1.710000  0.129583\n",
      "\n",
      "[2924 rows x 3 columns]\n"
     ]
    }
   ],
   "source": [
    "import pandas as pd\n",
    "#parse_dates=True index 是否轉為date格式\n",
    "df = pd.read_csv(\"./flowdata.csv\",index_col=0,parse_dates=True)\n",
    "print(df)\n",
    "print(\"===================\")\n",
    "print(df.loc[\"2010-01-01\":\"2012-01-01\"])\n",
    "print(\"===================\")\n",
    "print(df.loc[\"2013\"])\n",
    "print(\"===================\")\n",
    "print(df[df.index.month == 1])\n",
    "print(\"===================\")\n",
    "print(df.between_time(\"08:00\",\"12:00\"))"
   ]
  },
  {
   "cell_type": "markdown",
   "id": "da698094",
   "metadata": {},
   "source": [
    "## 使用中括弧"
   ]
  },
  {
   "cell_type": "markdown",
   "id": "11bec344",
   "metadata": {},
   "source": [
    "+ 要選取某個欄位使用中括號格可 [ ]。\n",
    "+ 多個欄位可以使用 list。\n",
    "+ 若是某個範圍的資料篩選，可使用兩次的中括號篩選，第一個是 row，第二個是 column。"
   ]
  },
  {
   "cell_type": "code",
   "execution_count": 64,
   "id": "c299e575",
   "metadata": {},
   "outputs": [
    {
     "name": "stdout",
     "output_type": "stream",
     "text": [
      "1    a\n",
      "3    b\n",
      "5    c\n",
      "dtype: object\n",
      "b\n",
      "===================\n",
      "3    b\n",
      "5    c\n",
      "dtype: object\n",
      "===================\n",
      "1    a\n",
      "3    b\n",
      "dtype: object\n",
      "===================\n",
      "3    b\n",
      "5    c\n",
      "dtype: object\n"
     ]
    }
   ],
   "source": [
    "import pandas as pd\n",
    "data = pd.Series(['a','b','c'],index=[1,3,5])\n",
    "print(data)\n",
    "print(data[3]) #使用明確的索引\n",
    "print(\"===================\")\n",
    "print(data[1:3]) #使用隱含索引\n",
    "print(\"===================\")\n",
    "print(data.loc[1:3])#使用明確的索引\n",
    "print(\"===================\")\n",
    "print(data.iloc[1:3])#使用隱含的索引"
   ]
  },
  {
   "cell_type": "code",
   "execution_count": 70,
   "id": "83588937",
   "metadata": {},
   "outputs": [
    {
     "name": "stdout",
     "output_type": "stream",
     "text": [
      "           city\n",
      "first       台北市\n",
      "second      新北市\n",
      "third       桃園市\n",
      "fourth      台中市\n",
      "fifth       台南市\n",
      "sixth       高雄市\n",
      "seventh     台北市\n",
      "eigth       新北市\n",
      "ninth       桃園市\n",
      "tenth       高雄市\n",
      "eleventh    高雄市\n",
      "twelvth     台北市\n",
      "thirteenth  新北市\n",
      "==================\n",
      "           city name\n",
      "first       台北市  中正區\n",
      "second      新北市  板橋區\n",
      "third       桃園市  桃園區\n",
      "fourth      台中市  北屯區\n",
      "fifth       台南市  安南區\n",
      "sixth       高雄市  三民區\n",
      "seventh     台北市  大安區\n",
      "eigth       新北市  永和區\n",
      "ninth       桃園市  八德區\n",
      "tenth       高雄市  前鎮區\n",
      "eleventh    高雄市  鳳山區\n",
      "twelvth     台北市  信義區\n",
      "thirteenth  新北市  新店區\n",
      "==================\n",
      "       name city  population\n",
      "third   桃園區  桃園市      441287\n",
      "fourth  北屯區  台中市      275207\n",
      "fifth   安南區  台南市      192327\n",
      "       city name\n",
      "third   桃園市  桃園區\n",
      "fourth  台中市  北屯區\n",
      "fifth   台南市  安南區\n",
      "==================\n",
      "       city name\n",
      "fourth  台中市  北屯區\n",
      "fifth   台南市  安南區\n",
      "sixth   高雄市  三民區\n",
      "==================\n",
      "first         台北市\n",
      "second        新北市\n",
      "third         桃園市\n",
      "fourth        台中市\n",
      "fifth         台南市\n",
      "sixth         高雄市\n",
      "seventh       台北市\n",
      "eigth         新北市\n",
      "ninth         桃園市\n",
      "tenth         高雄市\n",
      "eleventh      高雄市\n",
      "twelvth       台北市\n",
      "thirteenth    新北市\n",
      "Name: city, dtype: object\n",
      "-------\n",
      "       name city  population\n",
      "second  板橋區  新北市      551452\n",
      "third   桃園區  桃園市      441287\n",
      "fourth  北屯區  台中市      275207\n",
      "fifth   安南區  台南市      192327\n",
      "sixth   三民區  高雄市      343203\n"
     ]
    }
   ],
   "source": [
    "import pandas as pd\n",
    "import data1\n",
    "df = pd.DataFrame(\n",
    "data1.data1,\n",
    "columns = [\"name\", \"city\", \"population\"],\n",
    "index=data1.data2)\n",
    "print(df[[\"city\"]])\n",
    "print(\"==================\")\n",
    "print(df[[\"city\",\"name\"]])\n",
    "print(\"==================\")\n",
    "print(df[2:5])#取得隱含index為2~4的row\n",
    "print(df[2:5][[\"city\",\"name\"]])\n",
    "print(\"==================\")\n",
    "list1 = [\"city\",\"name\"]\n",
    "print(df[3:6][list1])\n",
    "print(\"==================\")\n",
    "print(df[\"city\"])#取得Colum\n",
    "print(\"==================\")\n",
    "print(df[\"second\":\"sixth\"])#取得\"second\":\"sixth\" 區間的row"
   ]
  },
  {
   "cell_type": "code",
   "execution_count": 71,
   "id": "c646502c",
   "metadata": {},
   "outputs": [
    {
     "name": "stdout",
     "output_type": "stream",
     "text": [
      "   Apples  Bananas  Cherries\n",
      "0       2        1         4\n",
      "1       7        5         3\n",
      "2      12        8         6\n",
      "====================\n",
      "   Apples  Bananas  Cherries\n",
      "1       7        5         3\n",
      "2      12        8         6\n",
      "====================\n",
      "   Apples  Bananas  Cherries\n",
      "0       2        1         4\n",
      "====================\n",
      "   Bananas\n",
      "0        1\n",
      "1        5\n",
      "2        8\n",
      "====================\n",
      "   Bananas\n",
      "1        5\n",
      "2        8\n"
     ]
    }
   ],
   "source": [
    "import pandas as pd\n",
    "fruits=pd.read_csv(\"https://goo.gl/DOw6pe\")\n",
    "print(fruits)\n",
    "print(\"====================\")\n",
    "print(fruits[1:])#row 由第1開始取到結尾\n",
    "print(\"====================\")\n",
    "print(fruits[:1])#row 由第0開始取到0\n",
    "print(\"====================\")\n",
    "#print(fruits[:,'Bananas'])#錯誤\n",
    "print(fruits[['Bananas']])\n",
    "print(\"====================\")\n",
    "# 由第一個row到 row的結尾  col只顯示 Bananas這一欄\n",
    "print(fruits[1:][['Bananas']])"
   ]
  },
  {
   "cell_type": "code",
   "execution_count": 73,
   "id": "7d5c4408",
   "metadata": {},
   "outputs": [
    {
     "name": "stdout",
     "output_type": "stream",
     "text": [
      "DatetimeIndex(['2018-05-16', '2018-05-17', '2018-05-18', '2018-05-19',\n",
      "               '2018-05-20', '2018-05-21'],\n",
      "              dtype='datetime64[ns]', freq='D')\n",
      "------------\n",
      "             a   b   c   d\n",
      "2018-05-16   0   1   2   3\n",
      "2018-05-17   4   5   6   7\n",
      "2018-05-18   8   9  10  11\n",
      "2018-05-19  12  13  14  15\n",
      "2018-05-20  16  17  18  19\n",
      "2018-05-21  20  21  22  23\n",
      "            a  b   c   d\n",
      "2018-05-16  0  1   2   3\n",
      "2018-05-17  4  5   6   7\n",
      "2018-05-18  8  9  10  11\n",
      "------------\n",
      "            a  b   c   d\n",
      "2018-05-16  0  1   2   3\n",
      "2018-05-17  4  5   6   7\n",
      "2018-05-18  8  9  10  11\n",
      "------------\n",
      "            a   c\n",
      "2018-05-16  0   2\n",
      "2018-05-17  4   6\n",
      "2018-05-18  8  10\n"
     ]
    }
   ],
   "source": [
    "import pandas as pd\n",
    "import numpy as np\n",
    "dates=pd.date_range('20180516',periods=6)\n",
    "print(dates)\n",
    "print(\"------------\")\n",
    "df=pd.DataFrame(np.arange(24).reshape(6,4),index=dates,columns=['a','b','c','d'])\n",
    "print(df)\n",
    "print(\"------------\")\n",
    "print(df['b'])# Series\n",
    "print(\"------------\")\n",
    "print(df[['b']])#DataFrame\n",
    "print(\"------------\")\n",
    "print(df.b)# Series\n",
    "print(\"------------\")\n",
    "print(df[0:3])\n",
    "print(\"------------\")\n",
    "print(df['20180516':'20180518'])\n",
    "print(\"------------\")\n",
    "print(df['20180516':'20180518'][['a','c']])"
   ]
  },
  {
   "cell_type": "markdown",
   "id": "26fcca5c",
   "metadata": {},
   "source": [
    "### 使用 loc(文字 m:n 會包含到n)\n",
    "+ .loc[ ], 中括弧裡面是先 row 後 column，以逗號分開。\n",
    "+ row 與 column 要放入的是 row 標籤與 column 標籤。\n",
    "+ 可於 row 或 column 加入「：」 ，代表指定起訖範圍。"
   ]
  },
  {
   "cell_type": "code",
   "execution_count": 78,
   "id": "8482f211",
   "metadata": {},
   "outputs": [
    {
     "name": "stdout",
     "output_type": "stream",
     "text": [
      "             a   b   c   d\n",
      "2018-05-16   0   1   2   3\n",
      "2018-05-17   4   5   6   7\n",
      "2018-05-18   8   9  10  11\n",
      "2018-05-19  12  13  14  15\n",
      "2018-05-20  16  17  18  19\n",
      "2018-05-21  20  21  22  23\n",
      "====================\n",
      "             a   b\n",
      "2018-05-16   0   1\n",
      "2018-05-17   4   5\n",
      "2018-05-18   8   9\n",
      "2018-05-19  12  13\n",
      "2018-05-20  16  17\n",
      "2018-05-21  20  21\n",
      "====================\n",
      "             a   c\n",
      "2018-05-17   4   6\n",
      "2018-05-18   8  10\n",
      "2018-05-19  12  14\n",
      "2018-05-20  16  18\n",
      "2018-05-21  20  22\n",
      "====================\n",
      "             b   c   d\n",
      "2018-05-18   9  10  11\n",
      "2018-05-19  13  14  15\n",
      "2018-05-20  17  18  19\n"
     ]
    }
   ],
   "source": [
    "import pandas as pd\n",
    "import numpy as np\n",
    "dates=pd.date_range('20180516',periods=6)\n",
    "df=pd.DataFrame(np.arange(24).reshape(6,4),index=dates,columns=['a','b','c','d'])\n",
    "print(df)\n",
    "print(\"====================\")\n",
    "print(df.loc[:,[\"a\",\"b\"]])\n",
    "print(\"====================\")\n",
    "print(df.loc[\"20180517\":,[\"a\",\"c\"]])\n",
    "print(\"====================\")\n",
    "print(df.loc[\"20180518\":\"20180520\",\"b\":\"d\"])"
   ]
  },
  {
   "cell_type": "markdown",
   "id": "704448ea",
   "metadata": {},
   "source": [
    "### 使用 iloc 與 ix\n",
    "+ iloc[ ] 與 loc 一樣，中括弧裡面也是先 row 後 column，行列標籤用逗號分開。\n",
    "+ 與 loc 不同的之處是，.iloc 是根據索引來進行選擇。\n",
    "+ .ix 代表可以混用 loc 的標籤也可以使用 iloc 的索引編號。 不建議用"
   ]
  },
  {
   "cell_type": "code",
   "execution_count": 88,
   "id": "00d65e36",
   "metadata": {},
   "outputs": [
    {
     "name": "stdout",
     "output_type": "stream",
     "text": [
      "     groups  numbers\n",
      "0    Python       59\n",
      "1    Django        9\n",
      "2    Sqlite       19\n",
      "3     Numpy       14\n",
      "4  Security        6\n",
      "5    Pandas       77\n",
      "=============\n",
      "0    59\n",
      "Name: numbers, dtype: int64\n",
      "=============\n",
      "   groups  numbers\n",
      "0  Python       59\n",
      "=============\n",
      "0    59\n",
      "1     9\n",
      "2    19\n",
      "3    14\n",
      "4     6\n",
      "5    77\n",
      "Name: numbers, dtype: int64\n",
      "<class 'pandas.core.series.Series'>\n",
      "=============\n",
      "groups     Sqlite\n",
      "numbers        19\n",
      "Name: 2, dtype: object\n"
     ]
    }
   ],
   "source": [
    "import pandas as pd\n",
    "groups = [\"Python\", \"Django\", \"Sqlite\", \"Numpy\", \"Security\", \"Pandas\"]\n",
    "numbers = [59, 9, 19, 14, 6, 77]\n",
    "group_dict = {\n",
    "\"groups\": groups,\n",
    "\"numbers\": numbers\n",
    "}\n",
    "df1 = pd.DataFrame(group_dict)\n",
    "print(df1)\n",
    "print(\"=============\")\n",
    "print(df1.iloc[0:1,1])\n",
    "print(\"=============\")\n",
    "print(df1.iloc[0:1,:])\n",
    "print(\"=============\")\n",
    "d1 = df1.iloc[:,1]\n",
    "print(d1)\n",
    "print(type(d1))\n",
    "print(\"=============\")\n",
    "d2 = df1.iloc[2]\n",
    "print(d2)"
   ]
  },
  {
   "cell_type": "code",
   "execution_count": 93,
   "id": "157fd1f6",
   "metadata": {},
   "outputs": [
    {
     "name": "stdout",
     "output_type": "stream",
     "text": [
      "             a   b   c   d\n",
      "2018-05-16   0   1   2   3\n",
      "2018-05-17   4   5   6   7\n",
      "2018-05-18   8   9  10  11\n",
      "2018-05-19  12  13  14  15\n",
      "2018-05-20  16  17  18  19\n",
      "2018-05-21  20  21  22  23\n",
      "------------\n",
      "a    12\n",
      "b    13\n",
      "c    14\n",
      "d    15\n",
      "Name: 2018-05-19 00:00:00, dtype: int32\n",
      "------------\n",
      "13\n",
      "------------\n",
      "             b   c\n",
      "2018-05-19  13  14\n",
      "2018-05-20  17  18\n",
      "------------\n",
      "             b   c\n",
      "2018-05-17   5   6\n",
      "2018-05-19  13  14\n",
      "2018-05-21  21  22\n"
     ]
    }
   ],
   "source": [
    "import pandas as pd\n",
    "import numpy as np\n",
    "dates=pd.date_range('20180516',periods=6)\n",
    "df=pd.DataFrame(np.arange(24).reshape(6,4),index=dates,columns=['a','b','c','d'])\n",
    "print(df)\n",
    "print(\"------------\")\n",
    "print(df.iloc[3])\n",
    "print(\"------------\")\n",
    "print(df.iloc[3,1])\n",
    "print(\"------------\")\n",
    "print(df.iloc[3:5,1:3])\n",
    "print(\"------------\")\n",
    "print(df.iloc[[1,3,5],1:3])"
   ]
  },
  {
   "cell_type": "code",
   "execution_count": null,
   "id": "48dec96a",
   "metadata": {},
   "outputs": [],
   "source": []
  }
 ],
 "metadata": {
  "kernelspec": {
   "display_name": "Python 3 (ipykernel)",
   "language": "python",
   "name": "python3"
  },
  "language_info": {
   "codemirror_mode": {
    "name": "ipython",
    "version": 3
   },
   "file_extension": ".py",
   "mimetype": "text/x-python",
   "name": "python",
   "nbconvert_exporter": "python",
   "pygments_lexer": "ipython3",
   "version": "3.8.11"
  }
 },
 "nbformat": 4,
 "nbformat_minor": 5
}
