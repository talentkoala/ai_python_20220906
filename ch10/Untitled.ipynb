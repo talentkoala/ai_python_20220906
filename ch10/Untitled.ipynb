{
 "cells": [
  {
   "cell_type": "markdown",
   "id": "3224116b",
   "metadata": {},
   "source": [
    "## property 實作封裝"
   ]
  },
  {
   "cell_type": "code",
   "execution_count": 8,
   "id": "e010149d",
   "metadata": {},
   "outputs": [
    {
     "name": "stdout",
     "output_type": "stream",
     "text": [
      "50000\n",
      "20000\n",
      "56000\n",
      "20500\n"
     ]
    }
   ],
   "source": [
    "class Employee:\n",
    "    def __init__(self,name,salary=20000):\n",
    "        self.name = name\n",
    "        if salary >= 20000:\n",
    "            self.__salary = salary\n",
    "        else:\n",
    "            self.__salary = 20000\n",
    "    def get_salary(self):            \n",
    "            return self.__salary\n",
    "    def set_salary(self,v):\n",
    "        if v > 20000:\n",
    "            self.__salary = v\n",
    "        else:  \n",
    "            print(\"薪水不可低於最低工資\")\n",
    "    def del_salary(self):\n",
    "        del self.__salary\n",
    "    salary = property(get_salary,set_salary,del_salary)       \n",
    "emp1 = Employee(\"Sean\",50000)    \n",
    "emp2 = Employee(\"David\")    \n",
    "\n",
    "print(emp1.salary)\n",
    "print(emp2.salary)\n",
    "emp1.salary += 6000\n",
    "emp2.salary += 500\n",
    "print(emp1.salary)\n",
    "print(emp2.salary)"
   ]
  },
  {
   "cell_type": "markdown",
   "id": "bfbea505",
   "metadata": {},
   "source": [
    "## property 裝飾器"
   ]
  },
  {
   "cell_type": "code",
   "execution_count": 15,
   "id": "56041554",
   "metadata": {},
   "outputs": [
    {
     "name": "stdout",
     "output_type": "stream",
     "text": [
      "50000\n",
      "薪水不可低於最低工資\n",
      "50000\n"
     ]
    }
   ],
   "source": [
    "class Employee:\n",
    "    def __init__(self,name,salary=20000):\n",
    "        self.__name = name\n",
    "        if salary >= 20000:\n",
    "            self.__salary = salary\n",
    "        else:\n",
    "            self.__salary = 20000\n",
    "    @property        \n",
    "    def salary(self):\n",
    "        return self.__salary\n",
    "    @salary.setter\n",
    "    def salary(self,v):\n",
    "        if v >= 20000:\n",
    "            self.__salary = v\n",
    "        else:\n",
    "            print(\"薪水不可低於最低工資\")\n",
    "    @salary.deleter        \n",
    "    def salary(self):        \n",
    "        del self.__salary\n",
    "emp1 = Employee(\"Sean\",50000)\n",
    "emp2 = Employee(\"David\")\n",
    "print(emp1.salary)\n",
    "emp1.salary = 10000\n",
    "print(emp1.salary)"
   ]
  },
  {
   "cell_type": "markdown",
   "id": "57081ce7",
   "metadata": {},
   "source": [
    "## 請問執行後的結果是哪一個？"
   ]
  },
  {
   "cell_type": "code",
   "execution_count": 16,
   "id": "34ce03f6",
   "metadata": {},
   "outputs": [
    {
     "name": "stdout",
     "output_type": "stream",
     "text": [
      "1\n",
      "2\n"
     ]
    }
   ],
   "source": [
    "class pri:\n",
    "    __count = 0\n",
    "    def count(self):\n",
    "        self.__count += 1\n",
    "        print(self.__count)\n",
    "priObj =  pri()\n",
    "priObj.count()\n",
    "priObj.count()"
   ]
  },
  {
   "cell_type": "markdown",
   "id": "19b9f654",
   "metadata": {},
   "source": [
    "## 類別的繼承\n",
    "+ 繼承語法  \n",
    "class 子類別(父類別)：\n",
    "  + 父類別類名寫在括號裡\n",
    "  + 子類別繼承父類別的成員\n",
    "    + 子類別找不到定義的成員，會自動尋找父類別內的定義。\n",
    "    + 類別屬性、類別及實體方法、函數會被繼承下來\n",
    "    + 實體屬性在__init__()中加入，不一定會被新增\n",
    "  + 父類別的__init__( )初始化方法不會被自動使用\n",
    "  + 需要在子類別的初始化方法中指定使用才會執行\n",
    "     + super(子類別, self).__init__(…) \n",
    "     + 不呼叫父類別初始化方法時，不會新增父類別實體屬性   "
   ]
  },
  {
   "cell_type": "code",
   "execution_count": 32,
   "id": "134c3169",
   "metadata": {},
   "outputs": [
    {
     "name": "stdout",
     "output_type": "stream",
     "text": [
      "Animal\n",
      "Animal\n",
      "kitty\n",
      "12\n",
      "BoBo\n",
      "25\n",
      "2\n"
     ]
    }
   ],
   "source": [
    "class Animal:\n",
    "    __count = 0\n",
    "    def __init__(self,name,age):\n",
    "        print(\"Animal\")\n",
    "        Animal.__count  += 1\n",
    "        self.__name = name\n",
    "        self.__age = age\n",
    "    def getName(self):    \n",
    "        return self.__name\n",
    "    def getAge(self):\n",
    "        return self.__age\n",
    "    def getCount():\n",
    "        return Animal.__count\n",
    "class Cat(Animal):\n",
    "    pass\n",
    "\n",
    "class Dog(Animal):\n",
    "    def __init__(self,name,age,weight):\n",
    "        super(Dog,self).__init__(name,age)\n",
    "        self.__weight = weight\n",
    "    def getWeight(self):    \n",
    "        return self.__weight\n",
    "    \n",
    "am1 = Cat(\"kitty\",12)  \n",
    "dog1 = Dog(\"BoBo\",5,25)\n",
    "\n",
    "print(am1.getName())\n",
    "print(am1.getAge())\n",
    "\n",
    "print(dog1.getName())\n",
    "print(dog1.getWeight())\n",
    "print(Dog.getCount())"
   ]
  },
  {
   "cell_type": "markdown",
   "id": "6cb34aab",
   "metadata": {},
   "source": [
    "## 方法覆寫"
   ]
  },
  {
   "cell_type": "code",
   "execution_count": 28,
   "id": "e4f2cfea",
   "metadata": {},
   "outputs": [
    {
     "name": "stdout",
     "output_type": "stream",
     "text": [
      "B\n"
     ]
    }
   ],
   "source": [
    "class Parent:\n",
    "    def myMethod(self):\n",
    "        print(\"A\")\n",
    "class Child(Parent):\n",
    "    def myMethod(self):\n",
    "        print(\"B\")\n",
    "c = Child()\n",
    "c.myMethod()"
   ]
  },
  {
   "cell_type": "code",
   "execution_count": 33,
   "id": "2c617963",
   "metadata": {},
   "outputs": [
    {
     "name": "stdout",
     "output_type": "stream",
     "text": [
      "B\n",
      "A\n"
     ]
    }
   ],
   "source": [
    "class Parent:\n",
    "    def myMethod(self):\n",
    "        print('A')\n",
    "class Child(Parent):        \n",
    "    def myMethod(self):\n",
    "        print('B')\n",
    "        super().myMethod()\n",
    "        #super(Child,self).myMethod()\n",
    "c = Child()\n",
    "c.myMethod()"
   ]
  },
  {
   "cell_type": "code",
   "execution_count": 40,
   "id": "3f0b9269",
   "metadata": {},
   "outputs": [
    {
     "name": "stdout",
     "output_type": "stream",
     "text": [
      "Dog \n",
      "2\n"
     ]
    }
   ],
   "source": [
    "class Person:\n",
    "    def __init__(self,name,age):\n",
    "        self.__name = name\n",
    "        self.__age = age\n",
    "    def getName(self):\n",
    "        return self.__name\n",
    "    def getAge(self):\n",
    "        return self.__age\n",
    "class Dog(Person):\n",
    "    def getName(self):\n",
    "        return \"Dog \"+super().getName()\n",
    "p1 = Dog(\"BoBo\",2)    \n",
    "print(p1.getName())\n",
    "print(p1.getAge())\n",
    "# 希望Dog有 getName    \n",
    "# 希望Dog有 getAge\n",
    "# getName 可回傳　Dog BoBo \n"
   ]
  },
  {
   "cell_type": "markdown",
   "id": "1755eec1",
   "metadata": {},
   "source": [
    "## 多重繼承\n",
    "+ 繼承多個父類別時用，隔開\n",
    "+ 注意成員搜尋的順序\n",
    "  + 從子類別開始\n",
    "  + 同一階層父類別由左至右搜尋\n",
    "  + 更上層祖父類別由左至右搜尋\n",
    "  + 直到達到頂層為止"
   ]
  },
  {
   "cell_type": "code",
   "execution_count": 45,
   "id": "09cfdb2f",
   "metadata": {},
   "outputs": [
    {
     "name": "stdout",
     "output_type": "stream",
     "text": [
      "C.method4\n",
      "A.method3\n",
      "B.method2\n",
      "S.method1\n"
     ]
    }
   ],
   "source": [
    "class S():\n",
    "    def method1(self):\n",
    "        print('S.method1')\n",
    "    def method2(self):\n",
    "        print(\"S.method2\")\n",
    "class A(S):\n",
    "    def method3(self):\n",
    "        print(\"A.method3\")\n",
    "class B(S):\n",
    "    def method2(self):\n",
    "        print(\"B.method2\")\n",
    "    def method3(self):\n",
    "        print(\"B.method3\")\n",
    "class C(A,B):\n",
    "    value = 0\n",
    "    def method4(self):\n",
    "        print(\"C.method4\")\n",
    "c = C()\n",
    "c.method4()\n",
    "c.method3()\n",
    "c.method2()\n",
    "c.method1()"
   ]
  },
  {
   "cell_type": "markdown",
   "id": "0ecd23a5",
   "metadata": {},
   "source": [
    "## Python類別內建屬性\n",
    "+ __class__：物件所屬類別\n",
    "+ __module__：類別/物件所屬模組字串\n",
    "+ 若沒有引用其他模組則預設為  ′__main__′ \n",
    "+ __name__：類別名稱字串\n",
    "+ __bases__：類別所有父類別，傳回 tuple\n",
    "+ __dict__：類別/物件所屬名稱空間字典(鍵值對)\n",
    "+ __doc__：類別說明字串\n",
    "  + 模組、 類別、屬性、方法、函式下使用三引號字串定義的說明文字 docstring。"
   ]
  },
  {
   "cell_type": "code",
   "execution_count": 54,
   "id": "e4c9331c",
   "metadata": {},
   "outputs": [
    {
     "name": "stdout",
     "output_type": "stream",
     "text": [
      "類別所屬類別: <class 'type'>\n",
      "類別所屬模組: __main__\n",
      "類別名稱: Student\n",
      "類別父類別名稱: (<class 'object'>,)\n",
      "類別空間字典: {'__module__': '__main__', '__doc__': '學生類別註解', 'school': 'pcschool', 'count': 0, '__init__': <function Student.__init__ at 0x000001845B7FAD30>, 'displayCount': <function Student.displayCount at 0x000001845B7FADC0>, '__printInfo__': <function Student.__printInfo__ at 0x000001845B7FAF70>, '__dict__': <attribute '__dict__' of 'Student' objects>, '__weakref__': <attribute '__weakref__' of 'Student' objects>}\n",
      "類別文件字串: 學生類別註解\n",
      "方法文件字串: 學生人數註解\n",
      "物件所屬類別: <class '__main__.Student'>\n",
      "物件所模組: __main__\n",
      "物件空間字典: {'name': 'Sean'}\n",
      "物件方法文件字串: 學生人數註解\n"
     ]
    }
   ],
   "source": [
    "class Student:\n",
    "    '''學生類別註解'''\n",
    "    school = \"pcschool\"\n",
    "    count = 0\n",
    "    def __init__(self,name):\n",
    "        self.name = name\n",
    "        Student.count+=1\n",
    "    def displayCount(self):\n",
    "        \"\"\"學生人數註解\"\"\"\n",
    "        print(\"學生人數:\",Student.count)\n",
    "    def __printInfo__(self):    \n",
    "        return \"姓名:\"+self.name\n",
    "print(\"類別所屬類別:\",Student.__class__)\n",
    "print(\"類別所屬模組:\",Student.__module__)\n",
    "print(\"類別名稱:\",Student.__name__)\n",
    "print(\"類別父類別名稱:\",Student.__bases__)\n",
    "print(\"類別空間字典:\",Student.__dict__)\n",
    "print(\"類別文件字串:\",Student.__doc__)\n",
    "print(\"方法文件字串:\",Student.displayCount.__doc__)\n",
    "st = Student('Sean')\n",
    "print(\"物件所屬類別:\",st.__class__)\n",
    "print(\"物件所模組:\",st.__module__)\n",
    "print(\"物件空間字典:\",st.__dict__)\n",
    "print(\"物件方法文件字串:\",st.displayCount.__doc__)"
   ]
  },
  {
   "cell_type": "code",
   "execution_count": 68,
   "id": "53089427",
   "metadata": {},
   "outputs": [
    {
     "name": "stdout",
     "output_type": "stream",
     "text": [
      "Point <__main__.Point object at 0x000001845B7FDA00> destroyed\n",
      "1667978311712 1667978311712 1667978311712 1667978312240\n",
      "1667978311712 1667978311712 1667978312240\n",
      "1667978311712 1667978312240\n",
      "Point <__main__.Point object at 0x000001845B413820> destroyed\n",
      "1667978312240\n",
      "Point <__main__.Point object at 0x000001845B413A30> destroyed\n"
     ]
    }
   ],
   "source": [
    "class Point:\n",
    "    def __del__(self):\n",
    "        cn = self.__class__.__name__\n",
    "        print(cn,self,\"destroyed\")\n",
    "pt1 = Point()\n",
    "pt2 = pt1\n",
    "pt3 = pt1\n",
    "pt4 = Point()\n",
    "print(id(pt1),id(pt2),id(pt3),id(pt4))\n",
    "del pt1\n",
    "print(id(pt2),id(pt3),id(pt4))\n",
    "del pt2\n",
    "print(id(pt3),id(pt4))\n",
    "del pt3\n",
    "#del pt1\n",
    "print(id(pt4))\n",
    "del pt4"
   ]
  },
  {
   "cell_type": "markdown",
   "id": "3529ad73",
   "metadata": {},
   "source": [
    "## __str__ 可輸出物件的內容"
   ]
  },
  {
   "cell_type": "code",
   "execution_count": 70,
   "id": "2ad7b259",
   "metadata": {},
   "outputs": [
    {
     "name": "stdout",
     "output_type": "stream",
     "text": [
      "(2,3)\n"
     ]
    }
   ],
   "source": [
    "class Point:\n",
    "    def __init__(self,x = 0,y = 0):\n",
    "        self.x = x\n",
    "        self.y = y\n",
    "    def __str__(self):\n",
    "        return f\"({self.x},{self.y})\"\n",
    "p1 = Point(2,3)\n",
    "p2 = Point(-1,2)\n",
    "print(p1)"
   ]
  },
  {
   "cell_type": "code",
   "execution_count": 72,
   "id": "fce6a813",
   "metadata": {},
   "outputs": [
    {
     "name": "stdout",
     "output_type": "stream",
     "text": [
      "(1,5)\n"
     ]
    }
   ],
   "source": [
    "class Point:\n",
    "    def __init__(self,x = 0,y = 0):\n",
    "        self.x = x\n",
    "        self.y = y\n",
    "    def __add__(self,other):    \n",
    "        x = self.x + other.x\n",
    "        y = self.y + other.y\n",
    "        return Point(x,y)\n",
    "    def __str__(self):\n",
    "        return f\"({self.x},{self.y})\"\n",
    "p1 = Point(2,3)\n",
    "p2 = Point(-1,2)\n",
    "print(p1 + p2)"
   ]
  },
  {
   "cell_type": "code",
   "execution_count": 75,
   "id": "d00e7da6",
   "metadata": {},
   "outputs": [
    {
     "name": "stdout",
     "output_type": "stream",
     "text": [
      "(1,5)\n",
      "13\n",
      "5\n",
      "True\n"
     ]
    }
   ],
   "source": [
    "class Point:\n",
    "    def __init__(self,x = 0,y = 0):\n",
    "        self.x = x\n",
    "        self.y = y\n",
    "    def __add__(self,other):    \n",
    "        x = self.x + other.x\n",
    "        y = self.y + other.y\n",
    "        return Point(x,y)\n",
    "    def __len__(point):\n",
    "        self_msg = (point.x **2) + (point.y ** 2)\n",
    "        return self_msg\n",
    "    def __str__(self):\n",
    "        return f\"({self.x},{self.y})\"\n",
    "p1 = Point(2,3)\n",
    "p2 = Point(-1,2)\n",
    "print(p1 + p2)\n",
    "\n",
    "print(len(p1))\n",
    "print(len(p2))\n",
    "print(len(p1) > len(p2))"
   ]
  },
  {
   "cell_type": "code",
   "execution_count": null,
   "id": "2e29cb9c",
   "metadata": {},
   "outputs": [],
   "source": []
  }
 ],
 "metadata": {
  "kernelspec": {
   "display_name": "Python 3 (ipykernel)",
   "language": "python",
   "name": "python3"
  },
  "language_info": {
   "codemirror_mode": {
    "name": "ipython",
    "version": 3
   },
   "file_extension": ".py",
   "mimetype": "text/x-python",
   "name": "python",
   "nbconvert_exporter": "python",
   "pygments_lexer": "ipython3",
   "version": "3.8.11"
  }
 },
 "nbformat": 4,
 "nbformat_minor": 5
}
