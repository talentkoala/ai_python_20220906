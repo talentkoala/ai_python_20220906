{
 "cells": [
  {
   "cell_type": "code",
   "execution_count": 1,
   "id": "e87394cc",
   "metadata": {},
   "outputs": [
    {
     "name": "stdout",
     "output_type": "stream",
     "text": [
      "消費項目AA\n",
      "消費金額500\n",
      "消費項目CCC\n",
      "消費金額400\n",
      "消費項目DD\n",
      "消費金額200\n",
      "已經超支了\n"
     ]
    }
   ],
   "source": [
    "sum = 0\n",
    "dic1 = {}\n",
    "while True:\n",
    "    item = input(\"消費項目\")\n",
    "    price = input(\"消費金額\")\n",
    "    \n",
    "    try:\n",
    "        if sum + int(price) > 1000:\n",
    "            raise ValueError\n",
    "        dic1[item] = price  \n",
    "        sum += int(price)\n",
    "    except ValueError:\n",
    "        print(\"已經超支了\")\n",
    "        break"
   ]
  },
  {
   "cell_type": "markdown",
   "id": "5e84e101",
   "metadata": {},
   "source": [
    "## 物件導向特性\n",
    "+ 實體成員 non-static (instance) member\n",
    "  + 實體屬性：每個物件各自擁有一份資料，通常在初始化流程中建立\n",
    "  + 實體方法：物件提供的功能，可存取物件的屬性，需透過特定物件來操作\n",
    "+ 類別成員 static (class) member\n",
    "  + 類別屬性：同類別所有物件共享的屬性資料，在類別區段中宣告\n",
    "  + 類別方法：不需指定物件，可由類別來操作的功能"
   ]
  },
  {
   "cell_type": "markdown",
   "id": "6695f18a",
   "metadata": {},
   "source": [
    "## __init__(self, …) 初始化方法"
   ]
  },
  {
   "cell_type": "code",
   "execution_count": 2,
   "id": "b1a5ad36",
   "metadata": {},
   "outputs": [
    {
     "name": "stdout",
     "output_type": "stream",
     "text": [
      "Ken:50000\n"
     ]
    }
   ],
   "source": [
    "class Employee:\n",
    "    def __init__(self,name,salary=20000):\n",
    "        self.name = name\n",
    "        self.salary = salary\n",
    "emp = Employee(\"Ken\",50000)        \n",
    "print(f\"{emp.name}:{emp.salary}\")\n",
    "    "
   ]
  },
  {
   "cell_type": "markdown",
   "id": "6b257e02",
   "metadata": {},
   "source": [
    "## new\n",
    "+ 繼承不可變的物件時使用\n",
    "+ 可建立singleton設計模式"
   ]
  },
  {
   "cell_type": "code",
   "execution_count": 11,
   "id": "45a6347d",
   "metadata": {},
   "outputs": [
    {
     "name": "stdout",
     "output_type": "stream",
     "text": [
      "__new__: aa\n",
      "__init__\n",
      "AA\n"
     ]
    }
   ],
   "source": [
    "class TestNew(str):\n",
    "    def __new__(cls,value):\n",
    "        print(\"__new__:\",value)\n",
    "        return super(TestNew,cls).__new__(cls,value.upper())\n",
    "    def __init__(self,value):  \n",
    "        print(\"__init__\")\n",
    "i = TestNew(\"aa\")     \n",
    "print(i)"
   ]
  },
  {
   "cell_type": "code",
   "execution_count": 12,
   "id": "45cb884c",
   "metadata": {},
   "outputs": [
    {
     "name": "stdout",
     "output_type": "stream",
     "text": [
      "1591419322720 : 1591419322720\n"
     ]
    }
   ],
   "source": [
    "class Singleton:\n",
    "    def __new__(cls):\n",
    "        if not hasattr(cls,'instance'):\n",
    "            cls.instance = super(Singleton,cls).__new__(cls)\n",
    "        return cls.instance\n",
    "s1 = Singleton()  \n",
    "s2 = Singleton()  \n",
    "print(id(s1),\":\",id(s2))"
   ]
  },
  {
   "cell_type": "markdown",
   "id": "48187d16",
   "metadata": {},
   "source": [
    "## 宣告實體方法"
   ]
  },
  {
   "cell_type": "code",
   "execution_count": 14,
   "id": "068428b9",
   "metadata": {},
   "outputs": [
    {
     "name": "stdout",
     "output_type": "stream",
     "text": [
      "Manager\n",
      "name: Vivin\n",
      "salary: 50000\n",
      "<class 'method'>\n"
     ]
    }
   ],
   "source": [
    "class Employee:\n",
    "    def __init__(self,name,salary=20000):\n",
    "        self.name = name\n",
    "        self.salary = salary\n",
    "    def printInfo(self,title):\n",
    "        print(title)\n",
    "        print(\"name:\",self.name)\n",
    "        print(\"salary:\",self.salary)\n",
    "emp = Employee(\"Vivin\",50000)        \n",
    "emp.printInfo(\"Manager\")"
   ]
  },
  {
   "cell_type": "code",
   "execution_count": 16,
   "id": "85540c5a",
   "metadata": {},
   "outputs": [
    {
     "name": "stdout",
     "output_type": "stream",
     "text": [
      "Hello Join\n",
      "Hello Join\n",
      "Hello Join\n"
     ]
    }
   ],
   "source": [
    "class Person:\n",
    "    def __init__(self,name):\n",
    "        self.name = name\n",
    "    def sayHello(self):     \n",
    "        print(\"Hello\",self.name)\n",
    "p1 = Person(\"Join\")        \n",
    "greet = p1.sayHello\n",
    "Person.sayHello(p1)\n",
    "p1.sayHello()\n",
    "greet()"
   ]
  },
  {
   "cell_type": "code",
   "execution_count": 19,
   "id": "21e22b2e",
   "metadata": {},
   "outputs": [
    {
     "name": "stdout",
     "output_type": "stream",
     "text": [
      "17\n"
     ]
    }
   ],
   "source": [
    "class student:\n",
    "    def __init__(self,name):\n",
    "        self.yourname = name\n",
    "st1 = student(\"Max\")        \n",
    "st1.age = 17\n",
    "# del st1.age\n",
    "print(st1.age)\n",
    "        "
   ]
  },
  {
   "cell_type": "markdown",
   "id": "4db48215",
   "metadata": {},
   "source": [
    "## 類別屬性\n",
    "類似java的static"
   ]
  },
  {
   "cell_type": "code",
   "execution_count": 29,
   "id": "c1a8f94c",
   "metadata": {},
   "outputs": [
    {
     "name": "stdout",
     "output_type": "stream",
     "text": [
      "====================\n",
      "Vivin\n",
      "53000\n",
      "GJ\n",
      "phone: 7533967\n",
      "Employee.phone: 7765533\n",
      "====================\n",
      "Iris\n",
      "20000\n",
      "GJ\n",
      "phone: 7765533\n",
      "Employee.phone: 7765533\n"
     ]
    }
   ],
   "source": [
    "class Employee:\n",
    "    company = 'GJ'\n",
    "    phone = '8825252'\n",
    "    def __init__(self,name,salary=20000):\n",
    "        self.name = name\n",
    "        self.salary = salary\n",
    "    def printInfo(self):    \n",
    "        print(\"====================\")\n",
    "        print(self.name)\n",
    "        print(self.salary)\n",
    "        print(Employee.company)\n",
    "        print(\"phone:\",self.phone)\n",
    "        print(\"Employee.phone:\",Employee.phone)\n",
    "emp = Employee(\"Ken\",53000)\n",
    "emp2 = Employee(\"Iris\")\n",
    "emp.name = \"Vivin\"\n",
    "emp.phone = 7533967\n",
    "Employee.phone = 7765533\n",
    "\n",
    "emp.printInfo()\n",
    "emp2.printInfo()"
   ]
  },
  {
   "cell_type": "markdown",
   "id": "88566a23",
   "metadata": {},
   "source": [
    "### 類別方法"
   ]
  },
  {
   "cell_type": "code",
   "execution_count": 31,
   "id": "1e4f117d",
   "metadata": {},
   "outputs": [
    {
     "name": "stdout",
     "output_type": "stream",
     "text": [
      "IBM\n"
     ]
    },
    {
     "ename": "TypeError",
     "evalue": "getCompany() takes 0 positional arguments but 1 was given",
     "output_type": "error",
     "traceback": [
      "\u001b[1;31m---------------------------------------------------------------------------\u001b[0m",
      "\u001b[1;31mTypeError\u001b[0m                                 Traceback (most recent call last)",
      "Input \u001b[1;32mIn [31]\u001b[0m, in \u001b[0;36m<cell line: 7>\u001b[1;34m()\u001b[0m\n\u001b[0;32m      5\u001b[0m emp1 \u001b[38;5;241m=\u001b[39m Employee()  \n\u001b[0;32m      6\u001b[0m \u001b[38;5;28mprint\u001b[39m(Employee\u001b[38;5;241m.\u001b[39mgetCompany())\n\u001b[1;32m----> 7\u001b[0m \u001b[38;5;28mprint\u001b[39m(\u001b[43memp1\u001b[49m\u001b[38;5;241;43m.\u001b[39;49m\u001b[43mgetCompany\u001b[49m\u001b[43m(\u001b[49m\u001b[43m)\u001b[49m)\n",
      "\u001b[1;31mTypeError\u001b[0m: getCompany() takes 0 positional arguments but 1 was given"
     ]
    }
   ],
   "source": [
    "class Employee:\n",
    "    company = \"IBM\"\n",
    "    def getCompany():\n",
    "        return Employee.company\n",
    "emp1 = Employee()  \n",
    "print(Employee.getCompany())\n",
    "#print(emp1.getCompany())"
   ]
  },
  {
   "cell_type": "code",
   "execution_count": 33,
   "id": "29e4da3e",
   "metadata": {},
   "outputs": [
    {
     "name": "stdout",
     "output_type": "stream",
     "text": [
      "3\n"
     ]
    }
   ],
   "source": [
    "class Employee:\n",
    "    count = 0\n",
    "    def __init__(self):\n",
    "        Employee.count += 1\n",
    "emp1 = Employee()\n",
    "emp2 = Employee()\n",
    "emp3 = Employee()\n",
    "print(Employee.count)"
   ]
  },
  {
   "cell_type": "markdown",
   "id": "8f26acd1",
   "metadata": {},
   "source": [
    "## 其他類別方法實作\n",
    "+ 其他類別方法實作\n",
    "  + 類別中宣告類別方法\n",
    "    + 方法傳入類別cls為第一個參數\n",
    "    + 方法前使用@classmethod 修飾\n",
    "    + 只能使用類別名稱呼叫\n",
    "  + 類別中宣告靜態方法\n",
    "    + 方法不綁定特定實體：不傳入self為第一個參數\n",
    "    + 方法前使用@staticmethod 修飾\n",
    "    + 可以類別名稱或物件名稱呼叫!"
   ]
  },
  {
   "cell_type": "code",
   "execution_count": 41,
   "id": "ea832d09",
   "metadata": {},
   "outputs": [
    {
     "name": "stdout",
     "output_type": "stream",
     "text": [
      "9937712\n",
      "9937712\n",
      "Ken\n",
      "Howard\n"
     ]
    }
   ],
   "source": [
    "class Student:\n",
    "    count = 0\n",
    "    company = \"GJ\"\n",
    "    phone = \"8825252\"\n",
    "    def __init__(self,name):\n",
    "        self.name = name\n",
    "    def getCompany():\n",
    "        return Employee.company\n",
    "    @staticmethod\n",
    "    def getTotal():\n",
    "        return Employee.count\n",
    "    @classmethod\n",
    "    def setPhone(cls,phone):\n",
    "        cls.phone = phone\n",
    "    @classmethod\n",
    "    def newStudent(cls,name):    \n",
    "        return cls(name)\n",
    "    \n",
    "    def getName(self):\n",
    "        return self.name\n",
    "    def __str__(self):\n",
    "        return self.name\n",
    "st = Student(\"Ken\")    \n",
    "st2 = Student(\"Vivin\")\n",
    "st.setPhone(\"7533967\")\n",
    "st2.setPhone(\"9937712\")\n",
    "print(st.phone)\n",
    "print(Student.phone)\n",
    "print(st.getName())\n",
    "print(Student.newStudent(\"Howard\"))"
   ]
  },
  {
   "cell_type": "markdown",
   "id": "de4016b4",
   "metadata": {},
   "source": [
    "## 成員項目檢查\n",
    "+ python 提供內建函式檢查及操作物件成員屬性：\n",
    "  + hasattr(obj, name) : 檢查物件某成員是否存在，存在回傳 true，否則傳回 false。\n",
    "  + getattr(obj, name[, default]) : 回傳物件某成員的內容\n",
    "  + setattr(obj, name, value) : 設定物件某成員的內容。成員不存在則會建立。\n",
    "  + delattr(obj, name) : 刪除一個成員。"
   ]
  },
  {
   "cell_type": "code",
   "execution_count": 57,
   "id": "ef8a802e",
   "metadata": {},
   "outputs": [
    {
     "name": "stdout",
     "output_type": "stream",
     "text": [
      "存在\n",
      "20\n"
     ]
    }
   ],
   "source": [
    "class Student:\n",
    "    school=\"Test\"\n",
    "    count = 0\n",
    "    def __init__(self,name):\n",
    "        self.name = name\n",
    "        Student.count += 1\n",
    "    def displayCount():\n",
    "        print(f\"Total:{Student.count}\")\n",
    "    def displayStudent(self):     \n",
    "        print(\"Name:\",self.name)\n",
    "       \n",
    "s1 = Student(\"MAX\")     \n",
    "s1.age = 20\n",
    "if hasattr(s1,'age'):\n",
    "    print(\"存在\")\n",
    "    print(s1.age)\n",
    "else:\n",
    "    print(\"不存在\")\n",
    "    setattr(s1,'age',20)\n",
    "    print(s1.age)\n",
    "    "
   ]
  },
  {
   "cell_type": "code",
   "execution_count": 64,
   "id": "27d0f7c7",
   "metadata": {},
   "outputs": [
    {
     "name": "stdout",
     "output_type": "stream",
     "text": [
      "不存在建立\n",
      "20\n"
     ]
    }
   ],
   "source": [
    "class Student:\n",
    "    school=\"Test\"\n",
    "    count = 0\n",
    "    def __init__(self,name):\n",
    "        self.name = name\n",
    "        Student.count += 1\n",
    "    def displayCount():\n",
    "        print(f\"Total:{Student.count}\")\n",
    "    def displayStudent(self):     \n",
    "        print(\"Name:\",self.name)\n",
    "st2 = Student(\"Max\")\n",
    "#st2.age = 17\n",
    "if hasattr(st2,'age'):\n",
    "    print(\"存在 刪除\")\n",
    "    delattr(st2,'age')\n",
    "    #print(st2.age)\n",
    "else:\n",
    "    print(\"不存在建立\")\n",
    "    setattr(st2,'age',20)\n",
    "    print(st2.age)"
   ]
  },
  {
   "cell_type": "markdown",
   "id": "19236cbb",
   "metadata": {},
   "source": [
    "# Python 物件導向特性\n",
    "+ 封裝 encapsulation：類別 class 封裝資料狀態與操作行為\n",
    "+ 繼承 inheritance：類別繼承階級架構\n",
    "+ 多型 polymorphism\n",
    "  + 不同種類的個體擁有相同操作介面：\n",
    "     + int與str都可使用「+」運算子\n",
    "     + list 改寫（或重新實作）Sequence規定的介面\n",
    "  + 函式可因參數型別不同而有不同行為"
   ]
  },
  {
   "cell_type": "markdown",
   "id": "782f8ebc",
   "metadata": {},
   "source": [
    "## 封裝\n",
    "屬性與方法加上__為私有"
   ]
  },
  {
   "cell_type": "code",
   "execution_count": 69,
   "id": "edcf56b5",
   "metadata": {},
   "outputs": [
    {
     "name": "stdout",
     "output_type": "stream",
     "text": [
      "Ken : 50000\n"
     ]
    }
   ],
   "source": [
    "class Employee:\n",
    "    def __init__(self,name,salary = 20000):\n",
    "        self.__name = name\n",
    "        self.__salary = salary\n",
    "    def getSalary(self):\n",
    "        return self.__salary\n",
    "    def getName(self):\n",
    "        return self.__name\n",
    "emp = Employee(\"Ken\",50000)    \n",
    "emp.__name = \"   \"\n",
    "emp.__salary = -200\n",
    "\n",
    "print(emp.getName(),\":\",emp.getSalary())"
   ]
  },
  {
   "cell_type": "code",
   "execution_count": 78,
   "id": "fc75c484",
   "metadata": {},
   "outputs": [
    {
     "name": "stdout",
     "output_type": "stream",
     "text": [
      "id: 1\n",
      "name: Lucy\n",
      "salary: 50000\n",
      "id: 2\n",
      "name: David\n",
      "salary: 360000\n"
     ]
    }
   ],
   "source": [
    "class Employee:\n",
    "    __count = 0\n",
    "    def __init__(self,name,salary = 20000):\n",
    "        Employee.__count += 1\n",
    "        self.__id = Employee.__count\n",
    "        self.__name = name\n",
    "        if salary >= 20000:\n",
    "            self.__salary = salary\n",
    "        else:\n",
    "            self.__salary = 20000\n",
    "    def getTotal():\n",
    "        return Employee.__count\n",
    "    def getID(self):\n",
    "        return self.__id\n",
    "    def getName(self):\n",
    "        return self.__name\n",
    "    def setName(self,name):\n",
    "        self.__name = name\n",
    "    def getSalary(self):\n",
    "        return self.__salary\n",
    "    def setSalary(self,salary):\n",
    "        self.__salary = salary\n",
    "    def printinfo(self):  \n",
    "        print(\"id:\",self.getID())\n",
    "        print(\"name:\",self.__name)\n",
    "        print(\"salary:\",self.__salary)\n",
    "emp1 = Employee(\"Sean\",50000)        \n",
    "emp1.setName(\"Lucy\")\n",
    "emp2 = Employee(\"David\",26000)  \n",
    "emp2.setSalary(360000)\n",
    "emp1.printinfo()\n",
    "emp2.printinfo()       "
   ]
  },
  {
   "cell_type": "code",
   "execution_count": 84,
   "id": "260904a7",
   "metadata": {},
   "outputs": [
    {
     "name": "stdout",
     "output_type": "stream",
     "text": [
      "30000\n"
     ]
    }
   ],
   "source": [
    "class Employee:\n",
    "    def __init__(self,name,salary=20000):\n",
    "        self.name = name\n",
    "        if salary >= 20000:\n",
    "            self.__salary = salary\n",
    "        else:\n",
    "            self = 20000\n",
    "    def get_salary(self):            \n",
    "         return self.__salary\n",
    "    def set_salary(self,v):    \n",
    "        if v > 20000:\n",
    "            self.__salary = v\n",
    "    def del_dalary(self):\n",
    "        del self.__salary\n",
    "    salary = property(get_salary,set_salary,del_dalary)     \n",
    "emp1 = Employee(\"Sean\",50000)            \n",
    "emp1.salary = 30000\n",
    "#emp1.set_salary(150000)\n",
    "print(emp1.salary)\n"
   ]
  },
  {
   "cell_type": "code",
   "execution_count": null,
   "id": "7808e75e",
   "metadata": {},
   "outputs": [],
   "source": []
  }
 ],
 "metadata": {
  "kernelspec": {
   "display_name": "Python 3 (ipykernel)",
   "language": "python",
   "name": "python3"
  },
  "language_info": {
   "codemirror_mode": {
    "name": "ipython",
    "version": 3
   },
   "file_extension": ".py",
   "mimetype": "text/x-python",
   "name": "python",
   "nbconvert_exporter": "python",
   "pygments_lexer": "ipython3",
   "version": "3.8.11"
  }
 },
 "nbformat": 4,
 "nbformat_minor": 5
}
