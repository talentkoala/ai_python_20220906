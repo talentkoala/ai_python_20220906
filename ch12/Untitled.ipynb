{
 "cells": [
  {
   "cell_type": "markdown",
   "id": "f67a385d",
   "metadata": {},
   "source": [
    "## 平均值作業"
   ]
  },
  {
   "cell_type": "code",
   "execution_count": 3,
   "id": "80f3d905",
   "metadata": {},
   "outputs": [
    {
     "name": "stdout",
     "output_type": "stream",
     "text": [
      "班上學生考試資訊:\n",
      "\n",
      "學生人數0人\n",
      "輸入新的學生資料 (y/n) ? y\n",
      "\n",
      "輸入學生姓名: Ken\n",
      "\n",
      "學生: Ken\n",
      "-------------------\n",
      "考試科目有幾科? : 3\n",
      "科目 1 分數 : 100\n",
      "科目 2 分數 : 72\n",
      "科目 3 分數 : 92\n",
      "\n",
      "學生人數1人\n",
      "輸入新的學生資料 (y/n) ? y\n",
      "\n",
      "輸入學生姓名: Vivin\n",
      "\n",
      "學生: Vivin\n",
      "-------------------\n",
      "考試科目有幾科? : 2\n",
      "科目 1 分數 : 92\n",
      "科目 2 分數 : 81\n",
      "\n",
      "學生人數2人\n",
      "輸入新的學生資料 (y/n) ? n\n",
      "\n",
      "班級清單\n",
      "\n",
      "學生: Ken 成績:[100.0, 72.0, 92.0] 平均成績: 88.00  等第: B\n",
      "學生: Vivin 成績:[92.0, 81.0] 平均成績: 86.50  等第: B\n",
      "\n",
      "班級平均成績 87.25\n"
     ]
    }
   ],
   "source": [
    "class Student:\n",
    "    def __init__(self, name):\n",
    "        self.name, self.grades = name, []\n",
    "    def append_grade(self, grade):\n",
    "        self.grades.append(grade)\n",
    "    def average(self):\n",
    "        return sum(self.grades) / len(self.grades)\n",
    "    def letter_grade(self):\n",
    "        average = self.average()\n",
    "        for value, grade in (90, \"A\"), (80, \"B\"), (70, \"C\"), (60, \"D\"):\n",
    "            if average >= value:\n",
    "                return grade\n",
    "        else:\n",
    "            return \"F\"\n",
    "def print_report(a_class):\n",
    "    print()\n",
    "    print('班級清單')\n",
    "    print()\n",
    "    for student in a_class:\n",
    "        print(f'學生: {student.name} 成績:{student.grades} 平均成績: {student.average():.2f}  等第: { student.letter_grade()}')\n",
    "    print()\n",
    "    print(f'班級平均成績 {class_average(a_class):.2f}')\n",
    "\n",
    "def class_average(a_class):\n",
    "    return sum(student.average() for student in a_class) / len(a_class)\n",
    "\n",
    "print('班上學生考試資訊:')\n",
    "a_class = []  # \"class\" by itself is a reserved word in Python, avoid using\n",
    "while True:\n",
    "    print()\n",
    "    print(f'學生人數{len(a_class)}人')\n",
    "    another_student = input('輸入新的學生資料 (y/n) ? ')\n",
    "    if another_student[0].lower() != 'y':\n",
    "        break\n",
    "    print()\n",
    "    student_name = input('輸入學生姓名: ')\n",
    "    a_class.append(Student(student_name))\n",
    "    print()\n",
    "    print('學生:', student_name)\n",
    "    print('-------------------')\n",
    "    number_of_tests = int(input('考試科目有幾科? : '))\n",
    "    for test_num in range(1, number_of_tests+1):\n",
    "        print(f'科目 {test_num} 分數', end='')\n",
    "        score = float(input(' : '))\n",
    "        if score < 0:\n",
    "            break\n",
    "        a_class[-1].append_grade(score) \n",
    "print_report(a_class)\n"
   ]
  },
  {
   "cell_type": "markdown",
   "id": "bebab01f",
   "metadata": {},
   "source": [
    "## Numpy\n",
    "+ 可做到的功能\n",
    "  + 快速的多維陣列操作。\n",
    "  + 可靠的科學功能函數庫。\n",
    "  + 可協助繪圖工具進行繪圖。\n",
    "+ NumPy 是幾乎每個科學 Python 應用程序或模組的核心，它提供了以向量化形式的快速 N-d 陣列類型可供操作。"
   ]
  },
  {
   "cell_type": "code",
   "execution_count": 7,
   "id": "683af91b",
   "metadata": {},
   "outputs": [
    {
     "name": "stdout",
     "output_type": "stream",
     "text": [
      "[5, 7]\n",
      "[1, 3, 5, 7, 9]\n",
      "[6, 8]\n",
      "[1, 3, 5, 7, 9, 3, 5, 6, 7, 9]\n",
      "<class 'list'> <class 'list'> <class 'list'> <class 'list'>\n"
     ]
    }
   ],
   "source": [
    "a = [1,3,5,7,9]\n",
    "print(a[2:4])\n",
    "b = [[1,3,5,7,9],\n",
    "     [2,4,6,8,10]]\n",
    "print(b[0])\n",
    "print(b[1][2:4])\n",
    "c = [1,3,5,7,9]\n",
    "d = [3,5,6,7,9]\n",
    "f = c + d\n",
    "print(f)\n",
    "print(type(a),type(b),type(c),type(d))\n"
   ]
  },
  {
   "cell_type": "markdown",
   "id": "5045c7ff",
   "metadata": {},
   "source": [
    "### Numpy 的陣列形狀!\n",
    "+ NumPy 是同型態的多維陣列。\n",
    "+ 透過一個正整數索引的元素表格進行規劃。\n",
    "+ 透過 shape 指令可以知道陣列的形狀。"
   ]
  },
  {
   "cell_type": "code",
   "execution_count": 8,
   "id": "a6aacd70",
   "metadata": {},
   "outputs": [
    {
     "name": "stdout",
     "output_type": "stream",
     "text": [
      "[ 4  8 11 14 18]\n",
      "[-2 -2 -1  0  0]\n",
      "<class 'numpy.ndarray'>\n"
     ]
    }
   ],
   "source": [
    "import numpy as np\n",
    "a = np.array([1,3,5,7,9])\n",
    "b = np.array([3,5,6,7,9])\n",
    "c = a + b\n",
    "print(c)\n",
    "c = a - b\n",
    "print(c)\n",
    "print(type(c))"
   ]
  },
  {
   "cell_type": "markdown",
   "id": "e75b0164",
   "metadata": {},
   "source": [
    "# Numpy 建立與計算"
   ]
  },
  {
   "cell_type": "markdown",
   "id": "e3d63d94",
   "metadata": {},
   "source": [
    "+ ndarray.ndim\n",
    "   + 維度的數量。\n",
    "+ ndarray.shape\n",
    "   + 顯示出陣列在每個維度上的整數值。\n",
    "+ ndarray.size\n",
    "   + 陣列內元素的總數。\n",
    "+ ndarray.dtype\n",
    "   + 用來描述陣列中元素類型的對象。"
   ]
  },
  {
   "cell_type": "code",
   "execution_count": 14,
   "id": "b739472f",
   "metadata": {},
   "outputs": [
    {
     "name": "stdout",
     "output_type": "stream",
     "text": [
      "[[1 2 3]\n",
      " [2 3 4]]\n",
      "<class 'numpy.ndarray'>\n",
      "ndim: 2\n",
      "shape: (2, 3)\n",
      "size: 6\n",
      "dtype uint16\n"
     ]
    }
   ],
   "source": [
    "import numpy as np\n",
    "i = [[1,2,3],[2,3,4]]\n",
    "a = np.array(i,dtype=np.uint16)\n",
    "print(a)\n",
    "print(type(a))\n",
    "\n",
    "print(\"ndim:\",a.ndim)\n",
    "print(\"shape:\",a.shape)\n",
    "print(\"size:\",a.size)\n",
    "print(\"dtype\",a.dtype)"
   ]
  },
  {
   "cell_type": "markdown",
   "id": "69eb84f6",
   "metadata": {},
   "source": [
    "## 陣列初始化與重新規劃\n",
    "+ 針對初始化這部分提供了多種方式：\n",
    "+ 不做初始化\n",
    "   + 例如：np.empty((2,4))\n",
    "+ 全部規劃為 0\n",
    "   + 例如：np.zeros((3,4))\n",
    "+　全部規劃為 1\n",
    "  + np.ones((5,2))\n",
    "+ 全部規劃／填滿為某數，例如 6\n",
    "   + 例如： np.full((3,3),6)\n",
    "+ 建立對角矩陣，對角皆為 1，其他為 0\n",
    "   + 例如： np.eye(3)\n",
    "+ 建立對角矩陣，對角為 1,2,3,4，其他為 0\n",
    "   + 例如： np.diag([1,2,3,4])\n",
    "+ reshape((x,y)) 這個指令就可以將現有的陣列  重新規劃為 x 乘以 y 的陣列。 \n",
    "+ np.arange(起始值, 結束值, 固定間隔)：也是產生一維陣列，和 np.array( ) 的差別在於 arange 擁有較大的彈性，而且元素數值是自動化產生。\n",
    "+ np.linspace(起始值, 結束值, 起始與結束的區間內要產生幾個元素 )：只要給定陣列的區間(起始值、結束值)，就可以要求在這個區間內產生幾個元素。\n",
    "+ arange(a,b,c)\n",
    "   + 不包含 b 由 a 開始 以固定間隔 c 來取值\n",
    "+ linspace(a,b,c,)\n",
    "   + 包含 b 由 a 開始 切割成 c 個資料\n",
    "+ linspace(a,b,c,endpoint=False)\n",
    "   + 不包含 b 由 a 開始 切割成 c 個資料"
   ]
  },
  {
   "cell_type": "markdown",
   "id": "09c80c2b",
   "metadata": {},
   "source": [
    "### empty zeros ones"
   ]
  },
  {
   "cell_type": "code",
   "execution_count": 20,
   "id": "ded336e0",
   "metadata": {},
   "outputs": [
    {
     "name": "stdout",
     "output_type": "stream",
     "text": [
      "[[4.67296746e-307 1.69121096e-306 1.42420753e-306 1.89146896e-307]\n",
      " [7.56571288e-307 3.11525958e-307 1.24610723e-306 1.29061142e-306]]\n",
      "[[0. 0. 0. 0.]\n",
      " [0. 0. 0. 0.]\n",
      " [0. 0. 0. 0.]]\n",
      "[[1. 1. 1. 1. 1.]\n",
      " [1. 1. 1. 1. 1.]\n",
      " [1. 1. 1. 1. 1.]\n",
      " [1. 1. 1. 1. 1.]\n",
      " [1. 1. 1. 1. 1.]]\n"
     ]
    }
   ],
   "source": [
    "import numpy as np\n",
    "x = np.empty((2,4))\n",
    "print(x)\n",
    "x = np.zeros((3,4))\n",
    "print(x)\n",
    "c = np.ones((5,5))\n",
    "print(c)"
   ]
  },
  {
   "cell_type": "markdown",
   "id": "a810835f",
   "metadata": {},
   "source": [
    "### eye diag"
   ]
  },
  {
   "cell_type": "code",
   "execution_count": 23,
   "id": "e0257515",
   "metadata": {},
   "outputs": [
    {
     "name": "stdout",
     "output_type": "stream",
     "text": [
      "[[1. 0. 0.]\n",
      " [0. 1. 0.]\n",
      " [0. 0. 1.]]\n",
      "[[1 0 0 0]\n",
      " [0 2 0 0]\n",
      " [0 0 3 0]\n",
      " [0 0 0 4]]\n"
     ]
    }
   ],
   "source": [
    "import numpy as np\n",
    "x = np.eye(3)\n",
    "print(x)\n",
    "x = np.diag([1,2,3,4])\n",
    "print(x)"
   ]
  },
  {
   "cell_type": "markdown",
   "id": "c05e5b2c",
   "metadata": {},
   "source": [
    "### linspace arange"
   ]
  },
  {
   "cell_type": "code",
   "execution_count": 29,
   "id": "823b7dd5",
   "metadata": {},
   "outputs": [
    {
     "name": "stdout",
     "output_type": "stream",
     "text": [
      "[ 1.   2.8  4.6  6.4  8.2 10. ]\n",
      "==============\n",
      "[[ 1.   2.8]\n",
      " [ 4.6  6.4]\n",
      " [ 8.2 10. ]]\n",
      "=============\n",
      "[[1.  2.5]\n",
      " [4.  5.5]\n",
      " [7.  8.5]]\n",
      "=============\n",
      "[[0 1 2 3]\n",
      " [4 5 6 7]]\n",
      "=============\n",
      "[[0 1]\n",
      " [2 3]\n",
      " [4 5]\n",
      " [6 7]]\n"
     ]
    }
   ],
   "source": [
    "import numpy as np\n",
    "x = np.linspace(1,10,6)\n",
    "print(x)\n",
    "print(\"==============\")\n",
    "x = np.linspace(1,10,6).reshape(3,2)# (10-1)/(6-1)\n",
    "print(x)\n",
    "print(\"=============\")\n",
    "x = np.linspace(1,10,6,endpoint=False).reshape((3,2))#(10-1)/(6)\n",
    "print(x)\n",
    "print(\"=============\")\n",
    "x = np.arange(8).reshape(2,4)\n",
    "print(x)\n",
    "print(\"=============\")\n",
    "x = np.arange(8).reshape((4,2))\n",
    "print(x)"
   ]
  },
  {
   "cell_type": "markdown",
   "id": "3a695f24",
   "metadata": {},
   "source": [
    "### Q1 . 請問以下的程式執行後值是多少?"
   ]
  },
  {
   "cell_type": "code",
   "execution_count": 30,
   "id": "dbcbab14",
   "metadata": {},
   "outputs": [
    {
     "name": "stdout",
     "output_type": "stream",
     "text": [
      "r1=> [25.  25.5 26.  26.5 27.  27.5 28.  28.5 29.  29.5]\n"
     ]
    }
   ],
   "source": [
    "import numpy as np\n",
    "r1 = np.arange(25,30,.5)\n",
    "print(\"r1=>\",r1)"
   ]
  },
  {
   "cell_type": "markdown",
   "id": "033b5bf0",
   "metadata": {},
   "source": [
    "### Q2 . 請問以下的程式執行後值是多少?"
   ]
  },
  {
   "cell_type": "code",
   "execution_count": 31,
   "id": "3c9ded9d",
   "metadata": {},
   "outputs": [
    {
     "name": "stdout",
     "output_type": "stream",
     "text": [
      "lin=> [3.   3.25 3.5  3.75 4.   4.25 4.5  4.75 5.  ]\n"
     ]
    }
   ],
   "source": [
    "import numpy as np\n",
    "lin = np.linspace(3,5,9)#5-3/9-1\n",
    "print(\"lin=>\",lin)"
   ]
  },
  {
   "cell_type": "markdown",
   "id": "3fec4e8b",
   "metadata": {},
   "source": [
    "## 陣列計算"
   ]
  },
  {
   "cell_type": "code",
   "execution_count": 35,
   "id": "1d453554",
   "metadata": {},
   "outputs": [
    {
     "name": "stdout",
     "output_type": "stream",
     "text": [
      "[6 7 8 9]\n",
      "[0 1 2 3]\n",
      "[6 6 6 6]\n",
      "d=> [0 1 4 9]\n",
      "f<=3 [False  True  True False  True]\n",
      "[5 1 1 9 1]\n"
     ]
    }
   ],
   "source": [
    "import numpy as np\n",
    "a = np.array([6,7,8,9])\n",
    "b = np.arange(4)\n",
    "c = a - b\n",
    "print(a)\n",
    "print(b)\n",
    "print(c)\n",
    "d = b ** 2\n",
    "print(\"d=>\",d)\n",
    "f = np.array([5,-1,3,9,0])\n",
    "print(\"f<=3\",f<=3)\n",
    "f[f <= 3] = 1\n",
    "print(f)"
   ]
  },
  {
   "cell_type": "markdown",
   "id": "3cc43ae6",
   "metadata": {},
   "source": [
    "### Q. 請問以下的程式執行後值是多少?(選擇題)"
   ]
  },
  {
   "cell_type": "code",
   "execution_count": 36,
   "id": "abbfa4dc",
   "metadata": {},
   "outputs": [
    {
     "name": "stdout",
     "output_type": "stream",
     "text": [
      "[ 8  9 10 11]\n"
     ]
    }
   ],
   "source": [
    "import numpy as np\n",
    "a = np.array([6,7,8,9])\n",
    "a += 2\n",
    "print(a)"
   ]
  },
  {
   "cell_type": "markdown",
   "id": "140ac502",
   "metadata": {},
   "source": [
    "## 陣列指定位置取值\n",
    "+ 間隔選取 [::c]\n",
    "  + 以 1 維陣列來說明 x[a:b:c]\n",
    "  + a：選取資料的起始索引\n",
    "  + b：選取資料的結束索引 +1\n",
    "  + c：選取資料間隔，以索引值可以被此值整除的元素，不指定表示 1\n",
    "+ 倒序 [::-1]\n",
    "  + 只是單純的把順序反過來"
   ]
  },
  {
   "cell_type": "markdown",
   "id": "b64cc401",
   "metadata": {},
   "source": [
    "## 陣列指定位置-給予一個整數\n",
    "+ 關於指定位置  [row,column]\n",
    "+ 假設給予一個整數為 N\n",
    " + 如果是給固定的 N，那就代表 row 或 column 等於 N。\n",
    " + 如果是 N：，那就代表 row 或 column 大於等於 N 的區域。\n",
    " + 如果是：N，那就代表 row 或 column 小於 N 的區域。 \n",
    " + 如果是：，那就代表 row 或 column 是任意欄位。"
   ]
  },
  {
   "cell_type": "code",
   "execution_count": 40,
   "id": "1a159474",
   "metadata": {},
   "outputs": [
    {
     "name": "stdout",
     "output_type": "stream",
     "text": [
      "[[1 2 3]\n",
      " [3 6 9]\n",
      " [2 4 6]]\n",
      "[1 2 3]\n",
      "9\n"
     ]
    }
   ],
   "source": [
    "import numpy as np\n",
    "a = np.array([[1,2,3],\n",
    "              [3,6,9],\n",
    "              [2,4,6]])\n",
    "print(a)\n",
    "print(a[0])\n",
    "print(a[1,2])"
   ]
  },
  {
   "cell_type": "code",
   "execution_count": 45,
   "id": "6648df22",
   "metadata": {},
   "outputs": [
    {
     "name": "stdout",
     "output_type": "stream",
     "text": [
      "[6 9]\n",
      "[2 6 4]\n",
      "================\n",
      "[[1 2 3]\n",
      " [3 6 7]\n",
      " [2 4 6]]\n",
      "================\n",
      "[[0 2 3]\n",
      " [9 6 7]\n",
      " [8 4 6]]\n"
     ]
    }
   ],
   "source": [
    "import numpy as np\n",
    "a = np.array([[1,2,3],\n",
    "              [3,6,9],\n",
    "              [2,4,6]])\n",
    "print(a[1,1:3])\n",
    "print(a[:,1])\n",
    "a[1,2] = 7\n",
    "print(\"================\")\n",
    "print(a)\n",
    "print(\"================\")\n",
    "a[:,0] = [0,9,8]\n",
    "print(a)"
   ]
  },
  {
   "cell_type": "code",
   "execution_count": 49,
   "id": "336a9c31",
   "metadata": {},
   "outputs": [
    {
     "name": "stdout",
     "output_type": "stream",
     "text": [
      "=====1====\n",
      "[3 4]\n",
      "=====2====\n",
      "[[44 45]\n",
      " [54 55]]\n",
      "=====3====\n",
      "[[ 0  1  2]\n",
      " [10 11 12]\n",
      " [20 21 22]]\n",
      "=====4====\n",
      "[ 2 12 22 32 42 52]\n"
     ]
    }
   ],
   "source": [
    "import numpy as np\n",
    "a = np.array([[0,1,2,3,4,5],\n",
    "       [10,11,12,13,14,15],\n",
    "       [20,21,22,23,24,25],\n",
    "       [30,31,32,33,34,35],\n",
    "       [40,41,42,43,44,45],\n",
    "       [50,51,52,53,54,55],\n",
    "])\n",
    "print(\"=====1====\")\n",
    "print(a[0,3:5])\n",
    "print(\"=====2====\")\n",
    "print(a[4:,4:])\n",
    "print(\"=====3====\")\n",
    "print(a[:3,:3])\n",
    "print(\"=====4====\")\n",
    "print(a[:,2])"
   ]
  },
  {
   "cell_type": "markdown",
   "id": "9750ac64",
   "metadata": {},
   "source": [
    "## 陣列指定位置 - tuple 或 list\n",
    "+ 如果是 tuple 方式，代表位置第一個 tuple 的每一個值為 row 的位置，第二個 tuple 的每一個值為 column 的位置。\n",
    "+ 如果是 list 方式，代表 row 或 column 要選取 index 為 list 上的數值的資料。"
   ]
  },
  {
   "cell_type": "code",
   "execution_count": 50,
   "id": "e9721af3",
   "metadata": {},
   "outputs": [
    {
     "name": "stdout",
     "output_type": "stream",
     "text": [
      "==1===\n",
      "[ 1 12 23 34 45]\n"
     ]
    }
   ],
   "source": [
    "import numpy as np\n",
    "a = np.array([[0,1,2,3,4,5],\n",
    "       [10,11,12,13,14,15],\n",
    "       [20,21,22,23,24,25],\n",
    "       [30,31,32,33,34,35],\n",
    "       [40,41,42,43,44,45],\n",
    "       [50,51,52,53,54,55],\n",
    "])\n",
    "print(\"==1===\")\n",
    "print(a[(0,1,2,3,4),(1,2,3,4,5)])"
   ]
  },
  {
   "cell_type": "markdown",
   "id": "81ab300d",
   "metadata": {},
   "source": [
    "## 重設新陣列\n",
    "+ resize 這個動作會依據原本的陣列再設定指定大小的新陣列。 \n",
    "+ resize 動作的參數如下：\n",
    "+ numpy.resize(arr1，shape1)\n",
    "  + arr1：原本的陣列\n",
    "  + shape1：新規劃的大小\n",
    "+ 如果規劃的新陣列比較大，將會重新複製原有陣列的資料，填滿新的儲存格。\n",
    "+ resize 這個動作***建立新的陣列***，而 reshape 則是依據原有的重新規劃，仍會受到原有陣列影響。\n",
    "+ transpose()轉置\n"
   ]
  },
  {
   "cell_type": "markdown",
   "id": "e489df27",
   "metadata": {},
   "source": [
    "### 操作範例：reshape"
   ]
  },
  {
   "cell_type": "code",
   "execution_count": 56,
   "id": "296c29e2",
   "metadata": {},
   "outputs": [
    {
     "name": "stdout",
     "output_type": "stream",
     "text": [
      "(2, 3)\n",
      "[[1 2]\n",
      " [3 4]\n",
      " [5 6]]\n",
      "[[  1 100]\n",
      " [  3   4]\n",
      " [  5   6]]\n",
      "(3, 2)\n",
      "(2, 3)\n"
     ]
    }
   ],
   "source": [
    "import numpy as np\n",
    "a = np.array([[1,2,3],\n",
    "              [4,5,6]])\n",
    "print(a.shape)\n",
    "b = a.reshape(3,2)\n",
    "print(b)\n",
    "a[0,1] = 100\n",
    "print(b)#會改變\n",
    "print(b.shape)\n",
    "print(a.shape)"
   ]
  },
  {
   "cell_type": "markdown",
   "id": "7395ac20",
   "metadata": {},
   "source": [
    "### resize"
   ]
  },
  {
   "cell_type": "code",
   "execution_count": 64,
   "id": "f332c49b",
   "metadata": {},
   "outputs": [
    {
     "name": "stdout",
     "output_type": "stream",
     "text": [
      "[[1 2 3]\n",
      " [4 5 6]]\n",
      "(2, 3)\n",
      "\n",
      "[[1 2]\n",
      " [3 4]\n",
      " [5 6]]\n",
      "(3, 2)\n",
      "\n",
      "[[1 2]\n",
      " [3 4]\n",
      " [5 6]]\n",
      "(2, 3)\n",
      "(3, 2)\n",
      "[[  1 100   3   4   5   6   1 100   3   4]\n",
      " [  5   6   1 100   3   4   5   6   1 100]\n",
      " [  3   4   5   6   1 100   3   4   5   6]\n",
      " [  1 100   3   4   5   6   1 100   3   4]\n",
      " [  5   6   1 100   3   4   5   6   1 100]\n",
      " [  3   4   5   6   1 100   3   4   5   6]\n",
      " [  1 100   3   4   5   6   1 100   3   4]\n",
      " [  5   6   1 100   3   4   5   6   1 100]\n",
      " [  3   4   5   6   1 100   3   4   5   6]\n",
      " [  1 100   3   4   5   6   1 100   3   4]]\n"
     ]
    }
   ],
   "source": [
    "import numpy as np\n",
    "a = np.array([[1,2,3],[4,5,6]])\n",
    "print(a)\n",
    "print(a.shape)\n",
    "print()\n",
    "b = np.resize(a,(3,2))\n",
    "print(b)\n",
    "print(b.shape)\n",
    "print()\n",
    "a[0,1] = 100\n",
    "print(b) #b不變\n",
    "print(a.shape)\n",
    "print(b.shape)\n",
    "b = np.resize(a,(10,10))\n",
    "print(b)"
   ]
  },
  {
   "cell_type": "markdown",
   "id": "6bf12b70",
   "metadata": {},
   "source": [
    "### transpose"
   ]
  },
  {
   "cell_type": "code",
   "execution_count": 71,
   "id": "21ba6403",
   "metadata": {},
   "outputs": [
    {
     "name": "stdout",
     "output_type": "stream",
     "text": [
      "==================\n",
      "[[0 1 2 3 4]\n",
      " [5 6 7 8 9]]\n",
      "==================\n",
      "[[0 5]\n",
      " [1 6]\n",
      " [2 7]\n",
      " [3 8]\n",
      " [4 9]]\n",
      "==================\n",
      "[[0 1 2 3 4]\n",
      " [5 6 7 8 9]]\n",
      "[[0 5]\n",
      " [1 6]\n",
      " [2 7]\n",
      " [3 8]\n",
      " [4 9]]\n",
      "==================\n",
      "[[ 0  5]\n",
      " [10 10]\n",
      " [ 2  7]\n",
      " [ 3  8]\n",
      " [ 4  9]]\n",
      "==================\n",
      "[[ 0 10  2  3  4]\n",
      " [ 5 10  7  8  9]]\n"
     ]
    }
   ],
   "source": [
    "import numpy as np\n",
    "newArray = np.arange(10).reshape(2,5)\n",
    "print(\"==================\")\n",
    "print(newArray)\n",
    "print(\"==================\")\n",
    "print(newArray.transpose())\n",
    "print(\"==================\")\n",
    "print(newArray)## 原始陣列部會改變\n",
    "tArray = newArray.T\n",
    "print(tArray)\n",
    "tArray[1] = 10\n",
    "print(\"==================\")\n",
    "print(tArray)\n",
    "print(\"==================\")\n",
    "print(newArray))#影響原始資料"
   ]
  },
  {
   "cell_type": "markdown",
   "id": "41342445",
   "metadata": {},
   "source": [
    "## 數值計算\n",
    "+ 數值計算函數內放入參與計算的兩個陣列。\n",
    "+ 進行計算的陣列第一維數量必須是相同。\n",
    "+ add( ) 方法代表「加」，也可以使用「+」。\n",
    "+ subtract( ) 方法代表「減」，也可以使用「-」。\n",
    "+ multiply( )方法代表「乘」，也可以使用「*」。\n",
    "+ divide( ) 方法代表「除」，也可以使用「/」。"
   ]
  },
  {
   "cell_type": "markdown",
   "id": "7a37156e",
   "metadata": {},
   "source": [
    "### 加減運算"
   ]
  },
  {
   "cell_type": "code",
   "execution_count": 78,
   "id": "64b9134d",
   "metadata": {},
   "outputs": [
    {
     "name": "stdout",
     "output_type": "stream",
     "text": [
      "[[11 12 13]\n",
      " [14 15 16]\n",
      " [17 18 19]]\n",
      "[[-9 -8 -7]\n",
      " [-6 -5 -4]\n",
      " [-3 -2 -1]]\n"
     ]
    }
   ],
   "source": [
    "import numpy as np\n",
    "a = np.array([[1,2,3],[4,5,6],[7,8,9]])\n",
    "b = np.array([10,10,10])\n",
    "c = np.add(a,b)\n",
    "print(c)\n",
    "d = np.subtract(a,b)\n",
    "print(d)"
   ]
  },
  {
   "cell_type": "code",
   "execution_count": 79,
   "id": "cdfb1104",
   "metadata": {},
   "outputs": [
    {
     "name": "stdout",
     "output_type": "stream",
     "text": [
      "[[11 12 13]\n",
      " [14 15 16]\n",
      " [17 18 19]]\n",
      "[[-9 -8 -7]\n",
      " [-6 -5 -4]\n",
      " [-3 -2 -1]]\n"
     ]
    }
   ],
   "source": [
    "import numpy as np\n",
    "a = np.array([[1,2,3],[4,5,6],[7,8,9]])#(3,3)\n",
    "b = np.array([10,10,10])#(3)\n",
    "c = a + b\n",
    "print(c)\n",
    "d = a - b\n",
    "print(d)"
   ]
  },
  {
   "cell_type": "markdown",
   "id": "45572c09",
   "metadata": {},
   "source": [
    "## 數值計算\n",
    "+ np.power(a,n) 代表 a 陣列的 n 次方。\n",
    "+ a 陣列的 n 次方也可以使用 a**n 方式表示。\n",
    "+ N 可以是陣列，但兩陣列第一維數量必須是相同。\n",
    "+ np. Reciprocal( ) 代表倒數的計算，倒數是指a*b=1，輸入 a 後求 b。 1/4的倒數是4"
   ]
  },
  {
   "cell_type": "markdown",
   "id": "2f809205",
   "metadata": {},
   "source": [
    "### Power計算"
   ]
  },
  {
   "cell_type": "code",
   "execution_count": 83,
   "id": "3fa6fbff",
   "metadata": {},
   "outputs": [
    {
     "name": "stdout",
     "output_type": "stream",
     "text": [
      "[4 5 6]\n",
      "[16 25 36]\n",
      "[  4  25 216]\n",
      "[  4  25 216]\n"
     ]
    }
   ],
   "source": [
    "import numpy as np\n",
    "a = np.array([4,5,6])\n",
    "print(a)\n",
    "b = np.power(a,2)\n",
    "print(b)\n",
    "c = np.array([1,2,3])\n",
    "d = np.power(a,c)\n",
    "print(d)\n",
    "h = a ** c\n",
    "print(h)"
   ]
  },
  {
   "cell_type": "markdown",
   "id": "646f75ed",
   "metadata": {},
   "source": [
    "### reciprocal求倒數"
   ]
  },
  {
   "cell_type": "code",
   "execution_count": 84,
   "id": "5559c3f8",
   "metadata": {},
   "outputs": [
    {
     "name": "stdout",
     "output_type": "stream",
     "text": [
      "[  0.25   1.33   1.    -0.1  100.  ]\n",
      "\n",
      "[  4.          0.7518797   1.        -10.          0.01     ]\n"
     ]
    }
   ],
   "source": [
    "import numpy as np\n",
    "a = np.array([0.25,1.33,1,-0.1,100])\n",
    "print(a)\n",
    "print()\n",
    "b = np.reciprocal(a) #倒數\n",
    "print(b)"
   ]
  },
  {
   "cell_type": "markdown",
   "id": "264451e6",
   "metadata": {},
   "source": [
    "## 除法計算與小數處理\n",
    "+ np.mod( ) 方法內需加入兩個資料，例如 a 與 b，代表 a除以 b 的餘數。\n",
    "+ np.remainder( ) 方法等同 np.mod( )。\n",
    "+ np.around( ) 方法代表您要將浮點數資料整數位取四捨五入到第幾個位置，小數位取最接近的偶數，這個方法內需要兩個參數：\n",
    "+ array：進行分析的陣列。\n",
    "+ decimals小數位數：\n",
    "  + 預設為 0。\n",
    "  + 如果為正數，代表小數位數有幾個位子。\n",
    "  + 如果為負數，代表小數點左邊的正整數將依序四捨五入進位。\n",
    "+ np.floor( ) 方法代表回傳不大於輸入參數的最大整數。\n",
    "+ np.ceil( ) 方法代表回傳大於輸入參數的最小整數。\n",
    "+ 對於恰好介於四舍五入後的十進製值之間的值，NumPy會四舍五入為最接近的偶數值。因此，將1.5和2.5舍入為2.0，將-0.5和0.5舍入為0.0  "
   ]
  },
  {
   "cell_type": "markdown",
   "id": "57d994c9",
   "metadata": {},
   "source": [
    "### 餘數Mod"
   ]
  },
  {
   "cell_type": "code",
   "execution_count": 86,
   "id": "c7a4286a",
   "metadata": {},
   "outputs": [
    {
     "name": "stdout",
     "output_type": "stream",
     "text": [
      "[10 20 30]\n",
      "\n",
      "[1 0 2]\n",
      "\n",
      "[1 0 2]\n"
     ]
    }
   ],
   "source": [
    "import numpy as np\n",
    "a = np.array([10,20,30])\n",
    "b = np.array([3,5,7])\n",
    "print(a)\n",
    "print()\n",
    "c = np.mod(a,b)\n",
    "print(c)\n",
    "print()\n",
    "d = np.remainder(a,b)\n",
    "print(d)\n"
   ]
  },
  {
   "cell_type": "markdown",
   "id": "c89f9335",
   "metadata": {},
   "source": [
    "### around"
   ]
  },
  {
   "cell_type": "code",
   "execution_count": 89,
   "id": "c2df561b",
   "metadata": {},
   "outputs": [
    {
     "name": "stdout",
     "output_type": "stream",
     "text": [
      "[2. 2.]\n",
      "[2. 3.]\n",
      "[-0.  0.  1.]\n"
     ]
    }
   ],
   "source": [
    "import numpy as np\n",
    "print(np.around([1.5,2.5],decimals=0))\n",
    "print(np.around([1.51,2.51],decimals=0))\n",
    "print(np.around([-0.5,0.5,0.567],decimals=0))"
   ]
  },
  {
   "cell_type": "code",
   "execution_count": 92,
   "id": "edb7ad84",
   "metadata": {},
   "outputs": [
    {
     "name": "stdout",
     "output_type": "stream",
     "text": [
      "[  1.     5.     5.45 125.   155.     0.56  25.53]\n",
      "[  0.   0.  10. 120. 160.   0.  30.]\n"
     ]
    }
   ],
   "source": [
    "import numpy as np\n",
    "a = np.array([1.0,5,5.45, 125,155, 0.56, 25.532])\n",
    "b = np.around(a,decimals=2)\n",
    "print(b)\n",
    "b = np.around(a,decimals=-1)# 如果為負數，代表小數點左邊的正整數將依序四捨五入進位。\n",
    "print(b)"
   ]
  },
  {
   "cell_type": "code",
   "execution_count": null,
   "id": "05c86b15",
   "metadata": {},
   "outputs": [],
   "source": []
  }
 ],
 "metadata": {
  "kernelspec": {
   "display_name": "Python 3 (ipykernel)",
   "language": "python",
   "name": "python3"
  },
  "language_info": {
   "codemirror_mode": {
    "name": "ipython",
    "version": 3
   },
   "file_extension": ".py",
   "mimetype": "text/x-python",
   "name": "python",
   "nbconvert_exporter": "python",
   "pygments_lexer": "ipython3",
   "version": "3.8.11"
  }
 },
 "nbformat": 4,
 "nbformat_minor": 5
}
